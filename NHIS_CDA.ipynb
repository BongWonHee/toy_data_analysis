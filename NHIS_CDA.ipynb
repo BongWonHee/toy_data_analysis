{
 "cells": [
  {
   "cell_type": "code",
   "execution_count": 1,
   "id": "78eb407e-0708-4964-bdc3-21426e130b08",
   "metadata": {
    "tags": []
   },
   "outputs": [],
   "source": [
    "import pandas as pd\n",
    "import numpy as np\n",
    "import matplotlib as mpl\n",
    "import matplotlib.pyplot as plt\n",
    "mpl.rc('font', family='Malgun Gothic')\n",
    "import seaborn as sns\n",
    "import scipy.stats as stats"
   ]
  },
  {
   "cell_type": "code",
   "execution_count": 2,
   "id": "4d53eaa6-a5ff-4c8d-9297-1975a33c7758",
   "metadata": {
    "tags": []
   },
   "outputs": [
    {
     "data": {
      "text/html": [
       "<div>\n",
       "<style scoped>\n",
       "    .dataframe tbody tr th:only-of-type {\n",
       "        vertical-align: middle;\n",
       "    }\n",
       "\n",
       "    .dataframe tbody tr th {\n",
       "        vertical-align: top;\n",
       "    }\n",
       "\n",
       "    .dataframe thead th {\n",
       "        text-align: right;\n",
       "    }\n",
       "</style>\n",
       "<table border=\"1\" class=\"dataframe\">\n",
       "  <thead>\n",
       "    <tr style=\"text-align: right;\">\n",
       "      <th></th>\n",
       "      <th>Unnamed: 0.1</th>\n",
       "      <th>Unnamed: 0</th>\n",
       "      <th>SICK_SYM1</th>\n",
       "      <th>OPRTN_YN</th>\n",
       "      <th>BTH_YYYY</th>\n",
       "      <th>VSHSP_DD_CNT</th>\n",
       "      <th>EDC_SBA</th>\n",
       "      <th>MDCARE_DD_CNT</th>\n",
       "      <th>EDC_INSUR_BRDN_AMT</th>\n",
       "    </tr>\n",
       "  </thead>\n",
       "  <tbody>\n",
       "    <tr>\n",
       "      <th>0</th>\n",
       "      <td>190</td>\n",
       "      <td>190</td>\n",
       "      <td>I10</td>\n",
       "      <td>0</td>\n",
       "      <td>1921LE</td>\n",
       "      <td>1</td>\n",
       "      <td>3000</td>\n",
       "      <td>1</td>\n",
       "      <td>4570</td>\n",
       "    </tr>\n",
       "    <tr>\n",
       "      <th>1</th>\n",
       "      <td>195</td>\n",
       "      <td>195</td>\n",
       "      <td>I10</td>\n",
       "      <td>0</td>\n",
       "      <td>1921LE</td>\n",
       "      <td>2</td>\n",
       "      <td>6000</td>\n",
       "      <td>2</td>\n",
       "      <td>12160</td>\n",
       "    </tr>\n",
       "    <tr>\n",
       "      <th>2</th>\n",
       "      <td>197</td>\n",
       "      <td>197</td>\n",
       "      <td>I10</td>\n",
       "      <td>0</td>\n",
       "      <td>1921LE</td>\n",
       "      <td>1</td>\n",
       "      <td>3000</td>\n",
       "      <td>1</td>\n",
       "      <td>4570</td>\n",
       "    </tr>\n",
       "    <tr>\n",
       "      <th>3</th>\n",
       "      <td>284</td>\n",
       "      <td>284</td>\n",
       "      <td>I10</td>\n",
       "      <td>0</td>\n",
       "      <td>1921LE</td>\n",
       "      <td>1</td>\n",
       "      <td>4200</td>\n",
       "      <td>1</td>\n",
       "      <td>10000</td>\n",
       "    </tr>\n",
       "    <tr>\n",
       "      <th>4</th>\n",
       "      <td>769</td>\n",
       "      <td>769</td>\n",
       "      <td>I10</td>\n",
       "      <td>0</td>\n",
       "      <td>1921LE</td>\n",
       "      <td>1</td>\n",
       "      <td>1500</td>\n",
       "      <td>1</td>\n",
       "      <td>5810</td>\n",
       "    </tr>\n",
       "    <tr>\n",
       "      <th>...</th>\n",
       "      <td>...</td>\n",
       "      <td>...</td>\n",
       "      <td>...</td>\n",
       "      <td>...</td>\n",
       "      <td>...</td>\n",
       "      <td>...</td>\n",
       "      <td>...</td>\n",
       "      <td>...</td>\n",
       "      <td>...</td>\n",
       "    </tr>\n",
       "    <tr>\n",
       "      <th>4624</th>\n",
       "      <td>124484</td>\n",
       "      <td>124484</td>\n",
       "      <td>I10</td>\n",
       "      <td>0</td>\n",
       "      <td>2005</td>\n",
       "      <td>1</td>\n",
       "      <td>3000</td>\n",
       "      <td>1</td>\n",
       "      <td>6050</td>\n",
       "    </tr>\n",
       "    <tr>\n",
       "      <th>4625</th>\n",
       "      <td>124485</td>\n",
       "      <td>124485</td>\n",
       "      <td>I10</td>\n",
       "      <td>0</td>\n",
       "      <td>2005</td>\n",
       "      <td>1</td>\n",
       "      <td>3000</td>\n",
       "      <td>1</td>\n",
       "      <td>6050</td>\n",
       "    </tr>\n",
       "    <tr>\n",
       "      <th>4626</th>\n",
       "      <td>124486</td>\n",
       "      <td>124486</td>\n",
       "      <td>I10</td>\n",
       "      <td>0</td>\n",
       "      <td>2005</td>\n",
       "      <td>1</td>\n",
       "      <td>3000</td>\n",
       "      <td>1</td>\n",
       "      <td>6050</td>\n",
       "    </tr>\n",
       "    <tr>\n",
       "      <th>4627</th>\n",
       "      <td>124495</td>\n",
       "      <td>124495</td>\n",
       "      <td>I10</td>\n",
       "      <td>0</td>\n",
       "      <td>2005</td>\n",
       "      <td>1</td>\n",
       "      <td>3000</td>\n",
       "      <td>1</td>\n",
       "      <td>6380</td>\n",
       "    </tr>\n",
       "    <tr>\n",
       "      <th>4628</th>\n",
       "      <td>124590</td>\n",
       "      <td>124590</td>\n",
       "      <td>I10</td>\n",
       "      <td>0</td>\n",
       "      <td>2005</td>\n",
       "      <td>1</td>\n",
       "      <td>1500</td>\n",
       "      <td>1</td>\n",
       "      <td>10780</td>\n",
       "    </tr>\n",
       "  </tbody>\n",
       "</table>\n",
       "<p>4629 rows × 9 columns</p>\n",
       "</div>"
      ],
      "text/plain": [
       "      Unnamed: 0.1  Unnamed: 0 SICK_SYM1  OPRTN_YN BTH_YYYY  VSHSP_DD_CNT  \\\n",
       "0              190         190       I10         0   1921LE             1   \n",
       "1              195         195       I10         0   1921LE             2   \n",
       "2              197         197       I10         0   1921LE             1   \n",
       "3              284         284       I10         0   1921LE             1   \n",
       "4              769         769       I10         0   1921LE             1   \n",
       "...            ...         ...       ...       ...      ...           ...   \n",
       "4624        124484      124484       I10         0     2005             1   \n",
       "4625        124485      124485       I10         0     2005             1   \n",
       "4626        124486      124486       I10         0     2005             1   \n",
       "4627        124495      124495       I10         0     2005             1   \n",
       "4628        124590      124590       I10         0     2005             1   \n",
       "\n",
       "      EDC_SBA  MDCARE_DD_CNT  EDC_INSUR_BRDN_AMT  \n",
       "0        3000              1                4570  \n",
       "1        6000              2               12160  \n",
       "2        3000              1                4570  \n",
       "3        4200              1               10000  \n",
       "4        1500              1                5810  \n",
       "...       ...            ...                 ...  \n",
       "4624     3000              1                6050  \n",
       "4625     3000              1                6050  \n",
       "4626     3000              1                6050  \n",
       "4627     3000              1                6380  \n",
       "4628     1500              1               10780  \n",
       "\n",
       "[4629 rows x 9 columns]"
      ]
     },
     "execution_count": 2,
     "metadata": {},
     "output_type": "execute_result"
    }
   ],
   "source": [
    "df_NHIS = pd.read_csv('./NBMQ_i10.csv')\n",
    "df_NHIS"
   ]
  },
  {
   "cell_type": "code",
   "execution_count": 3,
   "id": "b9566a66-c01b-44b3-88b8-1f72e50541ce",
   "metadata": {
    "tags": []
   },
   "outputs": [
    {
     "name": "stdout",
     "output_type": "stream",
     "text": [
      "<class 'pandas.core.frame.DataFrame'>\n",
      "RangeIndex: 4629 entries, 0 to 4628\n",
      "Data columns (total 9 columns):\n",
      " #   Column              Non-Null Count  Dtype \n",
      "---  ------              --------------  ----- \n",
      " 0   Unnamed: 0.1        4629 non-null   int64 \n",
      " 1   Unnamed: 0          4629 non-null   int64 \n",
      " 2   SICK_SYM1           4629 non-null   object\n",
      " 3   OPRTN_YN            4629 non-null   int64 \n",
      " 4   BTH_YYYY            4629 non-null   object\n",
      " 5   VSHSP_DD_CNT        4629 non-null   int64 \n",
      " 6   EDC_SBA             4629 non-null   int64 \n",
      " 7   MDCARE_DD_CNT       4629 non-null   int64 \n",
      " 8   EDC_INSUR_BRDN_AMT  4629 non-null   int64 \n",
      "dtypes: int64(7), object(2)\n",
      "memory usage: 325.6+ KB\n"
     ]
    }
   ],
   "source": [
    "df_NHIS.info()"
   ]
  },
  {
   "cell_type": "code",
   "execution_count": 4,
   "id": "08a35545-17ee-4147-9466-65cb6fa81628",
   "metadata": {
    "tags": []
   },
   "outputs": [],
   "source": [
    "df_NHIS_da = df_NHIS[['EDC_INSUR_BRDN_AMT','OPRTN_YN']]"
   ]
  },
  {
   "cell_type": "code",
   "execution_count": 5,
   "id": "af409e58-5db9-4c42-8058-a8982c7a7eb1",
   "metadata": {
    "tags": []
   },
   "outputs": [
    {
     "data": {
      "text/html": [
       "<div>\n",
       "<style scoped>\n",
       "    .dataframe tbody tr th:only-of-type {\n",
       "        vertical-align: middle;\n",
       "    }\n",
       "\n",
       "    .dataframe tbody tr th {\n",
       "        vertical-align: top;\n",
       "    }\n",
       "\n",
       "    .dataframe thead th {\n",
       "        text-align: right;\n",
       "    }\n",
       "</style>\n",
       "<table border=\"1\" class=\"dataframe\">\n",
       "  <thead>\n",
       "    <tr style=\"text-align: right;\">\n",
       "      <th></th>\n",
       "      <th>EDC_INSUR_BRDN_AMT</th>\n",
       "      <th>OPRTN_YN</th>\n",
       "    </tr>\n",
       "  </thead>\n",
       "  <tbody>\n",
       "    <tr>\n",
       "      <th>EDC_INSUR_BRDN_AMT</th>\n",
       "      <td>1.000000</td>\n",
       "      <td>0.191945</td>\n",
       "    </tr>\n",
       "    <tr>\n",
       "      <th>OPRTN_YN</th>\n",
       "      <td>0.191945</td>\n",
       "      <td>1.000000</td>\n",
       "    </tr>\n",
       "  </tbody>\n",
       "</table>\n",
       "</div>"
      ],
      "text/plain": [
       "                    EDC_INSUR_BRDN_AMT  OPRTN_YN\n",
       "EDC_INSUR_BRDN_AMT            1.000000  0.191945\n",
       "OPRTN_YN                      0.191945  1.000000"
      ]
     },
     "execution_count": 5,
     "metadata": {},
     "output_type": "execute_result"
    }
   ],
   "source": [
    "df_NHIS_da.corr()"
   ]
  },
  {
   "cell_type": "code",
   "execution_count": 6,
   "id": "0a834a75-1bf5-494d-af5c-b61f9e964bf5",
   "metadata": {
    "tags": []
   },
   "outputs": [
    {
     "data": {
      "text/plain": [
       "PearsonRResult(statistic=0.19194547999546901, pvalue=1.1662903985210721e-39)"
      ]
     },
     "execution_count": 6,
     "metadata": {},
     "output_type": "execute_result"
    }
   ],
   "source": [
    "stats.pearsonr(df_NHIS_da['EDC_INSUR_BRDN_AMT'],df_NHIS_da['OPRTN_YN'])"
   ]
  },
  {
   "cell_type": "code",
   "execution_count": 7,
   "id": "d7abbbd0-edd7-4a55-b894-72609a60a3f2",
   "metadata": {
    "tags": []
   },
   "outputs": [],
   "source": [
    "df_NHIS_db = df_NHIS[['EDC_INSUR_BRDN_AMT','VSHSP_DD_CNT']]"
   ]
  },
  {
   "cell_type": "code",
   "execution_count": 8,
   "id": "8c7644fd-46aa-4619-8cfc-6d24439e6297",
   "metadata": {
    "tags": []
   },
   "outputs": [
    {
     "data": {
      "text/html": [
       "<div>\n",
       "<style scoped>\n",
       "    .dataframe tbody tr th:only-of-type {\n",
       "        vertical-align: middle;\n",
       "    }\n",
       "\n",
       "    .dataframe tbody tr th {\n",
       "        vertical-align: top;\n",
       "    }\n",
       "\n",
       "    .dataframe thead th {\n",
       "        text-align: right;\n",
       "    }\n",
       "</style>\n",
       "<table border=\"1\" class=\"dataframe\">\n",
       "  <thead>\n",
       "    <tr style=\"text-align: right;\">\n",
       "      <th></th>\n",
       "      <th>EDC_INSUR_BRDN_AMT</th>\n",
       "      <th>VSHSP_DD_CNT</th>\n",
       "    </tr>\n",
       "  </thead>\n",
       "  <tbody>\n",
       "    <tr>\n",
       "      <th>EDC_INSUR_BRDN_AMT</th>\n",
       "      <td>1.000000</td>\n",
       "      <td>0.609756</td>\n",
       "    </tr>\n",
       "    <tr>\n",
       "      <th>VSHSP_DD_CNT</th>\n",
       "      <td>0.609756</td>\n",
       "      <td>1.000000</td>\n",
       "    </tr>\n",
       "  </tbody>\n",
       "</table>\n",
       "</div>"
      ],
      "text/plain": [
       "                    EDC_INSUR_BRDN_AMT  VSHSP_DD_CNT\n",
       "EDC_INSUR_BRDN_AMT            1.000000      0.609756\n",
       "VSHSP_DD_CNT                  0.609756      1.000000"
      ]
     },
     "execution_count": 8,
     "metadata": {},
     "output_type": "execute_result"
    }
   ],
   "source": [
    "df_NHIS_db.corr()"
   ]
  },
  {
   "cell_type": "code",
   "execution_count": 9,
   "id": "e6bb1656-47da-4901-9b02-d212c9ebb4b2",
   "metadata": {
    "tags": []
   },
   "outputs": [
    {
     "data": {
      "text/plain": [
       "PearsonRResult(statistic=0.6097561898955837, pvalue=0.0)"
      ]
     },
     "execution_count": 9,
     "metadata": {},
     "output_type": "execute_result"
    }
   ],
   "source": [
    "stats.pearsonr(df_NHIS_db['EDC_INSUR_BRDN_AMT'],df_NHIS_db['VSHSP_DD_CNT'])"
   ]
  },
  {
   "cell_type": "code",
   "execution_count": 10,
   "id": "97be43be-237e-4b3e-b4ad-f5875cad17db",
   "metadata": {
    "tags": []
   },
   "outputs": [],
   "source": [
    "df_NHIS_dc = df_NHIS[['EDC_INSUR_BRDN_AMT','EDC_SBA']]"
   ]
  },
  {
   "cell_type": "code",
   "execution_count": 11,
   "id": "6353b8be-d07a-4e3c-9a2d-09b1ff365f46",
   "metadata": {
    "tags": []
   },
   "outputs": [
    {
     "data": {
      "text/html": [
       "<div>\n",
       "<style scoped>\n",
       "    .dataframe tbody tr th:only-of-type {\n",
       "        vertical-align: middle;\n",
       "    }\n",
       "\n",
       "    .dataframe tbody tr th {\n",
       "        vertical-align: top;\n",
       "    }\n",
       "\n",
       "    .dataframe thead th {\n",
       "        text-align: right;\n",
       "    }\n",
       "</style>\n",
       "<table border=\"1\" class=\"dataframe\">\n",
       "  <thead>\n",
       "    <tr style=\"text-align: right;\">\n",
       "      <th></th>\n",
       "      <th>EDC_INSUR_BRDN_AMT</th>\n",
       "      <th>EDC_SBA</th>\n",
       "    </tr>\n",
       "  </thead>\n",
       "  <tbody>\n",
       "    <tr>\n",
       "      <th>EDC_INSUR_BRDN_AMT</th>\n",
       "      <td>1.000000</td>\n",
       "      <td>0.925724</td>\n",
       "    </tr>\n",
       "    <tr>\n",
       "      <th>EDC_SBA</th>\n",
       "      <td>0.925724</td>\n",
       "      <td>1.000000</td>\n",
       "    </tr>\n",
       "  </tbody>\n",
       "</table>\n",
       "</div>"
      ],
      "text/plain": [
       "                    EDC_INSUR_BRDN_AMT   EDC_SBA\n",
       "EDC_INSUR_BRDN_AMT            1.000000  0.925724\n",
       "EDC_SBA                       0.925724  1.000000"
      ]
     },
     "execution_count": 11,
     "metadata": {},
     "output_type": "execute_result"
    }
   ],
   "source": [
    "df_NHIS_dc.corr()"
   ]
  },
  {
   "cell_type": "code",
   "execution_count": 12,
   "id": "c79bc822-e435-4889-93eb-4eaae9233504",
   "metadata": {
    "tags": []
   },
   "outputs": [
    {
     "data": {
      "text/plain": [
       "PearsonRResult(statistic=0.925723592443032, pvalue=0.0)"
      ]
     },
     "execution_count": 12,
     "metadata": {},
     "output_type": "execute_result"
    }
   ],
   "source": [
    "stats.pearsonr(df_NHIS_dc['EDC_INSUR_BRDN_AMT'],df_NHIS_dc['EDC_SBA'])"
   ]
  },
  {
   "cell_type": "code",
   "execution_count": 13,
   "id": "cbb4f3c8-3d01-471a-87dc-075f14d0ec37",
   "metadata": {
    "tags": []
   },
   "outputs": [],
   "source": [
    "df_NHIS_dd = df_NHIS[['EDC_INSUR_BRDN_AMT','MDCARE_DD_CNT']]"
   ]
  },
  {
   "cell_type": "code",
   "execution_count": 14,
   "id": "e96b6979-de54-4c35-a987-31e88dd4f3ae",
   "metadata": {
    "tags": []
   },
   "outputs": [
    {
     "data": {
      "text/html": [
       "<div>\n",
       "<style scoped>\n",
       "    .dataframe tbody tr th:only-of-type {\n",
       "        vertical-align: middle;\n",
       "    }\n",
       "\n",
       "    .dataframe tbody tr th {\n",
       "        vertical-align: top;\n",
       "    }\n",
       "\n",
       "    .dataframe thead th {\n",
       "        text-align: right;\n",
       "    }\n",
       "</style>\n",
       "<table border=\"1\" class=\"dataframe\">\n",
       "  <thead>\n",
       "    <tr style=\"text-align: right;\">\n",
       "      <th></th>\n",
       "      <th>EDC_INSUR_BRDN_AMT</th>\n",
       "      <th>MDCARE_DD_CNT</th>\n",
       "    </tr>\n",
       "  </thead>\n",
       "  <tbody>\n",
       "    <tr>\n",
       "      <th>EDC_INSUR_BRDN_AMT</th>\n",
       "      <td>1.000000</td>\n",
       "      <td>0.241622</td>\n",
       "    </tr>\n",
       "    <tr>\n",
       "      <th>MDCARE_DD_CNT</th>\n",
       "      <td>0.241622</td>\n",
       "      <td>1.000000</td>\n",
       "    </tr>\n",
       "  </tbody>\n",
       "</table>\n",
       "</div>"
      ],
      "text/plain": [
       "                    EDC_INSUR_BRDN_AMT  MDCARE_DD_CNT\n",
       "EDC_INSUR_BRDN_AMT            1.000000       0.241622\n",
       "MDCARE_DD_CNT                 0.241622       1.000000"
      ]
     },
     "execution_count": 14,
     "metadata": {},
     "output_type": "execute_result"
    }
   ],
   "source": [
    "df_NHIS_dd.corr()"
   ]
  },
  {
   "cell_type": "code",
   "execution_count": 15,
   "id": "43a6dd8b-de97-4db8-a4b6-9ee392319172",
   "metadata": {
    "tags": []
   },
   "outputs": [
    {
     "data": {
      "text/plain": [
       "PearsonRResult(statistic=0.24162171579064923, pvalue=1.7574341125238046e-62)"
      ]
     },
     "execution_count": 15,
     "metadata": {},
     "output_type": "execute_result"
    }
   ],
   "source": [
    "stats.pearsonr(df_NHIS_dd['EDC_INSUR_BRDN_AMT'],df_NHIS_dd['MDCARE_DD_CNT'])"
   ]
  },
  {
   "cell_type": "code",
   "execution_count": null,
   "id": "099b8f4e-5898-4929-bb2b-443e47e6e699",
   "metadata": {},
   "outputs": [],
   "source": []
  }
 ],
 "metadata": {
  "kernelspec": {
   "display_name": "Python 3 (ipykernel)",
   "language": "python",
   "name": "python3"
  },
  "language_info": {
   "codemirror_mode": {
    "name": "ipython",
    "version": 3
   },
   "file_extension": ".py",
   "mimetype": "text/x-python",
   "name": "python",
   "nbconvert_exporter": "python",
   "pygments_lexer": "ipython3",
   "version": "3.11.3"
  }
 },
 "nbformat": 4,
 "nbformat_minor": 5
}
