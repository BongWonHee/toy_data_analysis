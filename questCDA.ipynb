{
 "cells": [
  {
   "cell_type": "code",
   "execution_count": 1,
   "id": "4315c62a-fde7-4e0e-9d40-8cf5e443bf52",
   "metadata": {
    "tags": []
   },
   "outputs": [],
   "source": [
    "import pandas as pd\n",
    "import numpy as np\n",
    "import matplotlib as mpl\n",
    "import matplotlib.pyplot as plt\n",
    "mpl.rc('font', family='Malgun Gothic')\n",
    "import seaborn as sns"
   ]
  },
  {
   "cell_type": "code",
   "execution_count": 2,
   "id": "e798c336-7629-4698-b2d9-483bb6f86a1e",
   "metadata": {
    "tags": []
   },
   "outputs": [
    {
     "data": {
      "text/html": [
       "<div>\n",
       "<style scoped>\n",
       "    .dataframe tbody tr th:only-of-type {\n",
       "        vertical-align: middle;\n",
       "    }\n",
       "\n",
       "    .dataframe tbody tr th {\n",
       "        vertical-align: top;\n",
       "    }\n",
       "\n",
       "    .dataframe thead th {\n",
       "        text-align: right;\n",
       "    }\n",
       "</style>\n",
       "<table border=\"1\" class=\"dataframe\">\n",
       "  <thead>\n",
       "    <tr style=\"text-align: right;\">\n",
       "      <th></th>\n",
       "      <th>Unnamed: 0</th>\n",
       "      <th>신장</th>\n",
       "      <th>체중</th>\n",
       "      <th>고혈압여부</th>\n",
       "      <th>당뇨여부</th>\n",
       "      <th>성별</th>\n",
       "      <th>연령</th>\n",
       "      <th>척추전방위증</th>\n",
       "      <th>디스크위치</th>\n",
       "      <th>PI</th>\n",
       "      <th>PT</th>\n",
       "      <th>Vaccum disc</th>\n",
       "      <th>입원기간</th>\n",
       "      <th>BMI</th>\n",
       "    </tr>\n",
       "  </thead>\n",
       "  <tbody>\n",
       "    <tr>\n",
       "      <th>0</th>\n",
       "      <td>0</td>\n",
       "      <td>1.63</td>\n",
       "      <td>60.3</td>\n",
       "      <td>0</td>\n",
       "      <td>0</td>\n",
       "      <td>2</td>\n",
       "      <td>66</td>\n",
       "      <td>0</td>\n",
       "      <td>4</td>\n",
       "      <td>51.6</td>\n",
       "      <td>36.6</td>\n",
       "      <td>0</td>\n",
       "      <td>2</td>\n",
       "      <td>22.695623</td>\n",
       "    </tr>\n",
       "    <tr>\n",
       "      <th>1</th>\n",
       "      <td>1</td>\n",
       "      <td>1.71</td>\n",
       "      <td>71.7</td>\n",
       "      <td>0</td>\n",
       "      <td>0</td>\n",
       "      <td>1</td>\n",
       "      <td>47</td>\n",
       "      <td>0</td>\n",
       "      <td>4</td>\n",
       "      <td>40.8</td>\n",
       "      <td>7.2</td>\n",
       "      <td>0</td>\n",
       "      <td>1</td>\n",
       "      <td>24.520365</td>\n",
       "    </tr>\n",
       "    <tr>\n",
       "      <th>2</th>\n",
       "      <td>2</td>\n",
       "      <td>1.78</td>\n",
       "      <td>77.1</td>\n",
       "      <td>0</td>\n",
       "      <td>0</td>\n",
       "      <td>1</td>\n",
       "      <td>39</td>\n",
       "      <td>0</td>\n",
       "      <td>4</td>\n",
       "      <td>67.5</td>\n",
       "      <td>27.3</td>\n",
       "      <td>0</td>\n",
       "      <td>1</td>\n",
       "      <td>24.334049</td>\n",
       "    </tr>\n",
       "    <tr>\n",
       "      <th>3</th>\n",
       "      <td>3</td>\n",
       "      <td>1.74</td>\n",
       "      <td>74.2</td>\n",
       "      <td>1</td>\n",
       "      <td>0</td>\n",
       "      <td>1</td>\n",
       "      <td>40</td>\n",
       "      <td>0</td>\n",
       "      <td>4</td>\n",
       "      <td>49.2</td>\n",
       "      <td>18.7</td>\n",
       "      <td>0</td>\n",
       "      <td>1</td>\n",
       "      <td>24.507861</td>\n",
       "    </tr>\n",
       "    <tr>\n",
       "      <th>4</th>\n",
       "      <td>4</td>\n",
       "      <td>1.83</td>\n",
       "      <td>80.7</td>\n",
       "      <td>1</td>\n",
       "      <td>0</td>\n",
       "      <td>1</td>\n",
       "      <td>42</td>\n",
       "      <td>0</td>\n",
       "      <td>4</td>\n",
       "      <td>58.8</td>\n",
       "      <td>14.7</td>\n",
       "      <td>0</td>\n",
       "      <td>2</td>\n",
       "      <td>24.097465</td>\n",
       "    </tr>\n",
       "    <tr>\n",
       "      <th>5</th>\n",
       "      <td>5</td>\n",
       "      <td>1.64</td>\n",
       "      <td>60.8</td>\n",
       "      <td>0</td>\n",
       "      <td>0</td>\n",
       "      <td>2</td>\n",
       "      <td>60</td>\n",
       "      <td>0</td>\n",
       "      <td>4</td>\n",
       "      <td>41.8</td>\n",
       "      <td>23.6</td>\n",
       "      <td>0</td>\n",
       "      <td>1</td>\n",
       "      <td>22.605592</td>\n",
       "    </tr>\n",
       "    <tr>\n",
       "      <th>6</th>\n",
       "      <td>6</td>\n",
       "      <td>1.75</td>\n",
       "      <td>74.8</td>\n",
       "      <td>0</td>\n",
       "      <td>1</td>\n",
       "      <td>1</td>\n",
       "      <td>47</td>\n",
       "      <td>0</td>\n",
       "      <td>4</td>\n",
       "      <td>41.9</td>\n",
       "      <td>17.4</td>\n",
       "      <td>1</td>\n",
       "      <td>1</td>\n",
       "      <td>24.424490</td>\n",
       "    </tr>\n",
       "    <tr>\n",
       "      <th>7</th>\n",
       "      <td>7</td>\n",
       "      <td>1.83</td>\n",
       "      <td>81.2</td>\n",
       "      <td>0</td>\n",
       "      <td>0</td>\n",
       "      <td>1</td>\n",
       "      <td>55</td>\n",
       "      <td>0</td>\n",
       "      <td>4</td>\n",
       "      <td>50.6</td>\n",
       "      <td>18.5</td>\n",
       "      <td>0</td>\n",
       "      <td>1</td>\n",
       "      <td>24.246768</td>\n",
       "    </tr>\n",
       "    <tr>\n",
       "      <th>8</th>\n",
       "      <td>8</td>\n",
       "      <td>1.68</td>\n",
       "      <td>69.2</td>\n",
       "      <td>0</td>\n",
       "      <td>0</td>\n",
       "      <td>1</td>\n",
       "      <td>52</td>\n",
       "      <td>0</td>\n",
       "      <td>4</td>\n",
       "      <td>48.8</td>\n",
       "      <td>13.6</td>\n",
       "      <td>1</td>\n",
       "      <td>1</td>\n",
       "      <td>24.518141</td>\n",
       "    </tr>\n",
       "    <tr>\n",
       "      <th>9</th>\n",
       "      <td>9</td>\n",
       "      <td>1.60</td>\n",
       "      <td>63.0</td>\n",
       "      <td>0</td>\n",
       "      <td>0</td>\n",
       "      <td>1</td>\n",
       "      <td>79</td>\n",
       "      <td>0</td>\n",
       "      <td>4</td>\n",
       "      <td>38.9</td>\n",
       "      <td>14.7</td>\n",
       "      <td>0</td>\n",
       "      <td>2</td>\n",
       "      <td>24.609375</td>\n",
       "    </tr>\n",
       "  </tbody>\n",
       "</table>\n",
       "</div>"
      ],
      "text/plain": [
       "   Unnamed: 0    신장    체중  고혈압여부  당뇨여부  성별  연령  척추전방위증  디스크위치    PI    PT  \\\n",
       "0           0  1.63  60.3      0     0   2  66       0      4  51.6  36.6   \n",
       "1           1  1.71  71.7      0     0   1  47       0      4  40.8   7.2   \n",
       "2           2  1.78  77.1      0     0   1  39       0      4  67.5  27.3   \n",
       "3           3  1.74  74.2      1     0   1  40       0      4  49.2  18.7   \n",
       "4           4  1.83  80.7      1     0   1  42       0      4  58.8  14.7   \n",
       "5           5  1.64  60.8      0     0   2  60       0      4  41.8  23.6   \n",
       "6           6  1.75  74.8      0     1   1  47       0      4  41.9  17.4   \n",
       "7           7  1.83  81.2      0     0   1  55       0      4  50.6  18.5   \n",
       "8           8  1.68  69.2      0     0   1  52       0      4  48.8  13.6   \n",
       "9           9  1.60  63.0      0     0   1  79       0      4  38.9  14.7   \n",
       "\n",
       "   Vaccum disc  입원기간        BMI  \n",
       "0            0     2  22.695623  \n",
       "1            0     1  24.520365  \n",
       "2            0     1  24.334049  \n",
       "3            0     1  24.507861  \n",
       "4            0     2  24.097465  \n",
       "5            0     1  22.605592  \n",
       "6            1     1  24.424490  \n",
       "7            0     1  24.246768  \n",
       "8            1     1  24.518141  \n",
       "9            0     2  24.609375  "
      ]
     },
     "execution_count": 2,
     "metadata": {},
     "output_type": "execute_result"
    }
   ],
   "source": [
    "df_ROS = pd.read_csv('./ROSquestdata.csv')\n",
    "df_ROS[:10]"
   ]
  },
  {
   "cell_type": "code",
   "execution_count": 3,
   "id": "0b5000dc-ea7c-4ade-88fc-f175c87545bb",
   "metadata": {
    "tags": []
   },
   "outputs": [],
   "source": [
    "df_ROS = df_ROS.drop(columns='Unnamed: 0')"
   ]
  },
  {
   "cell_type": "code",
   "execution_count": 4,
   "id": "9225a350-c086-44ce-aa27-236541f3bd5d",
   "metadata": {
    "tags": []
   },
   "outputs": [
    {
     "name": "stdout",
     "output_type": "stream",
     "text": [
      "<class 'pandas.core.frame.DataFrame'>\n",
      "RangeIndex: 1890 entries, 0 to 1889\n",
      "Data columns (total 13 columns):\n",
      " #   Column       Non-Null Count  Dtype  \n",
      "---  ------       --------------  -----  \n",
      " 0   신장           1890 non-null   float64\n",
      " 1   체중           1890 non-null   float64\n",
      " 2   고혈압여부        1890 non-null   int64  \n",
      " 3   당뇨여부         1890 non-null   int64  \n",
      " 4   성별           1890 non-null   int64  \n",
      " 5   연령           1890 non-null   int64  \n",
      " 6   척추전방위증       1890 non-null   int64  \n",
      " 7   디스크위치        1890 non-null   int64  \n",
      " 8   PI           1890 non-null   float64\n",
      " 9   PT           1890 non-null   float64\n",
      " 10  Vaccum disc  1890 non-null   int64  \n",
      " 11  입원기간         1890 non-null   int64  \n",
      " 12  BMI          1890 non-null   float64\n",
      "dtypes: float64(5), int64(8)\n",
      "memory usage: 192.1 KB\n"
     ]
    }
   ],
   "source": [
    "df_ROS.info()"
   ]
  },
  {
   "cell_type": "code",
   "execution_count": 5,
   "id": "598eb62b-5c9a-455d-9071-c6cf09ed5726",
   "metadata": {
    "tags": []
   },
   "outputs": [],
   "source": [
    "df_ROS['Vaccum disc'] = df_ROS['Vaccum disc'].astype(object)"
   ]
  },
  {
   "cell_type": "markdown",
   "id": "fb69009f-fbef-48bc-b48d-2f661adf8fc8",
   "metadata": {},
   "source": [
    "### 설정 변수에 따른 입원기간 확인\n",
    "    - 성별 : 성별은 입원기간에 상관관계가 있다. (pvalue=0.02094153582671839)\n",
    "    - Vaccum disc : Vaccum disc 와 입원기간은 상관관계가 없다.(pvalue=0.2552260504137014)\n",
    "    - 디스크위치 : 디스크위치에 따른 입원기간은 상관관계가 없다.(pvalue=0.835230775207565)\n",
    "    - 연령 : 연령에 따른 입원기간의 상관관계가 있다. (pvalue=0.029203834197053385)\n",
    "    - 신장 : 신장에 따른 입원기간의 상관관계가 있다.(pvalue=0.04748161479152065)\n",
    "    - 체중 : 체중에 따른 입원기간의 상관관계가 있다.(pvalue=0.01987223464009912)\n",
    "    - 고혈압여부 : 고혈압여부에 따른 입원기간의 상관관계가 있다.(pvalue=0.07613024933800935)\n",
    "    - 당뇨여부 : 당뇨여부에 따른 입원기간의 상관관계가 없다.(pvalue=0.34861241786231345)\n",
    "    - 척추전방위증 : 척추전방위증에 따른 입원기간의 상관관계가 없다.(pvalue=0.34557643733933774)\n",
    "    - PI : PI에 따른 입원기간의 상관관계가 없다.(pvalue=0.6809981071755282)\n",
    "    - PT : PT에 따른 입원기간의 상관관계가 없다.(pvalue=0.6188437581048726)\n",
    "    - BMI : BMI에 따른 입원기간의 상관관계가 없다.(pvalue=0.15751063851862063)"
   ]
  },
  {
   "cell_type": "code",
   "execution_count": 6,
   "id": "54d5e739-78f5-40cd-843d-cdd06bd48673",
   "metadata": {
    "tags": []
   },
   "outputs": [],
   "source": [
    "df_ROS_ds = df_ROS[['입원기간','성별']]"
   ]
  },
  {
   "cell_type": "code",
   "execution_count": 7,
   "id": "7f7bad74-611d-4a6b-99e0-6902c1f776f6",
   "metadata": {
    "tags": []
   },
   "outputs": [],
   "source": [
    "import scipy.stats as stats"
   ]
  },
  {
   "cell_type": "code",
   "execution_count": 8,
   "id": "d25d1925-aae5-4771-9df0-4e490c82e3be",
   "metadata": {
    "tags": []
   },
   "outputs": [
    {
     "data": {
      "text/html": [
       "<div>\n",
       "<style scoped>\n",
       "    .dataframe tbody tr th:only-of-type {\n",
       "        vertical-align: middle;\n",
       "    }\n",
       "\n",
       "    .dataframe tbody tr th {\n",
       "        vertical-align: top;\n",
       "    }\n",
       "\n",
       "    .dataframe thead th {\n",
       "        text-align: right;\n",
       "    }\n",
       "</style>\n",
       "<table border=\"1\" class=\"dataframe\">\n",
       "  <thead>\n",
       "    <tr style=\"text-align: right;\">\n",
       "      <th></th>\n",
       "      <th>입원기간</th>\n",
       "      <th>성별</th>\n",
       "    </tr>\n",
       "  </thead>\n",
       "  <tbody>\n",
       "    <tr>\n",
       "      <th>입원기간</th>\n",
       "      <td>1.000000</td>\n",
       "      <td>0.053111</td>\n",
       "    </tr>\n",
       "    <tr>\n",
       "      <th>성별</th>\n",
       "      <td>0.053111</td>\n",
       "      <td>1.000000</td>\n",
       "    </tr>\n",
       "  </tbody>\n",
       "</table>\n",
       "</div>"
      ],
      "text/plain": [
       "          입원기간        성별\n",
       "입원기간  1.000000  0.053111\n",
       "성별    0.053111  1.000000"
      ]
     },
     "execution_count": 8,
     "metadata": {},
     "output_type": "execute_result"
    }
   ],
   "source": [
    "df_ROS_ds.corr()"
   ]
  },
  {
   "cell_type": "code",
   "execution_count": 9,
   "id": "ebcb9ca5-7336-4cbc-9e33-d26f996f42fd",
   "metadata": {
    "tags": []
   },
   "outputs": [
    {
     "data": {
      "text/plain": [
       "PearsonRResult(statistic=0.0531105437023057, pvalue=0.02094153582671839)"
      ]
     },
     "execution_count": 9,
     "metadata": {},
     "output_type": "execute_result"
    }
   ],
   "source": [
    "stats.pearsonr(df_ROS_ds['입원기간'],df_ROS_ds['성별'])"
   ]
  },
  {
   "cell_type": "code",
   "execution_count": 10,
   "id": "1cc3a0d6-8b2d-4823-8c9a-176373b645ea",
   "metadata": {
    "tags": []
   },
   "outputs": [],
   "source": [
    "df_ROS_dp = df_ROS[['입원기간','Vaccum disc']]"
   ]
  },
  {
   "cell_type": "code",
   "execution_count": 11,
   "id": "2ee6f5a5-5994-42de-81fc-34ce3d9d41b7",
   "metadata": {
    "tags": []
   },
   "outputs": [
    {
     "data": {
      "text/plain": [
       "ShapiroResult(statistic=0.24243813753128052, pvalue=0.0)"
      ]
     },
     "execution_count": 11,
     "metadata": {},
     "output_type": "execute_result"
    }
   ],
   "source": [
    "stats.shapiro(df_ROS_dp['Vaccum disc'])"
   ]
  },
  {
   "cell_type": "code",
   "execution_count": 12,
   "id": "82f0f230-dda3-494c-b516-509d8efd26b5",
   "metadata": {
    "tags": []
   },
   "outputs": [
    {
     "data": {
      "text/plain": [
       "SignificanceResult(statistic=0.02618350817114048, pvalue=0.2552260504137014)"
      ]
     },
     "execution_count": 12,
     "metadata": {},
     "output_type": "execute_result"
    }
   ],
   "source": [
    "stats.spearmanr(df_ROS_dp['입원기간'],df_ROS_dp['Vaccum disc'])"
   ]
  },
  {
   "cell_type": "code",
   "execution_count": 13,
   "id": "8a271264-611d-4b0d-9761-b86a83a03d89",
   "metadata": {
    "tags": []
   },
   "outputs": [],
   "source": [
    "df_ROS_dd = df_ROS[['입원기간','디스크위치']]"
   ]
  },
  {
   "cell_type": "code",
   "execution_count": 14,
   "id": "79add1ad-be5a-433d-b992-3db91e01bb29",
   "metadata": {
    "tags": []
   },
   "outputs": [
    {
     "data": {
      "text/plain": [
       "ShapiroResult(statistic=0.1501942276954651, pvalue=0.0)"
      ]
     },
     "execution_count": 14,
     "metadata": {},
     "output_type": "execute_result"
    }
   ],
   "source": [
    "stats.shapiro(df_ROS_dd['디스크위치'])"
   ]
  },
  {
   "cell_type": "code",
   "execution_count": 15,
   "id": "d968ee22-d2cf-4bc7-b9be-074e67e3311e",
   "metadata": {
    "tags": []
   },
   "outputs": [
    {
     "data": {
      "text/plain": [
       "PearsonRResult(statistic=-0.00478754119690709, pvalue=0.835230775207565)"
      ]
     },
     "execution_count": 15,
     "metadata": {},
     "output_type": "execute_result"
    }
   ],
   "source": [
    "stats.pearsonr(df_ROS_dd['입원기간'],df_ROS_dd['디스크위치'])"
   ]
  },
  {
   "cell_type": "code",
   "execution_count": 16,
   "id": "f53ca492-7e4d-4fac-9db7-dbaa351e2ee5",
   "metadata": {
    "tags": []
   },
   "outputs": [],
   "source": [
    "df_ROS_dy = df_ROS[['입원기간','연령']]"
   ]
  },
  {
   "cell_type": "code",
   "execution_count": 17,
   "id": "e09373d0-626b-45d5-a92b-562b27f4ab4b",
   "metadata": {
    "tags": []
   },
   "outputs": [
    {
     "data": {
      "text/html": [
       "<div>\n",
       "<style scoped>\n",
       "    .dataframe tbody tr th:only-of-type {\n",
       "        vertical-align: middle;\n",
       "    }\n",
       "\n",
       "    .dataframe tbody tr th {\n",
       "        vertical-align: top;\n",
       "    }\n",
       "\n",
       "    .dataframe thead th {\n",
       "        text-align: right;\n",
       "    }\n",
       "</style>\n",
       "<table border=\"1\" class=\"dataframe\">\n",
       "  <thead>\n",
       "    <tr style=\"text-align: right;\">\n",
       "      <th></th>\n",
       "      <th>입원기간</th>\n",
       "      <th>연령</th>\n",
       "    </tr>\n",
       "  </thead>\n",
       "  <tbody>\n",
       "    <tr>\n",
       "      <th>입원기간</th>\n",
       "      <td>1.000000</td>\n",
       "      <td>0.050163</td>\n",
       "    </tr>\n",
       "    <tr>\n",
       "      <th>연령</th>\n",
       "      <td>0.050163</td>\n",
       "      <td>1.000000</td>\n",
       "    </tr>\n",
       "  </tbody>\n",
       "</table>\n",
       "</div>"
      ],
      "text/plain": [
       "          입원기간        연령\n",
       "입원기간  1.000000  0.050163\n",
       "연령    0.050163  1.000000"
      ]
     },
     "execution_count": 17,
     "metadata": {},
     "output_type": "execute_result"
    }
   ],
   "source": [
    "df_ROS_dy.corr()"
   ]
  },
  {
   "cell_type": "code",
   "execution_count": 18,
   "id": "fdf268f6-6c08-4d57-a203-6077ec0d928f",
   "metadata": {
    "tags": []
   },
   "outputs": [
    {
     "data": {
      "text/plain": [
       "PearsonRResult(statistic=0.05016302482665921, pvalue=0.029203834197053385)"
      ]
     },
     "execution_count": 18,
     "metadata": {},
     "output_type": "execute_result"
    }
   ],
   "source": [
    "stats.pearsonr(df_ROS_dy['입원기간'],df_ROS_dy['연령'])"
   ]
  },
  {
   "cell_type": "code",
   "execution_count": 19,
   "id": "db8584b1-4333-4002-8fe9-a269c3875dd9",
   "metadata": {
    "tags": []
   },
   "outputs": [],
   "source": [
    "df_ROS_dt = df_ROS[['입원기간','신장']]"
   ]
  },
  {
   "cell_type": "code",
   "execution_count": 20,
   "id": "6139c4f6-96b6-4f6b-af2c-53a51245e1ca",
   "metadata": {
    "tags": []
   },
   "outputs": [
    {
     "data": {
      "text/html": [
       "<div>\n",
       "<style scoped>\n",
       "    .dataframe tbody tr th:only-of-type {\n",
       "        vertical-align: middle;\n",
       "    }\n",
       "\n",
       "    .dataframe tbody tr th {\n",
       "        vertical-align: top;\n",
       "    }\n",
       "\n",
       "    .dataframe thead th {\n",
       "        text-align: right;\n",
       "    }\n",
       "</style>\n",
       "<table border=\"1\" class=\"dataframe\">\n",
       "  <thead>\n",
       "    <tr style=\"text-align: right;\">\n",
       "      <th></th>\n",
       "      <th>입원기간</th>\n",
       "      <th>신장</th>\n",
       "    </tr>\n",
       "  </thead>\n",
       "  <tbody>\n",
       "    <tr>\n",
       "      <th>입원기간</th>\n",
       "      <td>1.000000</td>\n",
       "      <td>-0.045596</td>\n",
       "    </tr>\n",
       "    <tr>\n",
       "      <th>신장</th>\n",
       "      <td>-0.045596</td>\n",
       "      <td>1.000000</td>\n",
       "    </tr>\n",
       "  </tbody>\n",
       "</table>\n",
       "</div>"
      ],
      "text/plain": [
       "          입원기간        신장\n",
       "입원기간  1.000000 -0.045596\n",
       "신장   -0.045596  1.000000"
      ]
     },
     "execution_count": 20,
     "metadata": {},
     "output_type": "execute_result"
    }
   ],
   "source": [
    "df_ROS_dt.corr()"
   ]
  },
  {
   "cell_type": "code",
   "execution_count": 21,
   "id": "3df0862f-c50d-4cff-83fd-ffcd89f2d020",
   "metadata": {
    "tags": []
   },
   "outputs": [
    {
     "data": {
      "text/plain": [
       "PearsonRResult(statistic=-0.045596297817753303, pvalue=0.04748161479152065)"
      ]
     },
     "execution_count": 21,
     "metadata": {},
     "output_type": "execute_result"
    }
   ],
   "source": [
    "stats.pearsonr(df_ROS_dt['입원기간'],df_ROS_dt['신장'])"
   ]
  },
  {
   "cell_type": "code",
   "execution_count": 22,
   "id": "5d246490-909f-4023-a4dc-12d0f846fd24",
   "metadata": {
    "tags": []
   },
   "outputs": [],
   "source": [
    "df_ROS_dw = df_ROS[['입원기간','체중']]"
   ]
  },
  {
   "cell_type": "code",
   "execution_count": 23,
   "id": "e2246bdc-f322-460c-abda-88331b029b80",
   "metadata": {
    "tags": []
   },
   "outputs": [
    {
     "data": {
      "text/html": [
       "<div>\n",
       "<style scoped>\n",
       "    .dataframe tbody tr th:only-of-type {\n",
       "        vertical-align: middle;\n",
       "    }\n",
       "\n",
       "    .dataframe tbody tr th {\n",
       "        vertical-align: top;\n",
       "    }\n",
       "\n",
       "    .dataframe thead th {\n",
       "        text-align: right;\n",
       "    }\n",
       "</style>\n",
       "<table border=\"1\" class=\"dataframe\">\n",
       "  <thead>\n",
       "    <tr style=\"text-align: right;\">\n",
       "      <th></th>\n",
       "      <th>입원기간</th>\n",
       "      <th>체중</th>\n",
       "    </tr>\n",
       "  </thead>\n",
       "  <tbody>\n",
       "    <tr>\n",
       "      <th>입원기간</th>\n",
       "      <td>1.000000</td>\n",
       "      <td>-0.053563</td>\n",
       "    </tr>\n",
       "    <tr>\n",
       "      <th>체중</th>\n",
       "      <td>-0.053563</td>\n",
       "      <td>1.000000</td>\n",
       "    </tr>\n",
       "  </tbody>\n",
       "</table>\n",
       "</div>"
      ],
      "text/plain": [
       "          입원기간        체중\n",
       "입원기간  1.000000 -0.053563\n",
       "체중   -0.053563  1.000000"
      ]
     },
     "execution_count": 23,
     "metadata": {},
     "output_type": "execute_result"
    }
   ],
   "source": [
    "df_ROS_dw.corr()"
   ]
  },
  {
   "cell_type": "code",
   "execution_count": 24,
   "id": "bd1e990f-dc76-4394-b6ce-a85a5217ab86",
   "metadata": {
    "tags": []
   },
   "outputs": [
    {
     "data": {
      "text/plain": [
       "PearsonRResult(statistic=-0.05356335477791605, pvalue=0.01987223464009912)"
      ]
     },
     "execution_count": 24,
     "metadata": {},
     "output_type": "execute_result"
    }
   ],
   "source": [
    "stats.pearsonr(df_ROS_dw['입원기간'],df_ROS_dw['체중'])"
   ]
  },
  {
   "cell_type": "code",
   "execution_count": 26,
   "id": "a995ecbd-a80c-4e46-ad13-4b7d54a72028",
   "metadata": {
    "tags": []
   },
   "outputs": [],
   "source": [
    "df_ROS_blood = df_ROS[['입원기간','고혈압여부']]"
   ]
  },
  {
   "cell_type": "code",
   "execution_count": 27,
   "id": "b76b707d-0d83-4915-aaf6-fba82b711de4",
   "metadata": {
    "tags": []
   },
   "outputs": [
    {
     "data": {
      "text/html": [
       "<div>\n",
       "<style scoped>\n",
       "    .dataframe tbody tr th:only-of-type {\n",
       "        vertical-align: middle;\n",
       "    }\n",
       "\n",
       "    .dataframe tbody tr th {\n",
       "        vertical-align: top;\n",
       "    }\n",
       "\n",
       "    .dataframe thead th {\n",
       "        text-align: right;\n",
       "    }\n",
       "</style>\n",
       "<table border=\"1\" class=\"dataframe\">\n",
       "  <thead>\n",
       "    <tr style=\"text-align: right;\">\n",
       "      <th></th>\n",
       "      <th>입원기간</th>\n",
       "      <th>고혈압여부</th>\n",
       "    </tr>\n",
       "  </thead>\n",
       "  <tbody>\n",
       "    <tr>\n",
       "      <th>입원기간</th>\n",
       "      <td>1.000000</td>\n",
       "      <td>0.040807</td>\n",
       "    </tr>\n",
       "    <tr>\n",
       "      <th>고혈압여부</th>\n",
       "      <td>0.040807</td>\n",
       "      <td>1.000000</td>\n",
       "    </tr>\n",
       "  </tbody>\n",
       "</table>\n",
       "</div>"
      ],
      "text/plain": [
       "           입원기간     고혈압여부\n",
       "입원기간   1.000000  0.040807\n",
       "고혈압여부  0.040807  1.000000"
      ]
     },
     "execution_count": 27,
     "metadata": {},
     "output_type": "execute_result"
    }
   ],
   "source": [
    "df_ROS_blood.corr()"
   ]
  },
  {
   "cell_type": "code",
   "execution_count": 28,
   "id": "d9389af4-4945-425b-a60e-46741424912a",
   "metadata": {
    "tags": []
   },
   "outputs": [
    {
     "data": {
      "text/plain": [
       "PearsonRResult(statistic=0.04080655350935071, pvalue=0.07613024933800935)"
      ]
     },
     "execution_count": 28,
     "metadata": {},
     "output_type": "execute_result"
    }
   ],
   "source": [
    "stats.pearsonr(df_ROS_blood['입원기간'],df_ROS_blood['고혈압여부'])"
   ]
  },
  {
   "cell_type": "code",
   "execution_count": 29,
   "id": "df8706c8-7bb1-4064-823d-2c3d7a38a615",
   "metadata": {
    "tags": []
   },
   "outputs": [],
   "source": [
    "df_ROS_sugar = df_ROS[['입원기간','당뇨여부']]"
   ]
  },
  {
   "cell_type": "code",
   "execution_count": 30,
   "id": "8976ac21-61ec-424a-a3e3-e00d0ea62e0b",
   "metadata": {
    "tags": []
   },
   "outputs": [
    {
     "data": {
      "text/html": [
       "<div>\n",
       "<style scoped>\n",
       "    .dataframe tbody tr th:only-of-type {\n",
       "        vertical-align: middle;\n",
       "    }\n",
       "\n",
       "    .dataframe tbody tr th {\n",
       "        vertical-align: top;\n",
       "    }\n",
       "\n",
       "    .dataframe thead th {\n",
       "        text-align: right;\n",
       "    }\n",
       "</style>\n",
       "<table border=\"1\" class=\"dataframe\">\n",
       "  <thead>\n",
       "    <tr style=\"text-align: right;\">\n",
       "      <th></th>\n",
       "      <th>입원기간</th>\n",
       "      <th>당뇨여부</th>\n",
       "    </tr>\n",
       "  </thead>\n",
       "  <tbody>\n",
       "    <tr>\n",
       "      <th>입원기간</th>\n",
       "      <td>1.000000</td>\n",
       "      <td>0.021571</td>\n",
       "    </tr>\n",
       "    <tr>\n",
       "      <th>당뇨여부</th>\n",
       "      <td>0.021571</td>\n",
       "      <td>1.000000</td>\n",
       "    </tr>\n",
       "  </tbody>\n",
       "</table>\n",
       "</div>"
      ],
      "text/plain": [
       "          입원기간      당뇨여부\n",
       "입원기간  1.000000  0.021571\n",
       "당뇨여부  0.021571  1.000000"
      ]
     },
     "execution_count": 30,
     "metadata": {},
     "output_type": "execute_result"
    }
   ],
   "source": [
    "df_ROS_sugar.corr()"
   ]
  },
  {
   "cell_type": "code",
   "execution_count": 31,
   "id": "831c07c7-2f56-49bc-b0c7-e0ee8c048a63",
   "metadata": {
    "tags": []
   },
   "outputs": [
    {
     "data": {
      "text/plain": [
       "PearsonRResult(statistic=0.021571346138355898, pvalue=0.34861241786231345)"
      ]
     },
     "execution_count": 31,
     "metadata": {},
     "output_type": "execute_result"
    }
   ],
   "source": [
    "stats.pearsonr(df_ROS_sugar['입원기간'],df_ROS_sugar['당뇨여부'])"
   ]
  },
  {
   "cell_type": "code",
   "execution_count": 32,
   "id": "2fc0a388-d8f0-4f53-9c43-ee9d308b1516",
   "metadata": {
    "tags": []
   },
   "outputs": [],
   "source": [
    "df_ROS_spondylolisthesis = df_ROS[['입원기간','척추전방위증']]"
   ]
  },
  {
   "cell_type": "code",
   "execution_count": 33,
   "id": "481cae87-1611-4bc4-b159-b7c1d552696a",
   "metadata": {
    "tags": []
   },
   "outputs": [
    {
     "data": {
      "text/html": [
       "<div>\n",
       "<style scoped>\n",
       "    .dataframe tbody tr th:only-of-type {\n",
       "        vertical-align: middle;\n",
       "    }\n",
       "\n",
       "    .dataframe tbody tr th {\n",
       "        vertical-align: top;\n",
       "    }\n",
       "\n",
       "    .dataframe thead th {\n",
       "        text-align: right;\n",
       "    }\n",
       "</style>\n",
       "<table border=\"1\" class=\"dataframe\">\n",
       "  <thead>\n",
       "    <tr style=\"text-align: right;\">\n",
       "      <th></th>\n",
       "      <th>입원기간</th>\n",
       "      <th>척추전방위증</th>\n",
       "    </tr>\n",
       "  </thead>\n",
       "  <tbody>\n",
       "    <tr>\n",
       "      <th>입원기간</th>\n",
       "      <td>1.000000</td>\n",
       "      <td>0.021708</td>\n",
       "    </tr>\n",
       "    <tr>\n",
       "      <th>척추전방위증</th>\n",
       "      <td>0.021708</td>\n",
       "      <td>1.000000</td>\n",
       "    </tr>\n",
       "  </tbody>\n",
       "</table>\n",
       "</div>"
      ],
      "text/plain": [
       "            입원기간    척추전방위증\n",
       "입원기간    1.000000  0.021708\n",
       "척추전방위증  0.021708  1.000000"
      ]
     },
     "execution_count": 33,
     "metadata": {},
     "output_type": "execute_result"
    }
   ],
   "source": [
    "df_ROS_spondylolisthesis.corr()"
   ]
  },
  {
   "cell_type": "code",
   "execution_count": 34,
   "id": "bffac80d-33de-4d96-b531-f4be311d1d85",
   "metadata": {
    "tags": []
   },
   "outputs": [
    {
     "data": {
      "text/plain": [
       "PearsonRResult(statistic=0.021707563963577578, pvalue=0.34557643733933774)"
      ]
     },
     "execution_count": 34,
     "metadata": {},
     "output_type": "execute_result"
    }
   ],
   "source": [
    "stats.pearsonr(df_ROS_spondylolisthesis['입원기간'],df_ROS_spondylolisthesis['척추전방위증'])"
   ]
  },
  {
   "cell_type": "code",
   "execution_count": 35,
   "id": "4d203efa-fd9e-42a0-aa1c-50d502df1e0e",
   "metadata": {
    "tags": []
   },
   "outputs": [],
   "source": [
    "df_ROS_pi = df_ROS[['입원기간','PI']]"
   ]
  },
  {
   "cell_type": "code",
   "execution_count": 36,
   "id": "bc0b0b02-77fe-49e6-9e7b-8e3c40038666",
   "metadata": {
    "tags": []
   },
   "outputs": [
    {
     "data": {
      "text/html": [
       "<div>\n",
       "<style scoped>\n",
       "    .dataframe tbody tr th:only-of-type {\n",
       "        vertical-align: middle;\n",
       "    }\n",
       "\n",
       "    .dataframe tbody tr th {\n",
       "        vertical-align: top;\n",
       "    }\n",
       "\n",
       "    .dataframe thead th {\n",
       "        text-align: right;\n",
       "    }\n",
       "</style>\n",
       "<table border=\"1\" class=\"dataframe\">\n",
       "  <thead>\n",
       "    <tr style=\"text-align: right;\">\n",
       "      <th></th>\n",
       "      <th>입원기간</th>\n",
       "      <th>PI</th>\n",
       "    </tr>\n",
       "  </thead>\n",
       "  <tbody>\n",
       "    <tr>\n",
       "      <th>입원기간</th>\n",
       "      <td>1.000000</td>\n",
       "      <td>-0.009462</td>\n",
       "    </tr>\n",
       "    <tr>\n",
       "      <th>PI</th>\n",
       "      <td>-0.009462</td>\n",
       "      <td>1.000000</td>\n",
       "    </tr>\n",
       "  </tbody>\n",
       "</table>\n",
       "</div>"
      ],
      "text/plain": [
       "          입원기간        PI\n",
       "입원기간  1.000000 -0.009462\n",
       "PI   -0.009462  1.000000"
      ]
     },
     "execution_count": 36,
     "metadata": {},
     "output_type": "execute_result"
    }
   ],
   "source": [
    "df_ROS_pi.corr()"
   ]
  },
  {
   "cell_type": "code",
   "execution_count": 37,
   "id": "18fb3c14-8186-45bf-9260-a7666f8e202f",
   "metadata": {
    "tags": []
   },
   "outputs": [
    {
     "data": {
      "text/plain": [
       "PearsonRResult(statistic=-0.009462281324902861, pvalue=0.6809981071755282)"
      ]
     },
     "execution_count": 37,
     "metadata": {},
     "output_type": "execute_result"
    }
   ],
   "source": [
    "stats.pearsonr(df_ROS_pi['입원기간'],df_ROS_pi['PI'])"
   ]
  },
  {
   "cell_type": "code",
   "execution_count": 38,
   "id": "587b74a5-846e-4f70-95da-f354b3526468",
   "metadata": {
    "tags": []
   },
   "outputs": [],
   "source": [
    "df_ROS_pt = df_ROS[['입원기간','PT']]"
   ]
  },
  {
   "cell_type": "code",
   "execution_count": 39,
   "id": "c99f472b-33fc-40c0-bb02-c213a75f34b2",
   "metadata": {
    "tags": []
   },
   "outputs": [
    {
     "data": {
      "text/html": [
       "<div>\n",
       "<style scoped>\n",
       "    .dataframe tbody tr th:only-of-type {\n",
       "        vertical-align: middle;\n",
       "    }\n",
       "\n",
       "    .dataframe tbody tr th {\n",
       "        vertical-align: top;\n",
       "    }\n",
       "\n",
       "    .dataframe thead th {\n",
       "        text-align: right;\n",
       "    }\n",
       "</style>\n",
       "<table border=\"1\" class=\"dataframe\">\n",
       "  <thead>\n",
       "    <tr style=\"text-align: right;\">\n",
       "      <th></th>\n",
       "      <th>입원기간</th>\n",
       "      <th>PT</th>\n",
       "    </tr>\n",
       "  </thead>\n",
       "  <tbody>\n",
       "    <tr>\n",
       "      <th>입원기간</th>\n",
       "      <td>1.000000</td>\n",
       "      <td>0.011451</td>\n",
       "    </tr>\n",
       "    <tr>\n",
       "      <th>PT</th>\n",
       "      <td>0.011451</td>\n",
       "      <td>1.000000</td>\n",
       "    </tr>\n",
       "  </tbody>\n",
       "</table>\n",
       "</div>"
      ],
      "text/plain": [
       "          입원기간        PT\n",
       "입원기간  1.000000  0.011451\n",
       "PT    0.011451  1.000000"
      ]
     },
     "execution_count": 39,
     "metadata": {},
     "output_type": "execute_result"
    }
   ],
   "source": [
    "df_ROS_pt.corr()"
   ]
  },
  {
   "cell_type": "code",
   "execution_count": 40,
   "id": "c5b460af-a3ba-4bff-bdb6-fce2ee6ae200",
   "metadata": {
    "tags": []
   },
   "outputs": [
    {
     "data": {
      "text/plain": [
       "PearsonRResult(statistic=0.011450550770305892, pvalue=0.6188437581048726)"
      ]
     },
     "execution_count": 40,
     "metadata": {},
     "output_type": "execute_result"
    }
   ],
   "source": [
    "stats.pearsonr(df_ROS_pt['입원기간'],df_ROS_pt['PT'])"
   ]
  },
  {
   "cell_type": "code",
   "execution_count": 41,
   "id": "1771431f-6b29-4df4-82f6-e081031f8b79",
   "metadata": {
    "tags": []
   },
   "outputs": [],
   "source": [
    "df_ROS_bmi = df_ROS[['입원기간','BMI']]"
   ]
  },
  {
   "cell_type": "code",
   "execution_count": 42,
   "id": "c368c713-9471-4c85-8cc0-976ea9a4b47c",
   "metadata": {
    "tags": []
   },
   "outputs": [
    {
     "data": {
      "text/html": [
       "<div>\n",
       "<style scoped>\n",
       "    .dataframe tbody tr th:only-of-type {\n",
       "        vertical-align: middle;\n",
       "    }\n",
       "\n",
       "    .dataframe tbody tr th {\n",
       "        vertical-align: top;\n",
       "    }\n",
       "\n",
       "    .dataframe thead th {\n",
       "        text-align: right;\n",
       "    }\n",
       "</style>\n",
       "<table border=\"1\" class=\"dataframe\">\n",
       "  <thead>\n",
       "    <tr style=\"text-align: right;\">\n",
       "      <th></th>\n",
       "      <th>입원기간</th>\n",
       "      <th>BMI</th>\n",
       "    </tr>\n",
       "  </thead>\n",
       "  <tbody>\n",
       "    <tr>\n",
       "      <th>입원기간</th>\n",
       "      <td>1.000000</td>\n",
       "      <td>-0.032526</td>\n",
       "    </tr>\n",
       "    <tr>\n",
       "      <th>BMI</th>\n",
       "      <td>-0.032526</td>\n",
       "      <td>1.000000</td>\n",
       "    </tr>\n",
       "  </tbody>\n",
       "</table>\n",
       "</div>"
      ],
      "text/plain": [
       "          입원기간       BMI\n",
       "입원기간  1.000000 -0.032526\n",
       "BMI  -0.032526  1.000000"
      ]
     },
     "execution_count": 42,
     "metadata": {},
     "output_type": "execute_result"
    }
   ],
   "source": [
    "df_ROS_bmi.corr()"
   ]
  },
  {
   "cell_type": "code",
   "execution_count": 43,
   "id": "11e38fa9-288d-4cda-8000-dfeed644ed29",
   "metadata": {
    "tags": []
   },
   "outputs": [
    {
     "data": {
      "text/plain": [
       "PearsonRResult(statistic=-0.03252635812647848, pvalue=0.15751063851862063)"
      ]
     },
     "execution_count": 43,
     "metadata": {},
     "output_type": "execute_result"
    }
   ],
   "source": [
    "stats.pearsonr(df_ROS_bmi['입원기간'],df_ROS_bmi['BMI'])"
   ]
  }
 ],
 "metadata": {
  "kernelspec": {
   "display_name": "Python 3 (ipykernel)",
   "language": "python",
   "name": "python3"
  },
  "language_info": {
   "codemirror_mode": {
    "name": "ipython",
    "version": 3
   },
   "file_extension": ".py",
   "mimetype": "text/x-python",
   "name": "python",
   "nbconvert_exporter": "python",
   "pygments_lexer": "ipython3",
   "version": "3.11.3"
  }
 },
 "nbformat": 4,
 "nbformat_minor": 5
}
