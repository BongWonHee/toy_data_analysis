{
 "cells": [
  {
   "cell_type": "code",
   "execution_count": 1,
   "id": "2a939403-c7c9-493d-ac37-3fcf7ef3b65c",
   "metadata": {
    "tags": []
   },
   "outputs": [],
   "source": [
    "import pandas as pd"
   ]
  },
  {
   "cell_type": "code",
   "execution_count": 2,
   "id": "cb9e1e54-8b00-404a-ba09-245aedff8849",
   "metadata": {
    "tags": []
   },
   "outputs": [],
   "source": [
    "df_health=pd.read_csv('.')"
   ]
  },
  {
   "cell_type": "code",
   "execution_count": 3,
   "id": "e4258c30-cfc8-4cee-8b6d-de058139cf3f",
   "metadata": {
    "tags": []
   },
   "outputs": [
    {
     "data": {
      "text/html": [
       "<div>\n",
       "<style scoped>\n",
       "    .dataframe tbody tr th:only-of-type {\n",
       "        vertical-align: middle;\n",
       "    }\n",
       "\n",
       "    .dataframe tbody tr th {\n",
       "        vertical-align: top;\n",
       "    }\n",
       "\n",
       "    .dataframe thead th {\n",
       "        text-align: right;\n",
       "    }\n",
       "</style>\n",
       "<table border=\"1\" class=\"dataframe\">\n",
       "  <thead>\n",
       "    <tr style=\"text-align: right;\">\n",
       "      <th></th>\n",
       "      <th>_id</th>\n",
       "      <th>content</th>\n",
       "      <th>date</th>\n",
       "      <th>name</th>\n",
       "    </tr>\n",
       "  </thead>\n",
       "  <tbody>\n",
       "    <tr>\n",
       "      <th>0</th>\n",
       "      <td>64fece3027e8bedc5e49f2c3</td>\n",
       "      <td>안녕하세요 8월 31일에 목디스크가 터져 팔이 잘안올라가고 통증과 저림이 있어 ㅊㅍ...</td>\n",
       "      <td>2023.09.10. 11:06</td>\n",
       "      <td>목디스크 5번6번</td>\n",
       "    </tr>\n",
       "    <tr>\n",
       "      <th>1</th>\n",
       "      <td>64fece3027e8bedc5e49f2c4</td>\n",
       "      <td>임신하고나서 허리디스크가 생기는바람에약물,주사치료도 못 받고 강제적인 보존치료?하면...</td>\n",
       "      <td>2023.09.09. 22:16</td>\n",
       "      <td>고읍동불주먹</td>\n",
       "    </tr>\n",
       "    <tr>\n",
       "      <th>2</th>\n",
       "      <td>64fece3027e8bedc5e49f2c5</td>\n",
       "      <td>5년전 척추 4~5번 ㅅㅂㄹㅅ에서 수술후에도몇개월 후부터 계속 아파왔고 그동안 시술...</td>\n",
       "      <td>2023.09.09. 15:54</td>\n",
       "      <td>cho1705</td>\n",
       "    </tr>\n",
       "  </tbody>\n",
       "</table>\n",
       "</div>"
      ],
      "text/plain": [
       "                        _id  \\\n",
       "0  64fece3027e8bedc5e49f2c3   \n",
       "1  64fece3027e8bedc5e49f2c4   \n",
       "2  64fece3027e8bedc5e49f2c5   \n",
       "\n",
       "                                             content               date  \\\n",
       "0  안녕하세요 8월 31일에 목디스크가 터져 팔이 잘안올라가고 통증과 저림이 있어 ㅊㅍ...  2023.09.10. 11:06   \n",
       "1  임신하고나서 허리디스크가 생기는바람에약물,주사치료도 못 받고 강제적인 보존치료?하면...  2023.09.09. 22:16   \n",
       "2  5년전 척추 4~5번 ㅅㅂㄹㅅ에서 수술후에도몇개월 후부터 계속 아파왔고 그동안 시술...  2023.09.09. 15:54   \n",
       "\n",
       "        name  \n",
       "0  목디스크 5번6번  \n",
       "1     고읍동불주먹  \n",
       "2    cho1705  "
      ]
     },
     "execution_count": 3,
     "metadata": {},
     "output_type": "execute_result"
    }
   ],
   "source": [
    "df_reviews[:3]"
   ]
  },
  {
   "cell_type": "code",
   "execution_count": 4,
   "id": "cf6166c4-c369-4e2a-892d-90e6f6b3d16b",
   "metadata": {
    "tags": []
   },
   "outputs": [],
   "source": [
    "from mecab import MeCab"
   ]
  },
  {
   "cell_type": "code",
   "execution_count": 5,
   "id": "6e432562-2178-467e-9f9e-7e7bc6b8215a",
   "metadata": {
    "tags": []
   },
   "outputs": [],
   "source": [
    "mecab = MeCab()"
   ]
  },
  {
   "cell_type": "code",
   "execution_count": 6,
   "id": "7f34bac2-4159-4458-a6a3-62e2db055c01",
   "metadata": {
    "tags": []
   },
   "outputs": [],
   "source": [
    "df_reviews=df_reviews.drop(columns=['_id'])"
   ]
  },
  {
   "cell_type": "code",
   "execution_count": 7,
   "id": "1c7b1e98-5236-4171-abd2-62c04ef8804f",
   "metadata": {
    "tags": []
   },
   "outputs": [
    {
     "data": {
      "text/html": [
       "<div>\n",
       "<style scoped>\n",
       "    .dataframe tbody tr th:only-of-type {\n",
       "        vertical-align: middle;\n",
       "    }\n",
       "\n",
       "    .dataframe tbody tr th {\n",
       "        vertical-align: top;\n",
       "    }\n",
       "\n",
       "    .dataframe thead th {\n",
       "        text-align: right;\n",
       "    }\n",
       "</style>\n",
       "<table border=\"1\" class=\"dataframe\">\n",
       "  <thead>\n",
       "    <tr style=\"text-align: right;\">\n",
       "      <th></th>\n",
       "      <th>content</th>\n",
       "      <th>date</th>\n",
       "      <th>name</th>\n",
       "    </tr>\n",
       "  </thead>\n",
       "  <tbody>\n",
       "    <tr>\n",
       "      <th>0</th>\n",
       "      <td>안녕하세요 8월 31일에 목디스크가 터져 팔이 잘안올라가고 통증과 저림이 있어 ㅊㅍ...</td>\n",
       "      <td>2023.09.10. 11:06</td>\n",
       "      <td>목디스크 5번6번</td>\n",
       "    </tr>\n",
       "    <tr>\n",
       "      <th>1</th>\n",
       "      <td>임신하고나서 허리디스크가 생기는바람에약물,주사치료도 못 받고 강제적인 보존치료?하면...</td>\n",
       "      <td>2023.09.09. 22:16</td>\n",
       "      <td>고읍동불주먹</td>\n",
       "    </tr>\n",
       "    <tr>\n",
       "      <th>2</th>\n",
       "      <td>5년전 척추 4~5번 ㅅㅂㄹㅅ에서 수술후에도몇개월 후부터 계속 아파왔고 그동안 시술...</td>\n",
       "      <td>2023.09.09. 15:54</td>\n",
       "      <td>cho1705</td>\n",
       "    </tr>\n",
       "  </tbody>\n",
       "</table>\n",
       "</div>"
      ],
      "text/plain": [
       "                                             content               date  \\\n",
       "0  안녕하세요 8월 31일에 목디스크가 터져 팔이 잘안올라가고 통증과 저림이 있어 ㅊㅍ...  2023.09.10. 11:06   \n",
       "1  임신하고나서 허리디스크가 생기는바람에약물,주사치료도 못 받고 강제적인 보존치료?하면...  2023.09.09. 22:16   \n",
       "2  5년전 척추 4~5번 ㅅㅂㄹㅅ에서 수술후에도몇개월 후부터 계속 아파왔고 그동안 시술...  2023.09.09. 15:54   \n",
       "\n",
       "        name  \n",
       "0  목디스크 5번6번  \n",
       "1     고읍동불주먹  \n",
       "2    cho1705  "
      ]
     },
     "execution_count": 7,
     "metadata": {},
     "output_type": "execute_result"
    }
   ],
   "source": [
    "df_reviews[:3]"
   ]
  },
  {
   "cell_type": "code",
   "execution_count": null,
   "id": "0ff7de1c-dc08-45aa-910c-292198679cf3",
   "metadata": {},
   "outputs": [],
   "source": []
  }
 ],
 "metadata": {
  "kernelspec": {
   "display_name": "Python 3 (ipykernel)",
   "language": "python",
   "name": "python3"
  },
  "language_info": {
   "codemirror_mode": {
    "name": "ipython",
    "version": 3
   },
   "file_extension": ".py",
   "mimetype": "text/x-python",
   "name": "python",
   "nbconvert_exporter": "python",
   "pygments_lexer": "ipython3",
   "version": "3.11.3"
  }
 },
 "nbformat": 4,
 "nbformat_minor": 5
}
