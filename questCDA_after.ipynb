{
 "cells": [
  {
   "cell_type": "code",
   "execution_count": 1,
   "id": "09169665-5587-4ded-82c5-18eeadb15ab9",
   "metadata": {
    "tags": []
   },
   "outputs": [],
   "source": [
    "import matplotlib.pyplot as plt\n",
    "import matplotlib as mpl\n",
    "mpl.rc('font',family='Malgun Gothic')\n",
    "import seaborn as sns\n",
    "import pandas as pd\n",
    "import scipy.stats as stats"
   ]
  },
  {
   "cell_type": "code",
   "execution_count": 2,
   "id": "8dd70ef7-7844-4e97-a2d7-6eba2f8ef524",
   "metadata": {
    "tags": []
   },
   "outputs": [
    {
     "data": {
      "text/html": [
       "<div>\n",
       "<style scoped>\n",
       "    .dataframe tbody tr th:only-of-type {\n",
       "        vertical-align: middle;\n",
       "    }\n",
       "\n",
       "    .dataframe tbody tr th {\n",
       "        vertical-align: top;\n",
       "    }\n",
       "\n",
       "    .dataframe thead th {\n",
       "        text-align: right;\n",
       "    }\n",
       "</style>\n",
       "<table border=\"1\" class=\"dataframe\">\n",
       "  <thead>\n",
       "    <tr style=\"text-align: right;\">\n",
       "      <th></th>\n",
       "      <th>Unnamed: 0</th>\n",
       "      <th>신장</th>\n",
       "      <th>체중</th>\n",
       "      <th>고혈압여부</th>\n",
       "      <th>당뇨여부</th>\n",
       "      <th>성별</th>\n",
       "      <th>연령</th>\n",
       "      <th>척추전방위증</th>\n",
       "      <th>디스크위치</th>\n",
       "      <th>PI</th>\n",
       "      <th>PT</th>\n",
       "      <th>Vaccum disc</th>\n",
       "      <th>입원기간</th>\n",
       "      <th>BMI</th>\n",
       "    </tr>\n",
       "  </thead>\n",
       "  <tbody>\n",
       "    <tr>\n",
       "      <th>0</th>\n",
       "      <td>0</td>\n",
       "      <td>1.63</td>\n",
       "      <td>60.3</td>\n",
       "      <td>0</td>\n",
       "      <td>0</td>\n",
       "      <td>2</td>\n",
       "      <td>66</td>\n",
       "      <td>0</td>\n",
       "      <td>4</td>\n",
       "      <td>51.6</td>\n",
       "      <td>36.6</td>\n",
       "      <td>0</td>\n",
       "      <td>2</td>\n",
       "      <td>22.695623</td>\n",
       "    </tr>\n",
       "    <tr>\n",
       "      <th>1</th>\n",
       "      <td>1</td>\n",
       "      <td>1.71</td>\n",
       "      <td>71.7</td>\n",
       "      <td>0</td>\n",
       "      <td>0</td>\n",
       "      <td>1</td>\n",
       "      <td>47</td>\n",
       "      <td>0</td>\n",
       "      <td>4</td>\n",
       "      <td>40.8</td>\n",
       "      <td>7.2</td>\n",
       "      <td>0</td>\n",
       "      <td>1</td>\n",
       "      <td>24.520365</td>\n",
       "    </tr>\n",
       "  </tbody>\n",
       "</table>\n",
       "</div>"
      ],
      "text/plain": [
       "   Unnamed: 0    신장    체중  고혈압여부  당뇨여부  성별  연령  척추전방위증  디스크위치    PI    PT  \\\n",
       "0           0  1.63  60.3      0     0   2  66       0      4  51.6  36.6   \n",
       "1           1  1.71  71.7      0     0   1  47       0      4  40.8   7.2   \n",
       "\n",
       "   Vaccum disc  입원기간        BMI  \n",
       "0            0     2  22.695623  \n",
       "1            0     1  24.520365  "
      ]
     },
     "execution_count": 2,
     "metadata": {},
     "output_type": "execute_result"
    }
   ],
   "source": [
    "df_ROS = pd.read_csv('./ROSquestdata.csv')\n",
    "df_ROS[:2]"
   ]
  },
  {
   "cell_type": "code",
   "execution_count": 3,
   "id": "e21b0fd1-a961-43aa-9a2d-3dc4542b3f24",
   "metadata": {
    "tags": []
   },
   "outputs": [
    {
     "name": "stdout",
     "output_type": "stream",
     "text": [
      "<class 'pandas.core.frame.DataFrame'>\n",
      "RangeIndex: 1890 entries, 0 to 1889\n",
      "Data columns (total 14 columns):\n",
      " #   Column       Non-Null Count  Dtype  \n",
      "---  ------       --------------  -----  \n",
      " 0   Unnamed: 0   1890 non-null   int64  \n",
      " 1   신장           1890 non-null   float64\n",
      " 2   체중           1890 non-null   float64\n",
      " 3   고혈압여부        1890 non-null   int64  \n",
      " 4   당뇨여부         1890 non-null   int64  \n",
      " 5   성별           1890 non-null   int64  \n",
      " 6   연령           1890 non-null   int64  \n",
      " 7   척추전방위증       1890 non-null   int64  \n",
      " 8   디스크위치        1890 non-null   int64  \n",
      " 9   PI           1890 non-null   float64\n",
      " 10  PT           1890 non-null   float64\n",
      " 11  Vaccum disc  1890 non-null   int64  \n",
      " 12  입원기간         1890 non-null   int64  \n",
      " 13  BMI          1890 non-null   float64\n",
      "dtypes: float64(5), int64(9)\n",
      "memory usage: 206.8 KB\n"
     ]
    }
   ],
   "source": [
    "df_ROS.info()"
   ]
  },
  {
   "cell_type": "markdown",
   "id": "2d2b8d78-a28b-4cd0-aac0-2938d0247b90",
   "metadata": {
    "jp-MarkdownHeadingCollapsed": true,
    "tags": []
   },
   "source": [
    "### 연속형 : 단일변수의 정규성 여부판단\n",
    "- 검중 갯수에 따른 방법 선택\n",
    "    - 5천개 이하 : shapiro normality test\n",
    "    - 5천개 이상 : Anderson normality test"
   ]
  },
  {
   "cell_type": "markdown",
   "id": "ed1bac97-6e5b-445f-96e6-3b246130377f",
   "metadata": {
    "tags": []
   },
   "source": [
    "#### 선정 변수 : BMI\n",
    "- 분석내용 : BMI는 정규 분포를 따르는가???\n",
    "    - 귀무가설 : BMI는 정규 분포이다.\n",
    "    - 대립가설 : BMI는 정규 분포가 아니다.\n",
    "- 분석 결론(기준:p-value 0.05)\n",
    "    - 통계 결론 : 81.5 >0.78(기준:p-value 0.05) 대립가설 참\n",
    "    - 사실 결론 : BMI는 정규 분포가 아니다."
   ]
  },
  {
   "cell_type": "code",
   "execution_count": 4,
   "id": "795f58ea-336a-494e-9e7c-c6d2e61ab9ac",
   "metadata": {
    "tags": []
   },
   "outputs": [
    {
     "data": {
      "text/plain": [
       "0       22.695623\n",
       "1       24.520365\n",
       "2       24.334049\n",
       "3       24.507861\n",
       "4       24.097465\n",
       "          ...    \n",
       "1885    25.964542\n",
       "1886    23.936062\n",
       "1887    25.099502\n",
       "1888    24.577867\n",
       "1889    17.361111\n",
       "Name: BMI, Length: 1890, dtype: float64"
      ]
     },
     "execution_count": 4,
     "metadata": {},
     "output_type": "execute_result"
    }
   ],
   "source": [
    "df_bmi = df_ROS['BMI']\n",
    "df_bmi"
   ]
  },
  {
   "cell_type": "code",
   "execution_count": 5,
   "id": "3bff4631-1540-4e39-a4c4-7e50a4d1ffa3",
   "metadata": {
    "tags": []
   },
   "outputs": [
    {
     "data": {
      "image/png": "[encoded data removed]",
      "text/plain": [
       "<Figure size 640x480 with 1 Axes>"
      ]
     },
     "metadata": {},
     "output_type": "display_data"
    }
   ],
   "source": [
    "sns.histplot(data=df_ROS,x='BMI',kde=True)\n",
    "plt.show()"
   ]
  },
  {
   "cell_type": "code",
   "execution_count": 6,
   "id": "8f2cad7b-2fc1-4e51-934f-6a00799c06e1",
   "metadata": {
    "tags": []
   },
   "outputs": [],
   "source": [
    "df_bmi =df_ROS['BMI'].dropna()"
   ]
  },
  {
   "cell_type": "code",
   "execution_count": 7,
   "id": "3e2f4c94-0779-4553-8c3b-5d7e9a845db5",
   "metadata": {
    "tags": []
   },
   "outputs": [
    {
     "data": {
      "text/plain": [
       "(25.283237603838643,\n",
       " array([0.575, 0.655, 0.785, 0.916, 1.09 ]),\n",
       " array([15. , 10. ,  5. ,  2.5,  1. ]))"
      ]
     },
     "execution_count": 7,
     "metadata": {},
     "output_type": "execute_result"
    }
   ],
   "source": [
    "## s < cv : 정규분포, s > cv : 비정규분포\n",
    "s, cv, sl = stats.anderson(df_bmi)\n",
    "s, cv, sl"
   ]
  },
  {
   "cell_type": "markdown",
   "id": "83da4396-a607-4063-bd74-6745957cdcde",
   "metadata": {},
   "source": [
    "#### 선정 변수 : 고혈압여부\n",
    "- 분석내용 : 고혈압여부는 정규 분포를 따르는가???\n",
    "    - 귀무가설 : 고혈압여부는 정규 분포이다.\n",
    "    - 대립가설 : 고혈압여부는 정규 분포가 아니다.\n",
    "- 분석 결론(기준:p-value 0.05)\n",
    "    - 통계 결론 : 81.5 >0.78(기준:p-value 0.05) 대립가설 참\n",
    "    - 사실 결론 : 고혈압여부는 정규 분포가 아니다."
   ]
  },
  {
   "cell_type": "code",
   "execution_count": 8,
   "id": "a1f85461-fb30-4ab1-b305-b32502efd874",
   "metadata": {
    "tags": []
   },
   "outputs": [
    {
     "data": {
      "text/plain": [
       "0       0\n",
       "1       0\n",
       "2       0\n",
       "3       1\n",
       "4       1\n",
       "       ..\n",
       "1885    0\n",
       "1886    0\n",
       "1887    0\n",
       "1888    0\n",
       "1889    0\n",
       "Name: 고혈압여부, Length: 1890, dtype: int64"
      ]
     },
     "execution_count": 8,
     "metadata": {},
     "output_type": "execute_result"
    }
   ],
   "source": [
    "df_blood = df_ROS['고혈압여부']\n",
    "df_blood"
   ]
  },
  {
   "cell_type": "code",
   "execution_count": 9,
   "id": "52495783-a185-41ce-bbd9-2bd5088aac3e",
   "metadata": {
    "tags": []
   },
   "outputs": [
    {
     "data": {
      "image/png": "[encoded data removed]",
      "text/plain": [
       "<Figure size 640x480 with 1 Axes>"
      ]
     },
     "metadata": {},
     "output_type": "display_data"
    }
   ],
   "source": [
    "sns.histplot(data=df_ROS,x='고혈압여부',kde=True)\n",
    "plt.show()"
   ]
  },
  {
   "cell_type": "code",
   "execution_count": 10,
   "id": "01b5687a-c045-4e55-aa36-4778f72114fb",
   "metadata": {
    "tags": []
   },
   "outputs": [
    {
     "data": {
      "text/plain": [
       "(583.679269884833,\n",
       " array([0.575, 0.655, 0.785, 0.916, 1.09 ]),\n",
       " array([15. , 10. ,  5. ,  2.5,  1. ]))"
      ]
     },
     "execution_count": 10,
     "metadata": {},
     "output_type": "execute_result"
    }
   ],
   "source": [
    "## s < cv : 정규분포, s > cv : 비정규분포\n",
    "s, cv, sl = stats.anderson(df_blood)\n",
    "s, cv, sl"
   ]
  },
  {
   "cell_type": "markdown",
   "id": "c57c05db-2f31-49da-9a2d-b2426949362f",
   "metadata": {},
   "source": [
    "#### 선정 변수 : 당뇨여부\n",
    "- 분석내용 : 당뇨여부는 정규 분포를 따르는가???\n",
    "    - 귀무가설 : 당뇨여부는 정규 분포이다.\n",
    "    - 대립가설 : 당뇨여부는 정규 분포가 아니다.\n",
    "- 분석 결론(기준:p-value 0.05)\n",
    "    - 통계 결론 : 81.5 >0.78(기준:p-value 0.05) 대립가설 참\n",
    "    - 사실 결론 : 당뇨여부는 정규 분포가 아니다."
   ]
  },
  {
   "cell_type": "code",
   "execution_count": 11,
   "id": "de577b1d-8f20-4d64-a915-1d70de3b822d",
   "metadata": {
    "tags": []
   },
   "outputs": [
    {
     "data": {
      "text/plain": [
       "0       0\n",
       "1       0\n",
       "2       0\n",
       "3       0\n",
       "4       0\n",
       "       ..\n",
       "1885    0\n",
       "1886    0\n",
       "1887    0\n",
       "1888    0\n",
       "1889    0\n",
       "Name: 당뇨여부, Length: 1890, dtype: int64"
      ]
     },
     "execution_count": 11,
     "metadata": {},
     "output_type": "execute_result"
    }
   ],
   "source": [
    "df_sugar = df_ROS['당뇨여부']\n",
    "df_sugar"
   ]
  },
  {
   "cell_type": "code",
   "execution_count": 12,
   "id": "132b10ad-a544-40b7-82e4-70127a6e5087",
   "metadata": {
    "tags": []
   },
   "outputs": [
    {
     "data": {
      "image/png": "[encoded data removed]",
      "text/plain": [
       "<Figure size 640x480 with 1 Axes>"
      ]
     },
     "metadata": {},
     "output_type": "display_data"
    }
   ],
   "source": [
    "sns.histplot(data=df_ROS,x='당뇨여부',kde=True)\n",
    "plt.show()"
   ]
  },
  {
   "cell_type": "code",
   "execution_count": 13,
   "id": "5ded6eb0-65f4-49e2-9dc9-4b74e552f46f",
   "metadata": {
    "tags": []
   },
   "outputs": [
    {
     "data": {
      "text/plain": [
       "(667.6897453162296,\n",
       " array([0.575, 0.655, 0.785, 0.916, 1.09 ]),\n",
       " array([15. , 10. ,  5. ,  2.5,  1. ]))"
      ]
     },
     "execution_count": 13,
     "metadata": {},
     "output_type": "execute_result"
    }
   ],
   "source": [
    "## s < cv : 정규분포, s > cv : 비정규분포\n",
    "s, cv, sl = stats.anderson(df_sugar)\n",
    "s, cv, sl"
   ]
  },
  {
   "cell_type": "markdown",
   "id": "3e6c14eb-f5f4-44a1-8fb4-4859847e67a3",
   "metadata": {
    "tags": []
   },
   "source": [
    "#### 선정 변수 : 척추전방위증\n",
    "- 분석내용 : 척추전방위증은 정규 분포를 따르는가???\n",
    "    - 귀무가설 : 척추전방위증은 정규 분포이다.\n",
    "    - 대립가설 : 척추전방위증은 정규 분포가 아니다.\n",
    "- 분석 결론(기준:p-value 0.05)\n",
    "    - 통계 결론 : 81.5 >0.78(기준:p-value 0.05) 대립가설 참\n",
    "    - 사실 결론 : 척추전방위증은 정규 분포가 아니다."
   ]
  },
  {
   "cell_type": "code",
   "execution_count": 14,
   "id": "2ad476f4-cc6c-4543-b6e3-01f282a31f61",
   "metadata": {
    "tags": []
   },
   "outputs": [
    {
     "data": {
      "text/plain": [
       "0       0\n",
       "1       0\n",
       "2       0\n",
       "3       0\n",
       "4       0\n",
       "       ..\n",
       "1885    0\n",
       "1886    0\n",
       "1887    0\n",
       "1888    0\n",
       "1889    0\n",
       "Name: 척추전방위증, Length: 1890, dtype: int64"
      ]
     },
     "execution_count": 14,
     "metadata": {},
     "output_type": "execute_result"
    }
   ],
   "source": [
    "df_spondylolisthesis = df_ROS['척추전방위증']\n",
    "df_spondylolisthesis"
   ]
  },
  {
   "cell_type": "code",
   "execution_count": 15,
   "id": "2b0277e8-9602-40e2-bf58-1802d04e4530",
   "metadata": {
    "tags": []
   },
   "outputs": [
    {
     "data": {
      "image/png": "[encoded data removed]",
      "text/plain": [
       "<Figure size 640x480 with 1 Axes>"
      ]
     },
     "metadata": {},
     "output_type": "display_data"
    }
   ],
   "source": [
    "sns.histplot(data=df_ROS,x='척추전방위증',kde=True)\n",
    "plt.show()"
   ]
  },
  {
   "cell_type": "code",
   "execution_count": 16,
   "id": "d94a5b97-88eb-44be-8d73-2b5fd0615ae5",
   "metadata": {
    "tags": []
   },
   "outputs": [
    {
     "data": {
      "text/plain": [
       "(701.8186448532106,\n",
       " array([0.575, 0.655, 0.785, 0.916, 1.09 ]),\n",
       " array([15. , 10. ,  5. ,  2.5,  1. ]))"
      ]
     },
     "execution_count": 16,
     "metadata": {},
     "output_type": "execute_result"
    }
   ],
   "source": [
    "## s < cv : 정규분포, s > cv : 비정규분포\n",
    "s, cv, sl = stats.anderson(df_spondylolisthesis)\n",
    "s, cv, sl"
   ]
  },
  {
   "cell_type": "markdown",
   "id": "bfc4e219-6596-45f0-8658-3ef1a4a4d46a",
   "metadata": {
    "tags": []
   },
   "source": [
    "#### 선정 변수 : PI\n",
    "- 분석내용 : PI는 정규 분포를 따르는가???\n",
    "    - 귀무가설 : PI는 정규 분포이다.\n",
    "    - 대립가설 : PI는 정규 분포가 아니다.\n",
    "- 분석 결론(기준:p-value 0.05)\n",
    "    - 통계 결론 : 81.5 >0.78(기준:p-value 0.05) 대립가설 참\n",
    "    - 사실 결론 : PI는 정규 분포가 아니다."
   ]
  },
  {
   "cell_type": "code",
   "execution_count": 17,
   "id": "fb351826-f6dd-470f-b39e-0d4144cd3f75",
   "metadata": {
    "tags": []
   },
   "outputs": [
    {
     "data": {
      "text/plain": [
       "0       51.6\n",
       "1       40.8\n",
       "2       67.5\n",
       "3       49.2\n",
       "4       58.8\n",
       "        ... \n",
       "1885    59.5\n",
       "1886    47.7\n",
       "1887    44.6\n",
       "1888    32.2\n",
       "1889    38.9\n",
       "Name: PI, Length: 1890, dtype: float64"
      ]
     },
     "execution_count": 17,
     "metadata": {},
     "output_type": "execute_result"
    }
   ],
   "source": [
    "df_pi = df_ROS['PI']\n",
    "df_pi"
   ]
  },
  {
   "cell_type": "code",
   "execution_count": 18,
   "id": "187ef9a3-3af3-4bcc-98b3-e1c3602af2e3",
   "metadata": {
    "tags": []
   },
   "outputs": [
    {
     "data": {
      "image/png": "[encoded data removed]",
      "text/plain": [
       "<Figure size 640x480 with 1 Axes>"
      ]
     },
     "metadata": {},
     "output_type": "display_data"
    }
   ],
   "source": [
    "sns.histplot(data=df_ROS,x='PI',kde=True)\n",
    "plt.show()"
   ]
  },
  {
   "cell_type": "code",
   "execution_count": 19,
   "id": "e5f7149b-5afc-4bf7-8fbe-aeade424ec00",
   "metadata": {
    "tags": []
   },
   "outputs": [
    {
     "data": {
      "text/plain": [
       "(202.2253349248058,\n",
       " array([0.575, 0.655, 0.785, 0.916, 1.09 ]),\n",
       " array([15. , 10. ,  5. ,  2.5,  1. ]))"
      ]
     },
     "execution_count": 19,
     "metadata": {},
     "output_type": "execute_result"
    }
   ],
   "source": [
    "## s < cv : 정규분포, s > cv : 비정규분포\n",
    "s, cv, sl = stats.anderson(df_pi)\n",
    "s, cv, sl"
   ]
  },
  {
   "cell_type": "markdown",
   "id": "47bfcc3d-efc5-431d-a699-3eb6a89aa776",
   "metadata": {},
   "source": [
    "#### 선정 변수 : PT\n",
    "- 분석내용 : PT는 정규 분포를 따르는가???\n",
    "    - 귀무가설 : PT는 정규 분포이다.\n",
    "    - 대립가설 : PT는 정규 분포가 아니다.\n",
    "- 분석 결론(기준:p-value 0.05)\n",
    "    - 통계 결론 : 81.5 >0.78(기준:p-value 0.05) 대립가설 참\n",
    "    - 사실 결론 : PT는 정규 분포가 아니다."
   ]
  },
  {
   "cell_type": "code",
   "execution_count": 20,
   "id": "9d9241a4-1a38-428f-bc6e-6eca757f5e68",
   "metadata": {
    "tags": []
   },
   "outputs": [
    {
     "data": {
      "text/plain": [
       "0       36.6\n",
       "1        7.2\n",
       "2       27.3\n",
       "3       18.7\n",
       "4       14.7\n",
       "        ... \n",
       "1885    23.0\n",
       "1886    20.2\n",
       "1887    15.0\n",
       "1888    11.1\n",
       "1889     6.8\n",
       "Name: PT, Length: 1890, dtype: float64"
      ]
     },
     "execution_count": 20,
     "metadata": {},
     "output_type": "execute_result"
    }
   ],
   "source": [
    "df_pt = df_ROS['PT']\n",
    "df_pt"
   ]
  },
  {
   "cell_type": "code",
   "execution_count": 21,
   "id": "1d70847c-1c5a-428c-90ff-190e92a98e70",
   "metadata": {
    "tags": []
   },
   "outputs": [
    {
     "name": "stderr",
     "output_type": "stream",
     "text": [
      "C:\\Users\\5-22\\anaconda3\\Lib\\site-packages\\IPython\\core\\pylabtools.py:152: UserWarning: Glyph 8722 (\\N{MINUS SIGN}) missing from current font.\n",
      "  fig.canvas.print_figure(bytes_io, **kw)\n"
     ]
    },
    {
     "data": {
      "image/png": "[encoded data removed]",
      "text/plain": [
       "<Figure size 640x480 with 1 Axes>"
      ]
     },
     "metadata": {},
     "output_type": "display_data"
    }
   ],
   "source": [
    "sns.histplot(data=df_ROS,x='PT',kde=True)\n",
    "plt.show()"
   ]
  },
  {
   "cell_type": "code",
   "execution_count": 22,
   "id": "9b289322-84fd-41b3-90df-17ddf4ffb6b3",
   "metadata": {
    "tags": []
   },
   "outputs": [
    {
     "data": {
      "text/plain": [
       "(5.39598662390199,\n",
       " array([0.575, 0.655, 0.785, 0.916, 1.09 ]),\n",
       " array([15. , 10. ,  5. ,  2.5,  1. ]))"
      ]
     },
     "execution_count": 22,
     "metadata": {},
     "output_type": "execute_result"
    }
   ],
   "source": [
    "## s < cv : 정규분포, s > cv : 비정규분포\n",
    "s, cv, sl = stats.anderson(df_pt)\n",
    "s, cv, sl"
   ]
  },
  {
   "cell_type": "markdown",
   "id": "bd3e3f3f-366b-4498-aecb-e27826c5b84c",
   "metadata": {
    "jp-MarkdownHeadingCollapsed": true,
    "tags": []
   },
   "source": [
    "### x 연속형, y 연속형 : 주로 상관관계 확인.\n",
    "- correlation coefficient(상관관계) : -1 ~ 1 사이 (0에 가까우면 관계없음, -1에 가까우면 반비례, 1에 가까우면 비례)\n",
    "#### 선정 변수 : 입원기간, BMI\n",
    "- 분석 내용 : BMI에 따른 입원기간의 차이가 있는가\n",
    "    - 귀무가설 : 입원기간의 차이 없다.\n",
    "    - 대립가설 : 입원기간의 차이 있다.\n",
    "- 분석 결론 (기준 : p-value 0.05)\n",
    "    - 통계 결론 : 대립가설이 참 (pvalue=0.0)\n",
    "    - 사실 결론 : 입원기간의 차이가 없다."
   ]
  },
  {
   "cell_type": "code",
   "execution_count": 23,
   "id": "438d237b-1238-49d0-a928-738e0868c7be",
   "metadata": {
    "tags": []
   },
   "outputs": [],
   "source": [
    "df_period_bmi = df_ROS[['입원기간','BMI']].copy()"
   ]
  },
  {
   "cell_type": "code",
   "execution_count": 24,
   "id": "ea8115dc-cb4e-498f-a639-4ae62e240861",
   "metadata": {
    "tags": []
   },
   "outputs": [
    {
     "data": {
      "text/html": [
       "<div>\n",
       "<style scoped>\n",
       "    .dataframe tbody tr th:only-of-type {\n",
       "        vertical-align: middle;\n",
       "    }\n",
       "\n",
       "    .dataframe tbody tr th {\n",
       "        vertical-align: top;\n",
       "    }\n",
       "\n",
       "    .dataframe thead th {\n",
       "        text-align: right;\n",
       "    }\n",
       "</style>\n",
       "<table border=\"1\" class=\"dataframe\">\n",
       "  <thead>\n",
       "    <tr style=\"text-align: right;\">\n",
       "      <th></th>\n",
       "      <th>입원기간</th>\n",
       "      <th>BMI</th>\n",
       "    </tr>\n",
       "  </thead>\n",
       "  <tbody>\n",
       "    <tr>\n",
       "      <th>입원기간</th>\n",
       "      <td>1.000000</td>\n",
       "      <td>-0.032526</td>\n",
       "    </tr>\n",
       "    <tr>\n",
       "      <th>BMI</th>\n",
       "      <td>-0.032526</td>\n",
       "      <td>1.000000</td>\n",
       "    </tr>\n",
       "  </tbody>\n",
       "</table>\n",
       "</div>"
      ],
      "text/plain": [
       "          입원기간       BMI\n",
       "입원기간  1.000000 -0.032526\n",
       "BMI  -0.032526  1.000000"
      ]
     },
     "execution_count": 24,
     "metadata": {},
     "output_type": "execute_result"
    }
   ],
   "source": [
    "df_period_bmi.corr()"
   ]
  },
  {
   "cell_type": "code",
   "execution_count": 25,
   "id": "6f799578-5f05-4835-b6fe-68069ab72184",
   "metadata": {
    "tags": []
   },
   "outputs": [
    {
     "data": {
      "text/plain": [
       "입원기간    0\n",
       "BMI     0\n",
       "dtype: int64"
      ]
     },
     "execution_count": 25,
     "metadata": {},
     "output_type": "execute_result"
    }
   ],
   "source": [
    "df_period_bmi.isnull().sum()"
   ]
  },
  {
   "cell_type": "code",
   "execution_count": 26,
   "id": "25ce32fc-1c77-49b4-8ca2-0ec06265d06f",
   "metadata": {
    "tags": []
   },
   "outputs": [],
   "source": [
    "df_period_bmi = df_period_bmi.dropna().copy()"
   ]
  },
  {
   "cell_type": "code",
   "execution_count": 27,
   "id": "6ff6f921-8a8f-4ac0-b553-86849a76cc95",
   "metadata": {
    "tags": []
   },
   "outputs": [
    {
     "name": "stdout",
     "output_type": "stream",
     "text": [
      "<class 'pandas.core.frame.DataFrame'>\n",
      "RangeIndex: 1890 entries, 0 to 1889\n",
      "Data columns (total 2 columns):\n",
      " #   Column  Non-Null Count  Dtype  \n",
      "---  ------  --------------  -----  \n",
      " 0   입원기간    1890 non-null   int64  \n",
      " 1   BMI     1890 non-null   float64\n",
      "dtypes: float64(1), int64(1)\n",
      "memory usage: 29.7 KB\n"
     ]
    }
   ],
   "source": [
    "df_period_bmi.info()"
   ]
  },
  {
   "cell_type": "code",
   "execution_count": 28,
   "id": "5a0f4e49-06f1-4486-97cd-2786ab925f81",
   "metadata": {
    "tags": []
   },
   "outputs": [
    {
     "data": {
      "text/plain": [
       "PearsonRResult(statistic=-0.03252635812647848, pvalue=0.15751063851862063)"
      ]
     },
     "execution_count": 28,
     "metadata": {},
     "output_type": "execute_result"
    }
   ],
   "source": [
    "stats.pearsonr(df_period_bmi['입원기간'],df_period_bmi['BMI'])"
   ]
  },
  {
   "cell_type": "markdown",
   "id": "3536a058-01f9-44f4-8f58-4f90c56efa7a",
   "metadata": {
    "jp-MarkdownHeadingCollapsed": true,
    "tags": []
   },
   "source": [
    "#### 선정 변수 : 입원기간, 고혈압여부\n",
    "- 분석 내용 : 고혈압여부에 따른 입원기간의 차이가 있는가\n",
    "    - 귀무가설 : 입원기간의 차이 없다.\n",
    "    - 대립가설 : 입원기간의 차이 있다.\n",
    "- 분석 결론 (기준 : p-value 0.05)\n",
    "    - 통계 결론 : 대립가설이 참 (pvalue=0.0)\n",
    "    - 사실 결론 : 입원기간의 차이가 있다."
   ]
  },
  {
   "cell_type": "code",
   "execution_count": 29,
   "id": "70ad3631-9782-4f98-8536-3755074b0449",
   "metadata": {
    "tags": []
   },
   "outputs": [],
   "source": [
    "df_period_blood = df_ROS[['입원기간','고혈압여부']].copy()"
   ]
  },
  {
   "cell_type": "code",
   "execution_count": 30,
   "id": "8a31520d-3b7a-4106-9a73-58707cb192b6",
   "metadata": {
    "tags": []
   },
   "outputs": [
    {
     "data": {
      "text/html": [
       "<div>\n",
       "<style scoped>\n",
       "    .dataframe tbody tr th:only-of-type {\n",
       "        vertical-align: middle;\n",
       "    }\n",
       "\n",
       "    .dataframe tbody tr th {\n",
       "        vertical-align: top;\n",
       "    }\n",
       "\n",
       "    .dataframe thead th {\n",
       "        text-align: right;\n",
       "    }\n",
       "</style>\n",
       "<table border=\"1\" class=\"dataframe\">\n",
       "  <thead>\n",
       "    <tr style=\"text-align: right;\">\n",
       "      <th></th>\n",
       "      <th>입원기간</th>\n",
       "      <th>고혈압여부</th>\n",
       "    </tr>\n",
       "  </thead>\n",
       "  <tbody>\n",
       "    <tr>\n",
       "      <th>입원기간</th>\n",
       "      <td>1.000000</td>\n",
       "      <td>0.040807</td>\n",
       "    </tr>\n",
       "    <tr>\n",
       "      <th>고혈압여부</th>\n",
       "      <td>0.040807</td>\n",
       "      <td>1.000000</td>\n",
       "    </tr>\n",
       "  </tbody>\n",
       "</table>\n",
       "</div>"
      ],
      "text/plain": [
       "           입원기간     고혈압여부\n",
       "입원기간   1.000000  0.040807\n",
       "고혈압여부  0.040807  1.000000"
      ]
     },
     "execution_count": 30,
     "metadata": {},
     "output_type": "execute_result"
    }
   ],
   "source": [
    "df_period_blood.corr()"
   ]
  },
  {
   "cell_type": "code",
   "execution_count": 31,
   "id": "3b610196-a562-4dcc-8d14-85564f4f7b1c",
   "metadata": {
    "tags": []
   },
   "outputs": [
    {
     "data": {
      "text/plain": [
       "입원기간     0\n",
       "고혈압여부    0\n",
       "dtype: int64"
      ]
     },
     "execution_count": 31,
     "metadata": {},
     "output_type": "execute_result"
    }
   ],
   "source": [
    "df_period_blood.isnull().sum()"
   ]
  },
  {
   "cell_type": "code",
   "execution_count": 32,
   "id": "b94b066a-9792-452d-a097-018f1951375b",
   "metadata": {
    "tags": []
   },
   "outputs": [],
   "source": [
    "df_period_blood = df_period_blood.dropna().copy()"
   ]
  },
  {
   "cell_type": "code",
   "execution_count": 33,
   "id": "788b0f54-a356-47d0-87c7-816bcfa52b43",
   "metadata": {
    "tags": []
   },
   "outputs": [
    {
     "name": "stdout",
     "output_type": "stream",
     "text": [
      "<class 'pandas.core.frame.DataFrame'>\n",
      "RangeIndex: 1890 entries, 0 to 1889\n",
      "Data columns (total 2 columns):\n",
      " #   Column  Non-Null Count  Dtype\n",
      "---  ------  --------------  -----\n",
      " 0   입원기간    1890 non-null   int64\n",
      " 1   고혈압여부   1890 non-null   int64\n",
      "dtypes: int64(2)\n",
      "memory usage: 29.7 KB\n"
     ]
    }
   ],
   "source": [
    "df_period_blood.info()"
   ]
  },
  {
   "cell_type": "code",
   "execution_count": 34,
   "id": "21baade3-c1c6-4912-9765-bd464b18daa1",
   "metadata": {
    "tags": []
   },
   "outputs": [
    {
     "data": {
      "text/plain": [
       "PearsonRResult(statistic=0.04080655350935071, pvalue=0.07613024933800935)"
      ]
     },
     "execution_count": 34,
     "metadata": {},
     "output_type": "execute_result"
    }
   ],
   "source": [
    "stats.pearsonr(df_period_blood['입원기간'],df_period_blood['고혈압여부'])"
   ]
  },
  {
   "cell_type": "markdown",
   "id": "81e38480-3207-4b83-bfe6-d91b6a988528",
   "metadata": {
    "jp-MarkdownHeadingCollapsed": true,
    "tags": []
   },
   "source": [
    "#### 선정 변수 : 입원기간, 당뇨여부\n",
    "- 분석 내용 : 당뇨여부에 따른 입원기간의 차이가 있는가\n",
    "    - 귀무가설 : 입원기간의 차이 없다.\n",
    "    - 대립가설 : 입원기간의 차이 있다.\n",
    "- 분석 결론 (기준 : p-value 0.05)\n",
    "    - 통계 결론 : 대립가설이 참 (pvalue=0.0)\n",
    "    - 사실 결론 : 입원기간의 차이가 있다."
   ]
  },
  {
   "cell_type": "code",
   "execution_count": 35,
   "id": "4eead1de-3329-43b5-ad50-fe42894b8dbf",
   "metadata": {
    "tags": []
   },
   "outputs": [],
   "source": [
    "df_period_sugar = df_ROS[['입원기간','당뇨여부']].copy()"
   ]
  },
  {
   "cell_type": "code",
   "execution_count": 36,
   "id": "0bc46b01-2d36-4095-8f9e-b4f6058183b7",
   "metadata": {
    "tags": []
   },
   "outputs": [
    {
     "data": {
      "text/html": [
       "<div>\n",
       "<style scoped>\n",
       "    .dataframe tbody tr th:only-of-type {\n",
       "        vertical-align: middle;\n",
       "    }\n",
       "\n",
       "    .dataframe tbody tr th {\n",
       "        vertical-align: top;\n",
       "    }\n",
       "\n",
       "    .dataframe thead th {\n",
       "        text-align: right;\n",
       "    }\n",
       "</style>\n",
       "<table border=\"1\" class=\"dataframe\">\n",
       "  <thead>\n",
       "    <tr style=\"text-align: right;\">\n",
       "      <th></th>\n",
       "      <th>입원기간</th>\n",
       "      <th>당뇨여부</th>\n",
       "    </tr>\n",
       "  </thead>\n",
       "  <tbody>\n",
       "    <tr>\n",
       "      <th>입원기간</th>\n",
       "      <td>1.000000</td>\n",
       "      <td>0.021571</td>\n",
       "    </tr>\n",
       "    <tr>\n",
       "      <th>당뇨여부</th>\n",
       "      <td>0.021571</td>\n",
       "      <td>1.000000</td>\n",
       "    </tr>\n",
       "  </tbody>\n",
       "</table>\n",
       "</div>"
      ],
      "text/plain": [
       "          입원기간      당뇨여부\n",
       "입원기간  1.000000  0.021571\n",
       "당뇨여부  0.021571  1.000000"
      ]
     },
     "execution_count": 36,
     "metadata": {},
     "output_type": "execute_result"
    }
   ],
   "source": [
    "df_period_sugar.corr()"
   ]
  },
  {
   "cell_type": "code",
   "execution_count": 37,
   "id": "31aa00b4-a308-4257-a1fd-c40d74a4c856",
   "metadata": {
    "tags": []
   },
   "outputs": [
    {
     "data": {
      "text/plain": [
       "입원기간    0\n",
       "당뇨여부    0\n",
       "dtype: int64"
      ]
     },
     "execution_count": 37,
     "metadata": {},
     "output_type": "execute_result"
    }
   ],
   "source": [
    "df_period_sugar.isnull().sum()"
   ]
  },
  {
   "cell_type": "code",
   "execution_count": 38,
   "id": "66cc6c8a-2669-4237-98fa-866c61c887e0",
   "metadata": {
    "tags": []
   },
   "outputs": [],
   "source": [
    "df_period_sugar = df_period_sugar.dropna().copy()"
   ]
  },
  {
   "cell_type": "code",
   "execution_count": 39,
   "id": "9db3a40c-745d-424a-8f13-10eaab75e55b",
   "metadata": {
    "tags": []
   },
   "outputs": [
    {
     "name": "stdout",
     "output_type": "stream",
     "text": [
      "<class 'pandas.core.frame.DataFrame'>\n",
      "RangeIndex: 1890 entries, 0 to 1889\n",
      "Data columns (total 2 columns):\n",
      " #   Column  Non-Null Count  Dtype\n",
      "---  ------  --------------  -----\n",
      " 0   입원기간    1890 non-null   int64\n",
      " 1   당뇨여부    1890 non-null   int64\n",
      "dtypes: int64(2)\n",
      "memory usage: 29.7 KB\n"
     ]
    }
   ],
   "source": [
    "df_period_sugar.info()"
   ]
  },
  {
   "cell_type": "code",
   "execution_count": 40,
   "id": "aa1eef68-3be5-4ea0-9570-d30aeefe4903",
   "metadata": {
    "tags": []
   },
   "outputs": [
    {
     "data": {
      "text/plain": [
       "PearsonRResult(statistic=0.021571346138355898, pvalue=0.34861241786231345)"
      ]
     },
     "execution_count": 40,
     "metadata": {},
     "output_type": "execute_result"
    }
   ],
   "source": [
    "stats.pearsonr(df_period_sugar['입원기간'],df_period_sugar['당뇨여부'])"
   ]
  },
  {
   "cell_type": "markdown",
   "id": "d0ae6210-f7fd-4425-843f-52615a65964d",
   "metadata": {
    "tags": []
   },
   "source": [
    "#### 선정 변수 : 입원기간, 척추전방위증\n",
    "- 분석 내용 : 척추전방위증에 따른 입원기간의 차이가 있는가\n",
    "    - 귀무가설 : 입원기간의 차이 없다.\n",
    "    - 대립가설 : 입원기간의 차이 있다.\n",
    "- 분석 결론 (기준 : p-value 0.05)\n",
    "    - 통계 결론 : 대립가설이 참 (pvalue=0.0)\n",
    "    - 사실 결론 : 입원기간의 차이가 있다."
   ]
  },
  {
   "cell_type": "code",
   "execution_count": 41,
   "id": "c120f764-6850-4ddd-aaf0-ed1a778ae9e5",
   "metadata": {
    "tags": []
   },
   "outputs": [],
   "source": [
    "df_period_spondylolisthesis = df_ROS[['입원기간','척추전방위증']].copy()"
   ]
  },
  {
   "cell_type": "code",
   "execution_count": 42,
   "id": "c9f4bbc4-ea93-48e1-91d3-84c7b26e1ca1",
   "metadata": {
    "tags": []
   },
   "outputs": [
    {
     "data": {
      "text/html": [
       "<div>\n",
       "<style scoped>\n",
       "    .dataframe tbody tr th:only-of-type {\n",
       "        vertical-align: middle;\n",
       "    }\n",
       "\n",
       "    .dataframe tbody tr th {\n",
       "        vertical-align: top;\n",
       "    }\n",
       "\n",
       "    .dataframe thead th {\n",
       "        text-align: right;\n",
       "    }\n",
       "</style>\n",
       "<table border=\"1\" class=\"dataframe\">\n",
       "  <thead>\n",
       "    <tr style=\"text-align: right;\">\n",
       "      <th></th>\n",
       "      <th>입원기간</th>\n",
       "      <th>척추전방위증</th>\n",
       "    </tr>\n",
       "  </thead>\n",
       "  <tbody>\n",
       "    <tr>\n",
       "      <th>입원기간</th>\n",
       "      <td>1.000000</td>\n",
       "      <td>0.021708</td>\n",
       "    </tr>\n",
       "    <tr>\n",
       "      <th>척추전방위증</th>\n",
       "      <td>0.021708</td>\n",
       "      <td>1.000000</td>\n",
       "    </tr>\n",
       "  </tbody>\n",
       "</table>\n",
       "</div>"
      ],
      "text/plain": [
       "            입원기간    척추전방위증\n",
       "입원기간    1.000000  0.021708\n",
       "척추전방위증  0.021708  1.000000"
      ]
     },
     "execution_count": 42,
     "metadata": {},
     "output_type": "execute_result"
    }
   ],
   "source": [
    "df_period_spondylolisthesis.corr()"
   ]
  },
  {
   "cell_type": "code",
   "execution_count": 43,
   "id": "1bc7c6c0-09e1-46ce-bf85-2324037b11f1",
   "metadata": {
    "tags": []
   },
   "outputs": [
    {
     "data": {
      "text/plain": [
       "입원기간      0\n",
       "척추전방위증    0\n",
       "dtype: int64"
      ]
     },
     "execution_count": 43,
     "metadata": {},
     "output_type": "execute_result"
    }
   ],
   "source": [
    "df_period_spondylolisthesis.isnull().sum()"
   ]
  },
  {
   "cell_type": "code",
   "execution_count": 44,
   "id": "1c79b312-7b86-40f7-a50e-db263980b128",
   "metadata": {
    "tags": []
   },
   "outputs": [],
   "source": [
    "df_period_spondylolisthesis = df_period_spondylolisthesis.dropna().copy()"
   ]
  },
  {
   "cell_type": "code",
   "execution_count": 45,
   "id": "a2e19bd9-8316-4fdf-8efe-c7ea22a0dbd5",
   "metadata": {
    "tags": []
   },
   "outputs": [
    {
     "name": "stdout",
     "output_type": "stream",
     "text": [
      "<class 'pandas.core.frame.DataFrame'>\n",
      "RangeIndex: 1890 entries, 0 to 1889\n",
      "Data columns (total 2 columns):\n",
      " #   Column  Non-Null Count  Dtype\n",
      "---  ------  --------------  -----\n",
      " 0   입원기간    1890 non-null   int64\n",
      " 1   척추전방위증  1890 non-null   int64\n",
      "dtypes: int64(2)\n",
      "memory usage: 29.7 KB\n"
     ]
    }
   ],
   "source": [
    "df_period_spondylolisthesis.info()"
   ]
  },
  {
   "cell_type": "code",
   "execution_count": 46,
   "id": "66fa60b4-2986-45bd-adeb-d5bdeeaac52c",
   "metadata": {
    "tags": []
   },
   "outputs": [
    {
     "data": {
      "text/plain": [
       "PearsonRResult(statistic=0.021707563963577578, pvalue=0.34557643733933774)"
      ]
     },
     "execution_count": 46,
     "metadata": {},
     "output_type": "execute_result"
    }
   ],
   "source": [
    "stats.pearsonr(df_period_spondylolisthesis['입원기간'],df_period_spondylolisthesis['척추전방위증'])"
   ]
  },
  {
   "cell_type": "markdown",
   "id": "bfce9f99-4b66-46e9-8706-ee4de2a81253",
   "metadata": {},
   "source": [
    "#### 선정 변수 : 입원기간, PI\n",
    "- 분석 내용 : PI에 따른 입원기간의 차이가 있는가\n",
    "    - 귀무가설 : 입원기간의 차이 없다.\n",
    "    - 대립가설 : 입원기간의 차이 있다.\n",
    "- 분석 결론 (기준 : p-value 0.05)\n",
    "    - 통계 결론 : 대립가설이 참 (pvalue=0.0)\n",
    "    - 사실 결론 : 입원기간의 차이가 있다."
   ]
  },
  {
   "cell_type": "code",
   "execution_count": 47,
   "id": "08f4a0b9-f911-459d-b1e0-3ffac62b3bdf",
   "metadata": {
    "tags": []
   },
   "outputs": [],
   "source": [
    "df_period_pi = df_ROS[['입원기간','PI']].copy()"
   ]
  },
  {
   "cell_type": "code",
   "execution_count": 48,
   "id": "30b36cc1-6886-46c5-a434-8e0e478e6606",
   "metadata": {
    "tags": []
   },
   "outputs": [
    {
     "data": {
      "text/html": [
       "<div>\n",
       "<style scoped>\n",
       "    .dataframe tbody tr th:only-of-type {\n",
       "        vertical-align: middle;\n",
       "    }\n",
       "\n",
       "    .dataframe tbody tr th {\n",
       "        vertical-align: top;\n",
       "    }\n",
       "\n",
       "    .dataframe thead th {\n",
       "        text-align: right;\n",
       "    }\n",
       "</style>\n",
       "<table border=\"1\" class=\"dataframe\">\n",
       "  <thead>\n",
       "    <tr style=\"text-align: right;\">\n",
       "      <th></th>\n",
       "      <th>입원기간</th>\n",
       "      <th>PI</th>\n",
       "    </tr>\n",
       "  </thead>\n",
       "  <tbody>\n",
       "    <tr>\n",
       "      <th>입원기간</th>\n",
       "      <td>1.000000</td>\n",
       "      <td>-0.009462</td>\n",
       "    </tr>\n",
       "    <tr>\n",
       "      <th>PI</th>\n",
       "      <td>-0.009462</td>\n",
       "      <td>1.000000</td>\n",
       "    </tr>\n",
       "  </tbody>\n",
       "</table>\n",
       "</div>"
      ],
      "text/plain": [
       "          입원기간        PI\n",
       "입원기간  1.000000 -0.009462\n",
       "PI   -0.009462  1.000000"
      ]
     },
     "execution_count": 48,
     "metadata": {},
     "output_type": "execute_result"
    }
   ],
   "source": [
    "df_period_pi.corr()"
   ]
  },
  {
   "cell_type": "code",
   "execution_count": 49,
   "id": "86e6a35b-2e8a-4c20-8f65-eef067a07f25",
   "metadata": {
    "tags": []
   },
   "outputs": [
    {
     "data": {
      "text/plain": [
       "입원기간    0\n",
       "PI      0\n",
       "dtype: int64"
      ]
     },
     "execution_count": 49,
     "metadata": {},
     "output_type": "execute_result"
    }
   ],
   "source": [
    "df_period_pi.isnull().sum()"
   ]
  },
  {
   "cell_type": "code",
   "execution_count": 50,
   "id": "2f52f97a-8548-4b34-b83e-1bd52bac5e7e",
   "metadata": {
    "tags": []
   },
   "outputs": [],
   "source": [
    "df_period_pi = df_period_pi.dropna().copy()"
   ]
  },
  {
   "cell_type": "code",
   "execution_count": 51,
   "id": "88648bba-f99a-4d25-98d7-4abc208b24ea",
   "metadata": {
    "tags": []
   },
   "outputs": [
    {
     "name": "stdout",
     "output_type": "stream",
     "text": [
      "<class 'pandas.core.frame.DataFrame'>\n",
      "RangeIndex: 1890 entries, 0 to 1889\n",
      "Data columns (total 2 columns):\n",
      " #   Column  Non-Null Count  Dtype  \n",
      "---  ------  --------------  -----  \n",
      " 0   입원기간    1890 non-null   int64  \n",
      " 1   PI      1890 non-null   float64\n",
      "dtypes: float64(1), int64(1)\n",
      "memory usage: 29.7 KB\n"
     ]
    }
   ],
   "source": [
    "df_period_pi.info()"
   ]
  },
  {
   "cell_type": "code",
   "execution_count": 52,
   "id": "9fded50d-db59-45fa-97ae-ce35d4eb0cd6",
   "metadata": {
    "tags": []
   },
   "outputs": [
    {
     "data": {
      "text/plain": [
       "PearsonRResult(statistic=-0.009462281324902861, pvalue=0.6809981071755282)"
      ]
     },
     "execution_count": 52,
     "metadata": {},
     "output_type": "execute_result"
    }
   ],
   "source": [
    "stats.pearsonr(df_period_pi['입원기간'],df_period_pi['PI'])"
   ]
  },
  {
   "cell_type": "markdown",
   "id": "c22b078f-fcea-49bb-b6bc-f1b75296df4c",
   "metadata": {},
   "source": [
    "#### 선정 변수 : 입원기간, PT\n",
    "- 분석 내용 : PT에 따른 입원기간의 차이가 있는가\n",
    "    - 귀무가설 : 입원기간의 차이 없다.\n",
    "    - 대립가설 : 입원기간의 차이 있다.\n",
    "- 분석 결론 (기준 : p-value 0.05)\n",
    "    - 통계 결론 : 대립가설이 참 (pvalue=0.0)\n",
    "    - 사실 결론 : 입원기간의 차이가 있다."
   ]
  },
  {
   "cell_type": "code",
   "execution_count": 53,
   "id": "bfc83bb5-dab3-4889-b922-b88750df00de",
   "metadata": {
    "tags": []
   },
   "outputs": [],
   "source": [
    "df_period_pt = df_ROS[['입원기간','PT']].copy()"
   ]
  },
  {
   "cell_type": "code",
   "execution_count": 54,
   "id": "c3eb8dba-a658-4ff9-8b36-9dd0be442fba",
   "metadata": {
    "tags": []
   },
   "outputs": [
    {
     "data": {
      "text/html": [
       "<div>\n",
       "<style scoped>\n",
       "    .dataframe tbody tr th:only-of-type {\n",
       "        vertical-align: middle;\n",
       "    }\n",
       "\n",
       "    .dataframe tbody tr th {\n",
       "        vertical-align: top;\n",
       "    }\n",
       "\n",
       "    .dataframe thead th {\n",
       "        text-align: right;\n",
       "    }\n",
       "</style>\n",
       "<table border=\"1\" class=\"dataframe\">\n",
       "  <thead>\n",
       "    <tr style=\"text-align: right;\">\n",
       "      <th></th>\n",
       "      <th>입원기간</th>\n",
       "      <th>PT</th>\n",
       "    </tr>\n",
       "  </thead>\n",
       "  <tbody>\n",
       "    <tr>\n",
       "      <th>입원기간</th>\n",
       "      <td>1.000000</td>\n",
       "      <td>0.011451</td>\n",
       "    </tr>\n",
       "    <tr>\n",
       "      <th>PT</th>\n",
       "      <td>0.011451</td>\n",
       "      <td>1.000000</td>\n",
       "    </tr>\n",
       "  </tbody>\n",
       "</table>\n",
       "</div>"
      ],
      "text/plain": [
       "          입원기간        PT\n",
       "입원기간  1.000000  0.011451\n",
       "PT    0.011451  1.000000"
      ]
     },
     "execution_count": 54,
     "metadata": {},
     "output_type": "execute_result"
    }
   ],
   "source": [
    "df_period_pt.corr()"
   ]
  },
  {
   "cell_type": "code",
   "execution_count": 55,
   "id": "7d011801-e90b-4528-ab89-79a79ff7ad0e",
   "metadata": {
    "tags": []
   },
   "outputs": [
    {
     "data": {
      "text/plain": [
       "입원기간    0\n",
       "PT      0\n",
       "dtype: int64"
      ]
     },
     "execution_count": 55,
     "metadata": {},
     "output_type": "execute_result"
    }
   ],
   "source": [
    "df_period_pt.isnull().sum()"
   ]
  },
  {
   "cell_type": "code",
   "execution_count": 56,
   "id": "1bdf19f7-6c50-42aa-b759-4ecae8171cd4",
   "metadata": {
    "tags": []
   },
   "outputs": [],
   "source": [
    "df_period_pt = df_period_pt.dropna().copy()"
   ]
  },
  {
   "cell_type": "code",
   "execution_count": 57,
   "id": "4542f2a8-f7b3-4450-8cd9-b3a3ad4d1366",
   "metadata": {
    "tags": []
   },
   "outputs": [
    {
     "name": "stdout",
     "output_type": "stream",
     "text": [
      "<class 'pandas.core.frame.DataFrame'>\n",
      "RangeIndex: 1890 entries, 0 to 1889\n",
      "Data columns (total 2 columns):\n",
      " #   Column  Non-Null Count  Dtype  \n",
      "---  ------  --------------  -----  \n",
      " 0   입원기간    1890 non-null   int64  \n",
      " 1   PT      1890 non-null   float64\n",
      "dtypes: float64(1), int64(1)\n",
      "memory usage: 29.7 KB\n"
     ]
    }
   ],
   "source": [
    "df_period_pt.info()"
   ]
  },
  {
   "cell_type": "code",
   "execution_count": 58,
   "id": "313985cb-668a-403a-9f3f-78a250dca9d8",
   "metadata": {
    "tags": []
   },
   "outputs": [
    {
     "data": {
      "text/plain": [
       "PearsonRResult(statistic=0.011450550770305892, pvalue=0.6188437581048726)"
      ]
     },
     "execution_count": 58,
     "metadata": {},
     "output_type": "execute_result"
    }
   ],
   "source": [
    "stats.pearsonr(df_period_pt['입원기간'],df_period_pt['PT'])"
   ]
  },
  {
   "cell_type": "code",
   "execution_count": 59,
   "id": "572bcde9-1dcc-427f-8364-3aa4719fc36b",
   "metadata": {
    "tags": []
   },
   "outputs": [
    {
     "data": {
      "text/plain": [
       "<Axes: xlabel='입원기간', ylabel='count'>"
      ]
     },
     "execution_count": 59,
     "metadata": {},
     "output_type": "execute_result"
    },
    {
     "data": {
      "image/png": "[encoded data removed]",
      "text/plain": [
       "<Figure size 640x480 with 1 Axes>"
      ]
     },
     "metadata": {},
     "output_type": "display_data"
    }
   ],
   "source": [
    "sns.countplot(data=df_ROS, x='입원기간')"
   ]
  },
  {
   "cell_type": "code",
   "execution_count": 60,
   "id": "8c0f20cf-aa8c-4219-ac4a-0df4dfc8ecbb",
   "metadata": {
    "tags": []
   },
   "outputs": [
    {
     "data": {
      "text/plain": [
       "1     1149\n",
       "2      482\n",
       "3      180\n",
       "4       39\n",
       "8        6\n",
       "5        6\n",
       "6        4\n",
       "7        4\n",
       "0        3\n",
       "17       3\n",
       "11       3\n",
       "27       1\n",
       "46       1\n",
       "9        1\n",
       "18       1\n",
       "16       1\n",
       "44       1\n",
       "13       1\n",
       "15       1\n",
       "51       1\n",
       "12       1\n",
       "10       1\n",
       "Name: 입원기간, dtype: int64"
      ]
     },
     "execution_count": 60,
     "metadata": {},
     "output_type": "execute_result"
    }
   ],
   "source": [
    "df_ROS['입원기간'].value_counts()"
   ]
  },
  {
   "cell_type": "code",
   "execution_count": 61,
   "id": "b9a57591-d7bf-4426-861c-9e82608c1e0e",
   "metadata": {
    "tags": []
   },
   "outputs": [
    {
     "data": {
      "text/html": [
       "<div>\n",
       "<style scoped>\n",
       "    .dataframe tbody tr th:only-of-type {\n",
       "        vertical-align: middle;\n",
       "    }\n",
       "\n",
       "    .dataframe tbody tr th {\n",
       "        vertical-align: top;\n",
       "    }\n",
       "\n",
       "    .dataframe thead th {\n",
       "        text-align: right;\n",
       "    }\n",
       "</style>\n",
       "<table border=\"1\" class=\"dataframe\">\n",
       "  <thead>\n",
       "    <tr style=\"text-align: right;\">\n",
       "      <th></th>\n",
       "      <th>입원기간</th>\n",
       "      <th>고혈압여부</th>\n",
       "    </tr>\n",
       "  </thead>\n",
       "  <tbody>\n",
       "  </tbody>\n",
       "</table>\n",
       "</div>"
      ],
      "text/plain": [
       "Empty DataFrame\n",
       "Columns: [입원기간, 고혈압여부]\n",
       "Index: []"
      ]
     },
     "execution_count": 61,
     "metadata": {},
     "output_type": "execute_result"
    }
   ],
   "source": [
    "condition = (df_ROS['입원기간'] == '고혈압여부') | (df_ROS['입원기간'] == '당뇨여부')  | (df_ROS['입원기간'] == '척추전방위증') \n",
    "df_channel_amount = df_ROS[condition][['입원기간','입원기간']]\n",
    "df_channel_amount.head(10) "
   ]
  },
  {
   "cell_type": "code",
   "execution_count": null,
   "id": "9cd59f5e-9d28-4b7a-8c32-27cce42424ef",
   "metadata": {},
   "outputs": [],
   "source": []
  }
 ],
 "metadata": {
  "kernelspec": {
   "display_name": "Python 3 (ipykernel)",
   "language": "python",
   "name": "python3"
  },
  "language_info": {
   "codemirror_mode": {
    "name": "ipython",
    "version": 3
   },
   "file_extension": ".py",
   "mimetype": "text/x-python",
   "name": "python",
   "nbconvert_exporter": "python",
   "pygments_lexer": "ipython3",
   "version": "3.11.3"
  }
 },
 "nbformat": 4,
 "nbformat_minor": 5
}
