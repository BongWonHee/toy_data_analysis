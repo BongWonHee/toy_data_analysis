{
 "cells": [
  {
   "cell_type": "code",
   "execution_count": 1,
   "id": "78eb407e-0708-4964-bdc3-21426e130b08",
   "metadata": {
    "tags": []
   },
   "outputs": [],
   "source": [
    "import pandas as pd\n",
    "import numpy as np\n",
    "import matplotlib as mpl\n",
    "import matplotlib.pyplot as plt\n",
    "mpl.rc('font', family='Malgun Gothic')\n",
    "import seaborn as sns\n",
    "import scipy.stats as stats"
   ]
  },
  {
   "cell_type": "code",
   "execution_count": 2,
   "id": "4d53eaa6-a5ff-4c8d-9297-1975a33c7758",
   "metadata": {
    "tags": []
   },
   "outputs": [
    {
     "data": {
      "text/html": [
       "<div>\n",
       "<style scoped>\n",
       "    .dataframe tbody tr th:only-of-type {\n",
       "        vertical-align: middle;\n",
       "    }\n",
       "\n",
       "    .dataframe tbody tr th {\n",
       "        vertical-align: top;\n",
       "    }\n",
       "\n",
       "    .dataframe thead th {\n",
       "        text-align: right;\n",
       "    }\n",
       "</style>\n",
       "<table border=\"1\" class=\"dataframe\">\n",
       "  <thead>\n",
       "    <tr style=\"text-align: right;\">\n",
       "      <th></th>\n",
       "      <th>Unnamed: 0.1</th>\n",
       "      <th>Unnamed: 0</th>\n",
       "      <th>SICK_SYM1</th>\n",
       "      <th>OPRTN_YN</th>\n",
       "      <th>BTH_YYYY</th>\n",
       "      <th>VSHSP_DD_CNT</th>\n",
       "      <th>EDC_SBA</th>\n",
       "      <th>MDCARE_DD_CNT</th>\n",
       "      <th>EDC_INSUR_BRDN_AMT</th>\n",
       "    </tr>\n",
       "  </thead>\n",
       "  <tbody>\n",
       "    <tr>\n",
       "      <th>0</th>\n",
       "      <td>190</td>\n",
       "      <td>190</td>\n",
       "      <td>I10</td>\n",
       "      <td>0</td>\n",
       "      <td>1921LE</td>\n",
       "      <td>1</td>\n",
       "      <td>3000</td>\n",
       "      <td>1</td>\n",
       "      <td>4570</td>\n",
       "    </tr>\n",
       "    <tr>\n",
       "      <th>1</th>\n",
       "      <td>195</td>\n",
       "      <td>195</td>\n",
       "      <td>I10</td>\n",
       "      <td>0</td>\n",
       "      <td>1921LE</td>\n",
       "      <td>2</td>\n",
       "      <td>6000</td>\n",
       "      <td>2</td>\n",
       "      <td>12160</td>\n",
       "    </tr>\n",
       "    <tr>\n",
       "      <th>2</th>\n",
       "      <td>197</td>\n",
       "      <td>197</td>\n",
       "      <td>I10</td>\n",
       "      <td>0</td>\n",
       "      <td>1921LE</td>\n",
       "      <td>1</td>\n",
       "      <td>3000</td>\n",
       "      <td>1</td>\n",
       "      <td>4570</td>\n",
       "    </tr>\n",
       "    <tr>\n",
       "      <th>3</th>\n",
       "      <td>284</td>\n",
       "      <td>284</td>\n",
       "      <td>I10</td>\n",
       "      <td>0</td>\n",
       "      <td>1921LE</td>\n",
       "      <td>1</td>\n",
       "      <td>4200</td>\n",
       "      <td>1</td>\n",
       "      <td>10000</td>\n",
       "    </tr>\n",
       "    <tr>\n",
       "      <th>4</th>\n",
       "      <td>769</td>\n",
       "      <td>769</td>\n",
       "      <td>I10</td>\n",
       "      <td>0</td>\n",
       "      <td>1921LE</td>\n",
       "      <td>1</td>\n",
       "      <td>1500</td>\n",
       "      <td>1</td>\n",
       "      <td>5810</td>\n",
       "    </tr>\n",
       "    <tr>\n",
       "      <th>...</th>\n",
       "      <td>...</td>\n",
       "      <td>...</td>\n",
       "      <td>...</td>\n",
       "      <td>...</td>\n",
       "      <td>...</td>\n",
       "      <td>...</td>\n",
       "      <td>...</td>\n",
       "      <td>...</td>\n",
       "      <td>...</td>\n",
       "    </tr>\n",
       "    <tr>\n",
       "      <th>4624</th>\n",
       "      <td>124484</td>\n",
       "      <td>124484</td>\n",
       "      <td>I10</td>\n",
       "      <td>0</td>\n",
       "      <td>2005</td>\n",
       "      <td>1</td>\n",
       "      <td>3000</td>\n",
       "      <td>1</td>\n",
       "      <td>6050</td>\n",
       "    </tr>\n",
       "    <tr>\n",
       "      <th>4625</th>\n",
       "      <td>124485</td>\n",
       "      <td>124485</td>\n",
       "      <td>I10</td>\n",
       "      <td>0</td>\n",
       "      <td>2005</td>\n",
       "      <td>1</td>\n",
       "      <td>3000</td>\n",
       "      <td>1</td>\n",
       "      <td>6050</td>\n",
       "    </tr>\n",
       "    <tr>\n",
       "      <th>4626</th>\n",
       "      <td>124486</td>\n",
       "      <td>124486</td>\n",
       "      <td>I10</td>\n",
       "      <td>0</td>\n",
       "      <td>2005</td>\n",
       "      <td>1</td>\n",
       "      <td>3000</td>\n",
       "      <td>1</td>\n",
       "      <td>6050</td>\n",
       "    </tr>\n",
       "    <tr>\n",
       "      <th>4627</th>\n",
       "      <td>124495</td>\n",
       "      <td>124495</td>\n",
       "      <td>I10</td>\n",
       "      <td>0</td>\n",
       "      <td>2005</td>\n",
       "      <td>1</td>\n",
       "      <td>3000</td>\n",
       "      <td>1</td>\n",
       "      <td>6380</td>\n",
       "    </tr>\n",
       "    <tr>\n",
       "      <th>4628</th>\n",
       "      <td>124590</td>\n",
       "      <td>124590</td>\n",
       "      <td>I10</td>\n",
       "      <td>0</td>\n",
       "      <td>2005</td>\n",
       "      <td>1</td>\n",
       "      <td>1500</td>\n",
       "      <td>1</td>\n",
       "      <td>10780</td>\n",
       "    </tr>\n",
       "  </tbody>\n",
       "</table>\n",
       "<p>4629 rows × 9 columns</p>\n",
       "</div>"
      ],
      "text/plain": [
       "      Unnamed: 0.1  Unnamed: 0 SICK_SYM1  OPRTN_YN BTH_YYYY  VSHSP_DD_CNT  \\\n",
       "0              190         190       I10         0   1921LE             1   \n",
       "1              195         195       I10         0   1921LE             2   \n",
       "2              197         197       I10         0   1921LE             1   \n",
       "3              284         284       I10         0   1921LE             1   \n",
       "4              769         769       I10         0   1921LE             1   \n",
       "...            ...         ...       ...       ...      ...           ...   \n",
       "4624        124484      124484       I10         0     2005             1   \n",
       "4625        124485      124485       I10         0     2005             1   \n",
       "4626        124486      124486       I10         0     2005             1   \n",
       "4627        124495      124495       I10         0     2005             1   \n",
       "4628        124590      124590       I10         0     2005             1   \n",
       "\n",
       "      EDC_SBA  MDCARE_DD_CNT  EDC_INSUR_BRDN_AMT  \n",
       "0        3000              1                4570  \n",
       "1        6000              2               12160  \n",
       "2        3000              1                4570  \n",
       "3        4200              1               10000  \n",
       "4        1500              1                5810  \n",
       "...       ...            ...                 ...  \n",
       "4624     3000              1                6050  \n",
       "4625     3000              1                6050  \n",
       "4626     3000              1                6050  \n",
       "4627     3000              1                6380  \n",
       "4628     1500              1               10780  \n",
       "\n",
       "[4629 rows x 9 columns]"
      ]
     },
     "execution_count": 2,
     "metadata": {},
     "output_type": "execute_result"
    }
   ],
   "source": [
    "df_NHIS = pd.read_csv('./NBMQ_i10.csv')\n",
    "df_NHIS"
   ]
  },
  {
   "cell_type": "code",
   "execution_count": 3,
   "id": "daaed0f6-04a2-4cdc-a571-a9030b7b7b07",
   "metadata": {
    "tags": []
   },
   "outputs": [
    {
     "data": {
      "text/plain": [
       "['Unnamed: 0.1',\n",
       " 'Unnamed: 0',\n",
       " 'OPRTN_YN',\n",
       " 'VSHSP_DD_CNT',\n",
       " 'EDC_SBA',\n",
       " 'MDCARE_DD_CNT',\n",
       " 'EDC_INSUR_BRDN_AMT']"
      ]
     },
     "execution_count": 3,
     "metadata": {},
     "output_type": "execute_result"
    }
   ],
   "source": [
    "df_NHIS_list = df_NHIS.describe().columns.to_list()\n",
    "df_NHIS_list"
   ]
  },
  {
   "cell_type": "code",
   "execution_count": 4,
   "id": "9e3f97ce-d560-4590-9878-55a9deea34f5",
   "metadata": {
    "tags": []
   },
   "outputs": [
    {
     "name": "stdout",
     "output_type": "stream",
     "text": [
      "<class 'pandas.core.frame.DataFrame'>\n",
      "RangeIndex: 4629 entries, 0 to 4628\n",
      "Data columns (total 9 columns):\n",
      " #   Column              Non-Null Count  Dtype \n",
      "---  ------              --------------  ----- \n",
      " 0   Unnamed: 0.1        4629 non-null   int64 \n",
      " 1   Unnamed: 0          4629 non-null   int64 \n",
      " 2   SICK_SYM1           4629 non-null   object\n",
      " 3   OPRTN_YN            4629 non-null   int64 \n",
      " 4   BTH_YYYY            4629 non-null   object\n",
      " 5   VSHSP_DD_CNT        4629 non-null   int64 \n",
      " 6   EDC_SBA             4629 non-null   int64 \n",
      " 7   MDCARE_DD_CNT       4629 non-null   int64 \n",
      " 8   EDC_INSUR_BRDN_AMT  4629 non-null   int64 \n",
      "dtypes: int64(7), object(2)\n",
      "memory usage: 325.6+ KB\n"
     ]
    }
   ],
   "source": [
    "df_NHIS.info()"
   ]
  },
  {
   "cell_type": "markdown",
   "id": "1d495b9d-7ee6-4c1b-9219-c9f845c4258f",
   "metadata": {},
   "source": [
    "### 단일 변수에 대한 정규성 여부 판단\n",
    "- 검증 개수에 따른 방법 선택\n",
    "    - 5천개 이하: shapiro normality test\n",
    "    - 5천개 이상: Anderson normality test"
   ]
  },
  {
   "cell_type": "markdown",
   "id": "ede22e85-a010-4e64-8447-a09506505d8e",
   "metadata": {},
   "source": [
    "### X: 연속형 / Y: 연속형: 주로 상관관계 확인\n",
    "- correlation coefficient(상관계수)\n",
    "    - -1 ~ 1\n",
    "    - 0에 가까우면 관계없음, -1로 갈수록 반비례, 1로 갈수록 정비례"
   ]
  },
  {
   "cell_type": "markdown",
   "id": "2d4684b3-48af-4d5a-b43a-8d1e752f0841",
   "metadata": {},
   "source": [
    "### 변수 설명\n",
    "- SICK_SYM1 (질병 증상)\n",
    "- OPRTN_YN (수술 여부) : pvalue=1.1662903985210721e-39\n",
    "- BTH_YYYY (생년월일)\n",
    "- VSHSP_DD_CNT (전문의 방문 횟수)\n",
    "- EDC_SBA (전자 데이터 캡처 소상공인청)\n",
    "- MDCARE_DD_CNT (메디케어 공제 횟수) : pvalue=1.7574341125238046e-62\n",
    "- EDC_INSUR_BRDN_AMT (EDC 보험 부담 금액)"
   ]
  },
  {
   "cell_type": "markdown",
   "id": "b46489b3-4a1b-414b-8a19-2ae28b890be4",
   "metadata": {},
   "source": [
    "#### 분석 스토리\n",
    "수술 여부와 메디케어 공제 횟수에 따라 보험 부담 금액이 달라지는것으로 보인다"
   ]
  },
  {
   "cell_type": "markdown",
   "id": "b9d35b5e-89a9-4982-b206-38db25c3e468",
   "metadata": {},
   "source": [
    "### 선정 변수 : EDC_INSUR_BRDN_AMT\n",
    "- 분석 내용 : EDC 보험 부담 금액은 정규 분포를 따르는가?\n",
    "    - 귀무 가설 : EDC 보험 부담 금액은 정규 분포이다.\n",
    "    - 대립 가설 : EDC 보험 부담 금액은 정규 분포가 아니다.\n",
    "- 분석 결론 (기준 : p-value 0.05)\n",
    "    - 통계 결론 : 81.5 > 0.78(p-value 0.05)이므로 귀무 가설이 참\n",
    "    - 사실 결론 : EDC 보험 부담 금액은 정규 분포이다."
   ]
  },
  {
   "cell_type": "code",
   "execution_count": 5,
   "id": "83ce814e-bc00-4c2d-8f58-0a7b3586b0c3",
   "metadata": {
    "tags": []
   },
   "outputs": [],
   "source": [
    "df_EDC_INSUR_BRDN_AMT = df_NHIS['EDC_INSUR_BRDN_AMT']"
   ]
  },
  {
   "cell_type": "code",
   "execution_count": 6,
   "id": "965bc057-5407-4419-8598-71bfbc2db60a",
   "metadata": {
    "tags": []
   },
   "outputs": [
    {
     "data": {
      "image/png": "[encoded data removed]",
      "text/plain": [
       "<Figure size 640x480 with 1 Axes>"
      ]
     },
     "metadata": {},
     "output_type": "display_data"
    }
   ],
   "source": [
    "sns.histplot(data=df_NHIS, x='EDC_INSUR_BRDN_AMT', kde=True)\n",
    "plt.show()"
   ]
  },
  {
   "cell_type": "code",
   "execution_count": 7,
   "id": "fd09786f-95f2-454d-b59a-7f9cdbcc7cb1",
   "metadata": {
    "tags": []
   },
   "outputs": [],
   "source": [
    "df_EDC_INSUR_BRDN_AMT = df_NHIS['EDC_INSUR_BRDN_AMT'].dropna()"
   ]
  },
  {
   "cell_type": "code",
   "execution_count": 8,
   "id": "af6f9751-3229-4203-867f-6be3e647b23b",
   "metadata": {
    "tags": []
   },
   "outputs": [
    {
     "data": {
      "text/plain": [
       "4629"
      ]
     },
     "execution_count": 8,
     "metadata": {},
     "output_type": "execute_result"
    }
   ],
   "source": [
    "df_EDC_INSUR_BRDN_AMT.count()"
   ]
  },
  {
   "cell_type": "markdown",
   "id": "587a4958-3fb8-4039-8c7c-4d2f207fd040",
   "metadata": {},
   "source": [
    "5천개 이하: shapiro normality test"
   ]
  },
  {
   "cell_type": "code",
   "execution_count": 9,
   "id": "581e6e81-2df9-4e0d-a53d-e99303a251bd",
   "metadata": {
    "tags": []
   },
   "outputs": [
    {
     "data": {
      "text/plain": [
       "(1335.2043896168316,\n",
       " array([0.576, 0.655, 0.786, 0.917, 1.091]),\n",
       " array([15. , 10. ,  5. ,  2.5,  1. ]))"
      ]
     },
     "execution_count": 9,
     "metadata": {},
     "output_type": "execute_result"
    }
   ],
   "source": [
    "## s < cv : 정규분포, s > cv : 비정규분포 \n",
    "s, cv, sl = stats.anderson(df_EDC_INSUR_BRDN_AMT)\n",
    "s, cv, sl \n",
    "\n",
    "##  s > cv 대립가설 참\n",
    "##  s < cv 귀무가설  참"
   ]
  },
  {
   "cell_type": "markdown",
   "id": "b8b0586d-84e6-41bb-be1e-4ae97cf619d8",
   "metadata": {},
   "source": [
    "#### 선정 변수: OPRTN_YN -> EDC_INSUR_BRDN_AMT\n",
    "- 분석 내용: 수술 여부에 따라서 보험 부담 금액 변화가 있는가?\n",
    "    - 귀무 가설: 수술 여부에 따라서 보험 부담 금액 변화가 없다.\n",
    "    - 대립 가설: 수술 여부에 따라서 보험 부담 금액 변화가 있다.\n",
    "- 분석 결론 (기준: p-value 0.05)\n",
    "    - 통계 결론: 대립가설 참\n",
    "    - 사실 결론: 수술 여부에 따라서 보험 부담 금액 올라간다."
   ]
  },
  {
   "cell_type": "code",
   "execution_count": 10,
   "id": "1d36fb4e-679e-4e6a-ace1-38087de918e9",
   "metadata": {
    "tags": []
   },
   "outputs": [
    {
     "data": {
      "text/html": [
       "<div>\n",
       "<style scoped>\n",
       "    .dataframe tbody tr th:only-of-type {\n",
       "        vertical-align: middle;\n",
       "    }\n",
       "\n",
       "    .dataframe tbody tr th {\n",
       "        vertical-align: top;\n",
       "    }\n",
       "\n",
       "    .dataframe thead th {\n",
       "        text-align: right;\n",
       "    }\n",
       "</style>\n",
       "<table border=\"1\" class=\"dataframe\">\n",
       "  <thead>\n",
       "    <tr style=\"text-align: right;\">\n",
       "      <th></th>\n",
       "      <th>OPRTN_YN</th>\n",
       "      <th>EDC_INSUR_BRDN_AMT</th>\n",
       "    </tr>\n",
       "  </thead>\n",
       "  <tbody>\n",
       "    <tr>\n",
       "      <th>0</th>\n",
       "      <td>0</td>\n",
       "      <td>4570</td>\n",
       "    </tr>\n",
       "    <tr>\n",
       "      <th>1</th>\n",
       "      <td>0</td>\n",
       "      <td>12160</td>\n",
       "    </tr>\n",
       "    <tr>\n",
       "      <th>2</th>\n",
       "      <td>0</td>\n",
       "      <td>4570</td>\n",
       "    </tr>\n",
       "    <tr>\n",
       "      <th>3</th>\n",
       "      <td>0</td>\n",
       "      <td>10000</td>\n",
       "    </tr>\n",
       "    <tr>\n",
       "      <th>4</th>\n",
       "      <td>0</td>\n",
       "      <td>5810</td>\n",
       "    </tr>\n",
       "    <tr>\n",
       "      <th>...</th>\n",
       "      <td>...</td>\n",
       "      <td>...</td>\n",
       "    </tr>\n",
       "    <tr>\n",
       "      <th>4624</th>\n",
       "      <td>0</td>\n",
       "      <td>6050</td>\n",
       "    </tr>\n",
       "    <tr>\n",
       "      <th>4625</th>\n",
       "      <td>0</td>\n",
       "      <td>6050</td>\n",
       "    </tr>\n",
       "    <tr>\n",
       "      <th>4626</th>\n",
       "      <td>0</td>\n",
       "      <td>6050</td>\n",
       "    </tr>\n",
       "    <tr>\n",
       "      <th>4627</th>\n",
       "      <td>0</td>\n",
       "      <td>6380</td>\n",
       "    </tr>\n",
       "    <tr>\n",
       "      <th>4628</th>\n",
       "      <td>0</td>\n",
       "      <td>10780</td>\n",
       "    </tr>\n",
       "  </tbody>\n",
       "</table>\n",
       "<p>4629 rows × 2 columns</p>\n",
       "</div>"
      ],
      "text/plain": [
       "      OPRTN_YN  EDC_INSUR_BRDN_AMT\n",
       "0            0                4570\n",
       "1            0               12160\n",
       "2            0                4570\n",
       "3            0               10000\n",
       "4            0                5810\n",
       "...        ...                 ...\n",
       "4624         0                6050\n",
       "4625         0                6050\n",
       "4626         0                6050\n",
       "4627         0                6380\n",
       "4628         0               10780\n",
       "\n",
       "[4629 rows x 2 columns]"
      ]
     },
     "execution_count": 10,
     "metadata": {},
     "output_type": "execute_result"
    }
   ],
   "source": [
    "df_OPRTN_YN = df_NHIS[['OPRTN_YN','EDC_INSUR_BRDN_AMT']]\n",
    "df_OPRTN_YN"
   ]
  },
  {
   "cell_type": "code",
   "execution_count": 11,
   "id": "63237f11-78bd-4882-aec5-1aaaacdc7cdb",
   "metadata": {
    "tags": []
   },
   "outputs": [
    {
     "data": {
      "text/plain": [
       "OPRTN_YN              0\n",
       "EDC_INSUR_BRDN_AMT    0\n",
       "dtype: int64"
      ]
     },
     "execution_count": 11,
     "metadata": {},
     "output_type": "execute_result"
    }
   ],
   "source": [
    "df_OPRTN_YN.isnull().sum()"
   ]
  },
  {
   "cell_type": "code",
   "execution_count": 12,
   "id": "653259ba-3c5c-4564-810e-5978959d0459",
   "metadata": {
    "tags": []
   },
   "outputs": [],
   "source": [
    "df_OPRTN_YN = df_OPRTN_YN.dropna().copy()"
   ]
  },
  {
   "cell_type": "code",
   "execution_count": 13,
   "id": "26d375bd-2644-40d6-88f7-7f5d7b25d5b1",
   "metadata": {
    "tags": []
   },
   "outputs": [
    {
     "data": {
      "text/plain": [
       "PearsonRResult(statistic=0.19194547999546901, pvalue=1.1662903985210721e-39)"
      ]
     },
     "execution_count": 13,
     "metadata": {},
     "output_type": "execute_result"
    }
   ],
   "source": [
    "stats.pearsonr(df_OPRTN_YN['OPRTN_YN'], df_OPRTN_YN['EDC_INSUR_BRDN_AMT'])"
   ]
  },
  {
   "cell_type": "markdown",
   "id": "4b7d03ae-599a-4709-beb1-35ef2a4eb90a",
   "metadata": {},
   "source": [
    "#### 선정 변수: VSHSP_DD_CNT -> EDC_INSUR_BRDN_AMT\n",
    "- 분석 내용: 전문의 방문 횟수에 따라서 보험 부담 금액 변화가 있는가?\n",
    "    - 귀무 가설: 전문의 방문 횟수에 따라서 보험 부담 금액 변화가 없다.\n",
    "    - 대립 가설: 전문의 방문 횟수에 따라서 보험 부담 금액 변화가 있다.\n",
    "- 분석 결론 (기준: p-value 0.05)\n",
    "    - 통계 결론: 대립가설 참\n",
    "    - 사실 결론: 전문의 방문 횟수에 따라서 보험 부담 금액 올라간다."
   ]
  },
  {
   "cell_type": "code",
   "execution_count": 14,
   "id": "66abfd54-c1b6-411c-8e61-93b2a25e369b",
   "metadata": {
    "tags": []
   },
   "outputs": [
    {
     "data": {
      "text/html": [
       "<div>\n",
       "<style scoped>\n",
       "    .dataframe tbody tr th:only-of-type {\n",
       "        vertical-align: middle;\n",
       "    }\n",
       "\n",
       "    .dataframe tbody tr th {\n",
       "        vertical-align: top;\n",
       "    }\n",
       "\n",
       "    .dataframe thead th {\n",
       "        text-align: right;\n",
       "    }\n",
       "</style>\n",
       "<table border=\"1\" class=\"dataframe\">\n",
       "  <thead>\n",
       "    <tr style=\"text-align: right;\">\n",
       "      <th></th>\n",
       "      <th>VSHSP_DD_CNT</th>\n",
       "      <th>EDC_INSUR_BRDN_AMT</th>\n",
       "    </tr>\n",
       "  </thead>\n",
       "  <tbody>\n",
       "    <tr>\n",
       "      <th>0</th>\n",
       "      <td>1</td>\n",
       "      <td>4570</td>\n",
       "    </tr>\n",
       "    <tr>\n",
       "      <th>1</th>\n",
       "      <td>2</td>\n",
       "      <td>12160</td>\n",
       "    </tr>\n",
       "    <tr>\n",
       "      <th>2</th>\n",
       "      <td>1</td>\n",
       "      <td>4570</td>\n",
       "    </tr>\n",
       "    <tr>\n",
       "      <th>3</th>\n",
       "      <td>1</td>\n",
       "      <td>10000</td>\n",
       "    </tr>\n",
       "    <tr>\n",
       "      <th>4</th>\n",
       "      <td>1</td>\n",
       "      <td>5810</td>\n",
       "    </tr>\n",
       "    <tr>\n",
       "      <th>...</th>\n",
       "      <td>...</td>\n",
       "      <td>...</td>\n",
       "    </tr>\n",
       "    <tr>\n",
       "      <th>4624</th>\n",
       "      <td>1</td>\n",
       "      <td>6050</td>\n",
       "    </tr>\n",
       "    <tr>\n",
       "      <th>4625</th>\n",
       "      <td>1</td>\n",
       "      <td>6050</td>\n",
       "    </tr>\n",
       "    <tr>\n",
       "      <th>4626</th>\n",
       "      <td>1</td>\n",
       "      <td>6050</td>\n",
       "    </tr>\n",
       "    <tr>\n",
       "      <th>4627</th>\n",
       "      <td>1</td>\n",
       "      <td>6380</td>\n",
       "    </tr>\n",
       "    <tr>\n",
       "      <th>4628</th>\n",
       "      <td>1</td>\n",
       "      <td>10780</td>\n",
       "    </tr>\n",
       "  </tbody>\n",
       "</table>\n",
       "<p>4629 rows × 2 columns</p>\n",
       "</div>"
      ],
      "text/plain": [
       "      VSHSP_DD_CNT  EDC_INSUR_BRDN_AMT\n",
       "0                1                4570\n",
       "1                2               12160\n",
       "2                1                4570\n",
       "3                1               10000\n",
       "4                1                5810\n",
       "...            ...                 ...\n",
       "4624             1                6050\n",
       "4625             1                6050\n",
       "4626             1                6050\n",
       "4627             1                6380\n",
       "4628             1               10780\n",
       "\n",
       "[4629 rows x 2 columns]"
      ]
     },
     "execution_count": 14,
     "metadata": {},
     "output_type": "execute_result"
    }
   ],
   "source": [
    "df_VSHSP_DD_CNT = df_NHIS[['VSHSP_DD_CNT','EDC_INSUR_BRDN_AMT']]\n",
    "df_VSHSP_DD_CNT"
   ]
  },
  {
   "cell_type": "code",
   "execution_count": 15,
   "id": "46031a0c-8675-4f5a-85cf-7e4acf9a03c4",
   "metadata": {
    "tags": []
   },
   "outputs": [
    {
     "data": {
      "text/plain": [
       "VSHSP_DD_CNT          0\n",
       "EDC_INSUR_BRDN_AMT    0\n",
       "dtype: int64"
      ]
     },
     "execution_count": 15,
     "metadata": {},
     "output_type": "execute_result"
    }
   ],
   "source": [
    "df_VSHSP_DD_CNT.isnull().sum()"
   ]
  },
  {
   "cell_type": "code",
   "execution_count": 16,
   "id": "344e759d-c9a0-432e-8c19-4d43300b32f0",
   "metadata": {
    "tags": []
   },
   "outputs": [],
   "source": [
    "df_VSHSP_DD_CNT = df_NHIS['VSHSP_DD_CNT'].dropna()"
   ]
  },
  {
   "cell_type": "code",
   "execution_count": 17,
   "id": "13beb11f-7000-433a-a315-86f34c897376",
   "metadata": {
    "tags": []
   },
   "outputs": [
    {
     "data": {
      "text/plain": [
       "(1445.6397248233925,\n",
       " array([0.576, 0.655, 0.786, 0.917, 1.091]),\n",
       " array([15. , 10. ,  5. ,  2.5,  1. ]))"
      ]
     },
     "execution_count": 17,
     "metadata": {},
     "output_type": "execute_result"
    }
   ],
   "source": [
    "s, cv, sl = stats.anderson(df_VSHSP_DD_CNT)\n",
    "s, cv, sl"
   ]
  },
  {
   "cell_type": "markdown",
   "id": "1ce2297d-7072-4865-8a26-cce1094eadb8",
   "metadata": {
    "tags": []
   },
   "source": [
    "#### 선정 변수: MDCARE_DD_CNT -> EDC_INSUR_BRDN_AMT\n",
    "- 분석 내용: 메디케어 공제 횟수에 따라서 보험 부담 금액 변화가 있는가?\n",
    "    - 귀무 가설: 메디케어 공제 횟수에 따라서 보험 부담 금액 변화가 없다.\n",
    "    - 대립 가설: 메디케어 공제 횟수에 따라서 보험 부담 금액 변화가 있다.\n",
    "- 분석 결론 (기준: p-value 0.05)\n",
    "    - 통계 결론: 대립가설 참\n",
    "    - 사실 결론: 메디케어 공제 횟수에 따라서 보험 부담 금액 올라간다."
   ]
  },
  {
   "cell_type": "code",
   "execution_count": 18,
   "id": "1c9d90ff-4449-49e3-8ecb-d8ef18fd936d",
   "metadata": {
    "tags": []
   },
   "outputs": [
    {
     "data": {
      "text/html": [
       "<div>\n",
       "<style scoped>\n",
       "    .dataframe tbody tr th:only-of-type {\n",
       "        vertical-align: middle;\n",
       "    }\n",
       "\n",
       "    .dataframe tbody tr th {\n",
       "        vertical-align: top;\n",
       "    }\n",
       "\n",
       "    .dataframe thead th {\n",
       "        text-align: right;\n",
       "    }\n",
       "</style>\n",
       "<table border=\"1\" class=\"dataframe\">\n",
       "  <thead>\n",
       "    <tr style=\"text-align: right;\">\n",
       "      <th></th>\n",
       "      <th>MDCARE_DD_CNT</th>\n",
       "      <th>EDC_INSUR_BRDN_AMT</th>\n",
       "    </tr>\n",
       "  </thead>\n",
       "  <tbody>\n",
       "    <tr>\n",
       "      <th>0</th>\n",
       "      <td>1</td>\n",
       "      <td>4570</td>\n",
       "    </tr>\n",
       "    <tr>\n",
       "      <th>1</th>\n",
       "      <td>2</td>\n",
       "      <td>12160</td>\n",
       "    </tr>\n",
       "    <tr>\n",
       "      <th>2</th>\n",
       "      <td>1</td>\n",
       "      <td>4570</td>\n",
       "    </tr>\n",
       "    <tr>\n",
       "      <th>3</th>\n",
       "      <td>1</td>\n",
       "      <td>10000</td>\n",
       "    </tr>\n",
       "    <tr>\n",
       "      <th>4</th>\n",
       "      <td>1</td>\n",
       "      <td>5810</td>\n",
       "    </tr>\n",
       "    <tr>\n",
       "      <th>...</th>\n",
       "      <td>...</td>\n",
       "      <td>...</td>\n",
       "    </tr>\n",
       "    <tr>\n",
       "      <th>4624</th>\n",
       "      <td>1</td>\n",
       "      <td>6050</td>\n",
       "    </tr>\n",
       "    <tr>\n",
       "      <th>4625</th>\n",
       "      <td>1</td>\n",
       "      <td>6050</td>\n",
       "    </tr>\n",
       "    <tr>\n",
       "      <th>4626</th>\n",
       "      <td>1</td>\n",
       "      <td>6050</td>\n",
       "    </tr>\n",
       "    <tr>\n",
       "      <th>4627</th>\n",
       "      <td>1</td>\n",
       "      <td>6380</td>\n",
       "    </tr>\n",
       "    <tr>\n",
       "      <th>4628</th>\n",
       "      <td>1</td>\n",
       "      <td>10780</td>\n",
       "    </tr>\n",
       "  </tbody>\n",
       "</table>\n",
       "<p>4629 rows × 2 columns</p>\n",
       "</div>"
      ],
      "text/plain": [
       "      MDCARE_DD_CNT  EDC_INSUR_BRDN_AMT\n",
       "0                 1                4570\n",
       "1                 2               12160\n",
       "2                 1                4570\n",
       "3                 1               10000\n",
       "4                 1                5810\n",
       "...             ...                 ...\n",
       "4624              1                6050\n",
       "4625              1                6050\n",
       "4626              1                6050\n",
       "4627              1                6380\n",
       "4628              1               10780\n",
       "\n",
       "[4629 rows x 2 columns]"
      ]
     },
     "execution_count": 18,
     "metadata": {},
     "output_type": "execute_result"
    }
   ],
   "source": [
    "df_MDCARE_DD_CNT = df_NHIS[['MDCARE_DD_CNT','EDC_INSUR_BRDN_AMT']]\n",
    "df_MDCARE_DD_CNT"
   ]
  },
  {
   "cell_type": "code",
   "execution_count": 19,
   "id": "e114df58-d9b4-4051-80dd-488e22773da4",
   "metadata": {
    "tags": []
   },
   "outputs": [
    {
     "data": {
      "text/plain": [
       "MDCARE_DD_CNT         0\n",
       "EDC_INSUR_BRDN_AMT    0\n",
       "dtype: int64"
      ]
     },
     "execution_count": 19,
     "metadata": {},
     "output_type": "execute_result"
    }
   ],
   "source": [
    "df_MDCARE_DD_CNT.isnull().sum()"
   ]
  },
  {
   "cell_type": "code",
   "execution_count": 20,
   "id": "d63ea192-04d0-4ca3-b752-af263d19aaa2",
   "metadata": {
    "tags": []
   },
   "outputs": [],
   "source": [
    "df_MDCARE_DD_CNT = df_MDCARE_DD_CNT.dropna().copy()"
   ]
  },
  {
   "cell_type": "code",
   "execution_count": 21,
   "id": "2188ca4e-cc4f-4383-a80b-92508eab636c",
   "metadata": {
    "tags": []
   },
   "outputs": [
    {
     "data": {
      "text/plain": [
       "PearsonRResult(statistic=0.24162171579064923, pvalue=1.7574341125238046e-62)"
      ]
     },
     "execution_count": 21,
     "metadata": {},
     "output_type": "execute_result"
    }
   ],
   "source": [
    "stats.pearsonr(df_MDCARE_DD_CNT['MDCARE_DD_CNT'], df_MDCARE_DD_CNT['EDC_INSUR_BRDN_AMT'])"
   ]
  },
  {
   "cell_type": "code",
   "execution_count": null,
   "id": "be36886b-6d23-4864-bc16-32a884164142",
   "metadata": {},
   "outputs": [],
   "source": []
  }
 ],
 "metadata": {
  "kernelspec": {
   "display_name": "Python 3 (ipykernel)",
   "language": "python",
   "name": "python3"
  },
  "language_info": {
   "codemirror_mode": {
    "name": "ipython",
    "version": 3
   },
   "file_extension": ".py",
   "mimetype": "text/x-python",
   "name": "python",
   "nbconvert_exporter": "python",
   "pygments_lexer": "ipython3",
   "version": "3.11.3"
  }
 },
 "nbformat": 4,
 "nbformat_minor": 5
}
