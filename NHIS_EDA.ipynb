{
 "cells": [
  {
   "cell_type": "code",
   "execution_count": 26,
   "id": "ed78dcee-cd22-4bde-b872-b5047d8778fa",
   "metadata": {
    "tags": []
   },
   "outputs": [],
   "source": [
    "import pandas as pd\n",
    "import numpy as np\n",
    "import matplotlib as mpl\n",
    "import matplotlib.pyplot as plt\n",
    "mpl.rc('font', family='Malgun Gothic')\n",
    "import seaborn as sns"
   ]
  },
  {
   "cell_type": "code",
   "execution_count": 27,
   "id": "5743f673-d686-4de3-9017-f72bf9507ca9",
   "metadata": {
    "tags": []
   },
   "outputs": [],
   "source": [
    "df_NHIS = pd.read_csv('./NBMQ_i10.csv')"
   ]
  },
  {
   "cell_type": "code",
   "execution_count": 28,
   "id": "6aa47935-c787-4baf-9ac7-248f5cd958a8",
   "metadata": {
    "tags": []
   },
   "outputs": [
    {
     "name": "stdout",
     "output_type": "stream",
     "text": [
      "<class 'pandas.core.frame.DataFrame'>\n",
      "RangeIndex: 4629 entries, 0 to 4628\n",
      "Data columns (total 9 columns):\n",
      " #   Column              Non-Null Count  Dtype \n",
      "---  ------              --------------  ----- \n",
      " 0   Unnamed: 0.1        4629 non-null   int64 \n",
      " 1   Unnamed: 0          4629 non-null   int64 \n",
      " 2   SICK_SYM1           4629 non-null   object\n",
      " 3   OPRTN_YN            4629 non-null   int64 \n",
      " 4   BTH_YYYY            4629 non-null   object\n",
      " 5   VSHSP_DD_CNT        4629 non-null   int64 \n",
      " 6   EDC_SBA             4629 non-null   int64 \n",
      " 7   MDCARE_DD_CNT       4629 non-null   int64 \n",
      " 8   EDC_INSUR_BRDN_AMT  4629 non-null   int64 \n",
      "dtypes: int64(7), object(2)\n",
      "memory usage: 325.6+ KB\n"
     ]
    }
   ],
   "source": [
    "df_NHIS.info()"
   ]
  },
  {
   "cell_type": "markdown",
   "id": "aac1785c-fedf-4861-b9f5-0571526c2743",
   "metadata": {},
   "source": [
    "### 상관관계 확인\n",
    " - 목표변수 : BTH_YYYY : 출생연도\n",
    " - 설명변수 \n",
    "    - OPRTN_YN : 수술유무.\n",
    "    - EDC_INSUR_BRDN_AMT : 심결보험자부담금\t심사결정 후 보험자가 부담해야할 금액\n",
    "    - VSHSP_DD_CNT : 입내원일수\n",
    "    - EDC_SBA : 심사결정 후 수진자가 부담해야할 금액\n",
    "    - MDCARE_DD_CNT : 요양일수진자를 진료한 총 일수(투약일수 포함)"
   ]
  },
  {
   "cell_type": "code",
   "execution_count": 29,
   "id": "825170b6-e458-467c-8109-9282faee0064",
   "metadata": {
    "tags": []
   },
   "outputs": [],
   "source": [
    "df_NHIS = df_NHIS.drop(columns=['Unnamed: 0','Unnamed: 0.1']).copy()"
   ]
  },
  {
   "cell_type": "code",
   "execution_count": 31,
   "id": "542e78b4-d719-4ddd-bf59-66f1f4b74417",
   "metadata": {
    "tags": []
   },
   "outputs": [
    {
     "name": "stdout",
     "output_type": "stream",
     "text": [
      "<class 'pandas.core.frame.DataFrame'>\n",
      "RangeIndex: 4629 entries, 0 to 4628\n",
      "Data columns (total 7 columns):\n",
      " #   Column              Non-Null Count  Dtype \n",
      "---  ------              --------------  ----- \n",
      " 0   SICK_SYM1           4629 non-null   object\n",
      " 1   OPRTN_YN            4629 non-null   int64 \n",
      " 2   BTH_YYYY            4629 non-null   object\n",
      " 3   VSHSP_DD_CNT        4629 non-null   int64 \n",
      " 4   EDC_SBA             4629 non-null   int64 \n",
      " 5   MDCARE_DD_CNT       4629 non-null   int64 \n",
      " 6   EDC_INSUR_BRDN_AMT  4629 non-null   int64 \n",
      "dtypes: int64(5), object(2)\n",
      "memory usage: 253.3+ KB\n"
     ]
    }
   ],
   "source": [
    "df_NHIS.info()"
   ]
  },
  {
   "cell_type": "code",
   "execution_count": 32,
   "id": "e96f5d9f-6432-4a23-9a48-e50eacba123d",
   "metadata": {
    "tags": []
   },
   "outputs": [
    {
     "data": {
      "text/html": [
       "<div>\n",
       "<style scoped>\n",
       "    .dataframe tbody tr th:only-of-type {\n",
       "        vertical-align: middle;\n",
       "    }\n",
       "\n",
       "    .dataframe tbody tr th {\n",
       "        vertical-align: top;\n",
       "    }\n",
       "\n",
       "    .dataframe thead th {\n",
       "        text-align: right;\n",
       "    }\n",
       "</style>\n",
       "<table border=\"1\" class=\"dataframe\">\n",
       "  <thead>\n",
       "    <tr style=\"text-align: right;\">\n",
       "      <th></th>\n",
       "      <th>OPRTN_YN</th>\n",
       "      <th>VSHSP_DD_CNT</th>\n",
       "      <th>EDC_SBA</th>\n",
       "      <th>MDCARE_DD_CNT</th>\n",
       "      <th>EDC_INSUR_BRDN_AMT</th>\n",
       "    </tr>\n",
       "  </thead>\n",
       "  <tbody>\n",
       "    <tr>\n",
       "      <th>count</th>\n",
       "      <td>4629.000000</td>\n",
       "      <td>4629.000000</td>\n",
       "      <td>4629.000000</td>\n",
       "      <td>4629.000000</td>\n",
       "      <td>4.629000e+03</td>\n",
       "    </tr>\n",
       "    <tr>\n",
       "      <th>mean</th>\n",
       "      <td>0.005833</td>\n",
       "      <td>1.197235</td>\n",
       "      <td>4627.070642</td>\n",
       "      <td>1.923094</td>\n",
       "      <td>1.107193e+04</td>\n",
       "    </tr>\n",
       "    <tr>\n",
       "      <th>std</th>\n",
       "      <td>0.229069</td>\n",
       "      <td>1.470314</td>\n",
       "      <td>17928.691046</td>\n",
       "      <td>5.055881</td>\n",
       "      <td>4.280973e+04</td>\n",
       "    </tr>\n",
       "    <tr>\n",
       "      <th>min</th>\n",
       "      <td>0.000000</td>\n",
       "      <td>1.000000</td>\n",
       "      <td>0.000000</td>\n",
       "      <td>1.000000</td>\n",
       "      <td>0.000000e+00</td>\n",
       "    </tr>\n",
       "    <tr>\n",
       "      <th>25%</th>\n",
       "      <td>0.000000</td>\n",
       "      <td>1.000000</td>\n",
       "      <td>1500.000000</td>\n",
       "      <td>1.000000</td>\n",
       "      <td>6.050000e+03</td>\n",
       "    </tr>\n",
       "    <tr>\n",
       "      <th>50%</th>\n",
       "      <td>0.000000</td>\n",
       "      <td>1.000000</td>\n",
       "      <td>2900.000000</td>\n",
       "      <td>1.000000</td>\n",
       "      <td>7.280000e+03</td>\n",
       "    </tr>\n",
       "    <tr>\n",
       "      <th>75%</th>\n",
       "      <td>0.000000</td>\n",
       "      <td>1.000000</td>\n",
       "      <td>3100.000000</td>\n",
       "      <td>1.000000</td>\n",
       "      <td>9.340000e+03</td>\n",
       "    </tr>\n",
       "    <tr>\n",
       "      <th>max</th>\n",
       "      <td>9.000000</td>\n",
       "      <td>37.000000</td>\n",
       "      <td>574770.000000</td>\n",
       "      <td>70.000000</td>\n",
       "      <td>1.563920e+06</td>\n",
       "    </tr>\n",
       "  </tbody>\n",
       "</table>\n",
       "</div>"
      ],
      "text/plain": [
       "          OPRTN_YN  VSHSP_DD_CNT        EDC_SBA  MDCARE_DD_CNT  \\\n",
       "count  4629.000000   4629.000000    4629.000000    4629.000000   \n",
       "mean      0.005833      1.197235    4627.070642       1.923094   \n",
       "std       0.229069      1.470314   17928.691046       5.055881   \n",
       "min       0.000000      1.000000       0.000000       1.000000   \n",
       "25%       0.000000      1.000000    1500.000000       1.000000   \n",
       "50%       0.000000      1.000000    2900.000000       1.000000   \n",
       "75%       0.000000      1.000000    3100.000000       1.000000   \n",
       "max       9.000000     37.000000  574770.000000      70.000000   \n",
       "\n",
       "       EDC_INSUR_BRDN_AMT  \n",
       "count        4.629000e+03  \n",
       "mean         1.107193e+04  \n",
       "std          4.280973e+04  \n",
       "min          0.000000e+00  \n",
       "25%          6.050000e+03  \n",
       "50%          7.280000e+03  \n",
       "75%          9.340000e+03  \n",
       "max          1.563920e+06  "
      ]
     },
     "execution_count": 32,
     "metadata": {},
     "output_type": "execute_result"
    }
   ],
   "source": [
    "df_NHIS.describe()"
   ]
  },
  {
   "cell_type": "code",
   "execution_count": 33,
   "id": "d1ffc70e-49e7-44e2-bb13-37304f70ed3b",
   "metadata": {
    "tags": []
   },
   "outputs": [
    {
     "data": {
      "text/html": [
       "<div>\n",
       "<style scoped>\n",
       "    .dataframe tbody tr th:only-of-type {\n",
       "        vertical-align: middle;\n",
       "    }\n",
       "\n",
       "    .dataframe tbody tr th {\n",
       "        vertical-align: top;\n",
       "    }\n",
       "\n",
       "    .dataframe thead th {\n",
       "        text-align: right;\n",
       "    }\n",
       "</style>\n",
       "<table border=\"1\" class=\"dataframe\">\n",
       "  <thead>\n",
       "    <tr style=\"text-align: right;\">\n",
       "      <th></th>\n",
       "      <th>SICK_SYM1</th>\n",
       "      <th>BTH_YYYY</th>\n",
       "    </tr>\n",
       "  </thead>\n",
       "  <tbody>\n",
       "    <tr>\n",
       "      <th>count</th>\n",
       "      <td>4629</td>\n",
       "      <td>4629</td>\n",
       "    </tr>\n",
       "    <tr>\n",
       "      <th>unique</th>\n",
       "      <td>1</td>\n",
       "      <td>64</td>\n",
       "    </tr>\n",
       "    <tr>\n",
       "      <th>top</th>\n",
       "      <td>I10</td>\n",
       "      <td>1940</td>\n",
       "    </tr>\n",
       "    <tr>\n",
       "      <th>freq</th>\n",
       "      <td>4629</td>\n",
       "      <td>240</td>\n",
       "    </tr>\n",
       "  </tbody>\n",
       "</table>\n",
       "</div>"
      ],
      "text/plain": [
       "       SICK_SYM1 BTH_YYYY\n",
       "count       4629     4629\n",
       "unique         1       64\n",
       "top          I10     1940\n",
       "freq        4629      240"
      ]
     },
     "execution_count": 33,
     "metadata": {},
     "output_type": "execute_result"
    }
   ],
   "source": [
    "df_NHIS.describe(include=object)"
   ]
  },
  {
   "cell_type": "code",
   "execution_count": 14,
   "id": "bbb02cd9-7a5d-402b-8e68-fede21278990",
   "metadata": {
    "tags": []
   },
   "outputs": [
    {
     "data": {
      "text/plain": [
       "0       1921LE\n",
       "1       1921LE\n",
       "2       1921LE\n",
       "3       1921LE\n",
       "4       1921LE\n",
       "         ...  \n",
       "4624      2005\n",
       "4625      2005\n",
       "4626      2005\n",
       "4627      2005\n",
       "4628      2005\n",
       "Name: BTH_YYYY, Length: 4629, dtype: object"
      ]
     },
     "execution_count": 14,
     "metadata": {},
     "output_type": "execute_result"
    }
   ],
   "source": [
    "sns.barplot(data=df_NHIS, x)"
   ]
  },
  {
   "cell_type": "code",
   "execution_count": 24,
   "id": "cdada3c2-7c89-4f0b-8d39-043a270fe48d",
   "metadata": {
    "tags": []
   },
   "outputs": [
    {
     "data": {
      "text/plain": [
       "<Axes: >"
      ]
     },
     "execution_count": 24,
     "metadata": {},
     "output_type": "execute_result"
    },
    {
     "data": {
      "image/png": "[encoded data removed]",
      "text/plain": [
       "<Figure size 640x480 with 1 Axes>"
      ]
     },
     "metadata": {},
     "output_type": "display_data"
    }
   ],
   "source": [
    "sns.bar"
   ]
  },
  {
   "cell_type": "code",
   "execution_count": 25,
   "id": "72d8a000-13ed-42a1-b84f-d99f1040f817",
   "metadata": {
    "tags": []
   },
   "outputs": [
    {
     "ename": "NameError",
     "evalue": "name 'df_ROS' is not defined",
     "output_type": "error",
     "traceback": [
      "\u001b[1;31m---------------------------------------------------------------------------\u001b[0m",
      "\u001b[1;31mNameError\u001b[0m                                 Traceback (most recent call last)",
      "Cell \u001b[1;32mIn[25], line 1\u001b[0m\n\u001b[1;32m----> 1\u001b[0m sns\u001b[38;5;241m.\u001b[39mhistplot(data\u001b[38;5;241m=\u001b[39mdf_ROS,kde\u001b[38;5;241m=\u001b[39m\u001b[38;5;28;01mTrue\u001b[39;00m)\n",
      "\u001b[1;31mNameError\u001b[0m: name 'df_ROS' is not defined"
     ]
    }
   ],
   "source": [
    "sns.histplot(data=df_ROS,kde=True)"
   ]
  },
  {
   "cell_type": "code",
   "execution_count": null,
   "id": "2f98e6ac-d432-4dc4-b93e-cb007eedc589",
   "metadata": {},
   "outputs": [],
   "source": []
  }
 ],
 "metadata": {
  "kernelspec": {
   "display_name": "Python 3 (ipykernel)",
   "language": "python",
   "name": "python3"
  },
  "language_info": {
   "codemirror_mode": {
    "name": "ipython",
    "version": 3
   },
   "file_extension": ".py",
   "mimetype": "text/x-python",
   "name": "python",
   "nbconvert_exporter": "python",
   "pygments_lexer": "ipython3",
   "version": "3.11.3"
  }
 },
 "nbformat": 4,
 "nbformat_minor": 5
}
