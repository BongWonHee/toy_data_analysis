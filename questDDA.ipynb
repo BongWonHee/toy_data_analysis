{
 "cells": [
  {
   "cell_type": "code",
   "execution_count": 1,
   "id": "cb674be4-6d6c-4ce8-8ad0-6936ff0b4364",
   "metadata": {
    "tags": []
   },
   "outputs": [],
   "source": [
    "import pandas as pd\n",
    "import numpy as np\n",
    "import matplotlib as mpl\n",
    "import matplotlib.pyplot as plt\n",
    "mpl.rc('font', family='Malgun Gothic')\n",
    "import seaborn as sns"
   ]
  },
  {
   "cell_type": "code",
   "execution_count": 3,
   "id": "853bc857-0771-4abd-ac40-df18ccbc2e0c",
   "metadata": {
    "tags": []
   },
   "outputs": [],
   "source": [
    "df_ROS = pd.read_csv('../study_data_analystics/datasets/RecurrenceOfSurgery.csv')"
   ]
  },
  {
   "cell_type": "code",
   "execution_count": 50,
   "id": "19f21613-6489-448d-b3b1-93274b85005b",
   "metadata": {
    "tags": []
   },
   "outputs": [
    {
     "data": {
      "text/plain": [
       "Index(['Unnamed: 0', '환자ID', 'Large Lymphocyte', 'Location of herniation',\n",
       "       'ODI', '가족력', '간질성폐질환', '고혈압여부', '과거수술횟수', '당뇨여부', '말초동맥질환여부', '빈혈여부',\n",
       "       '성별', '스테로이드치료', '신부전여부', '신장', '심혈관질환', '암발병여부', '연령', '우울증여부', '입원기간',\n",
       "       '입원일자', '종양진행여부', '직업', '체중', '퇴원일자', '헤모글로빈수치', '혈전합병증여부', '환자통증정도',\n",
       "       '흡연여부', '통증기간(월)', '수술기법', '수술시간', '수술실패여부', '수술일자', '재발여부', '혈액형',\n",
       "       '전방디스크높이(mm)', '후방디스크높이(mm)', '지방축적도', 'Instability', 'MF + ES',\n",
       "       'Modic change', 'PI', 'PT', 'Seg Angle(raw)', 'Vaccum disc', '골밀도',\n",
       "       '디스크단면적', '디스크위치', '척추이동척도', '척추전방위증'],\n",
       "      dtype='object')"
      ]
     },
     "execution_count": 50,
     "metadata": {},
     "output_type": "execute_result"
    }
   ],
   "source": [
    "df_ROS.columns"
   ]
  },
  {
   "cell_type": "code",
   "execution_count": 51,
   "id": "51ab2ec8-59c7-4549-bef7-e251600e8126",
   "metadata": {
    "tags": []
   },
   "outputs": [],
   "source": [
    "df_ROS_simple = df_ROS[['신장','체중','고혈압여부','당뇨여부','성별','연령','척추전방위증','디스크위치','PI','PT','Vaccum disc','입원기간']]"
   ]
  },
  {
   "cell_type": "code",
   "execution_count": 52,
   "id": "bfdf971d-cd5c-4832-ad35-48570799d075",
   "metadata": {
    "tags": []
   },
   "outputs": [
    {
     "name": "stdout",
     "output_type": "stream",
     "text": [
      "<class 'pandas.core.frame.DataFrame'>\n",
      "RangeIndex: 1894 entries, 0 to 1893\n",
      "Data columns (total 12 columns):\n",
      " #   Column       Non-Null Count  Dtype  \n",
      "---  ------       --------------  -----  \n",
      " 0   신장           1894 non-null   int64  \n",
      " 1   체중           1894 non-null   float64\n",
      " 2   고혈압여부        1894 non-null   int64  \n",
      " 3   당뇨여부         1894 non-null   int64  \n",
      " 4   성별           1894 non-null   int64  \n",
      " 5   연령           1894 non-null   int64  \n",
      " 6   척추전방위증       1894 non-null   int64  \n",
      " 7   디스크위치        1894 non-null   int64  \n",
      " 8   PI           1890 non-null   float64\n",
      " 9   PT           1890 non-null   float64\n",
      " 10  Vaccum disc  1894 non-null   int64  \n",
      " 11  입원기간         1894 non-null   int64  \n",
      "dtypes: float64(3), int64(9)\n",
      "memory usage: 177.7 KB\n"
     ]
    }
   ],
   "source": [
    "df_ROS_simple.info()"
   ]
  },
  {
   "cell_type": "code",
   "execution_count": 53,
   "id": "70f7944a-a53f-44c9-946f-8aab3d5996d7",
   "metadata": {
    "tags": []
   },
   "outputs": [
    {
     "name": "stdout",
     "output_type": "stream",
     "text": [
      "<class 'pandas.core.frame.DataFrame'>\n",
      "Int64Index: 1890 entries, 0 to 1893\n",
      "Data columns (total 12 columns):\n",
      " #   Column       Non-Null Count  Dtype  \n",
      "---  ------       --------------  -----  \n",
      " 0   신장           1890 non-null   int64  \n",
      " 1   체중           1890 non-null   float64\n",
      " 2   고혈압여부        1890 non-null   int64  \n",
      " 3   당뇨여부         1890 non-null   int64  \n",
      " 4   성별           1890 non-null   int64  \n",
      " 5   연령           1890 non-null   int64  \n",
      " 6   척추전방위증       1890 non-null   int64  \n",
      " 7   디스크위치        1890 non-null   int64  \n",
      " 8   PI           1890 non-null   float64\n",
      " 9   PT           1890 non-null   float64\n",
      " 10  Vaccum disc  1890 non-null   int64  \n",
      " 11  입원기간         1890 non-null   int64  \n",
      "dtypes: float64(3), int64(9)\n",
      "memory usage: 192.0 KB\n"
     ]
    }
   ],
   "source": [
    "df_ROS_simple=df_ROS_simple.dropna().copy()\n",
    "df_ROS_simple.info()"
   ]
  },
  {
   "cell_type": "code",
   "execution_count": 84,
   "id": "2a3ceab0-3d8a-497a-84d3-e6e1397623aa",
   "metadata": {
    "tags": []
   },
   "outputs": [],
   "source": [
    "df_ROS_simple.to_csv('./ROSquestdata.csv')"
   ]
  },
  {
   "cell_type": "code",
   "execution_count": 54,
   "id": "4d1462e0-61f3-4778-a6c3-64119f05f550",
   "metadata": {
    "tags": []
   },
   "outputs": [],
   "source": [
    "df_ROS_simple['성별'] = df_ROS_simple['성별'].astype(str)"
   ]
  },
  {
   "cell_type": "code",
   "execution_count": 55,
   "id": "7f875876-0452-4abc-9ca7-3e10850e50f2",
   "metadata": {
    "tags": []
   },
   "outputs": [
    {
     "name": "stdout",
     "output_type": "stream",
     "text": [
      "<class 'pandas.core.frame.DataFrame'>\n",
      "Int64Index: 1890 entries, 0 to 1893\n",
      "Data columns (total 12 columns):\n",
      " #   Column       Non-Null Count  Dtype  \n",
      "---  ------       --------------  -----  \n",
      " 0   신장           1890 non-null   int64  \n",
      " 1   체중           1890 non-null   float64\n",
      " 2   고혈압여부        1890 non-null   int64  \n",
      " 3   당뇨여부         1890 non-null   int64  \n",
      " 4   성별           1890 non-null   object \n",
      " 5   연령           1890 non-null   int64  \n",
      " 6   척추전방위증       1890 non-null   int64  \n",
      " 7   디스크위치        1890 non-null   int64  \n",
      " 8   PI           1890 non-null   float64\n",
      " 9   PT           1890 non-null   float64\n",
      " 10  Vaccum disc  1890 non-null   int64  \n",
      " 11  입원기간         1890 non-null   int64  \n",
      "dtypes: float64(3), int64(8), object(1)\n",
      "memory usage: 192.0+ KB\n"
     ]
    }
   ],
   "source": [
    "df_ROS_simple.info()"
   ]
  },
  {
   "cell_type": "code",
   "execution_count": 56,
   "id": "70dbd265-56aa-4513-a42b-838363ab2c5a",
   "metadata": {
    "tags": []
   },
   "outputs": [],
   "source": [
    "df_ROS_simple['신장'] = df_ROS_simple['신장']/100 "
   ]
  },
  {
   "cell_type": "code",
   "execution_count": 57,
   "id": "ba1ebe82-d84e-4d92-b910-a03c1fbd653f",
   "metadata": {
    "tags": []
   },
   "outputs": [
    {
     "data": {
      "text/plain": [
       "0       1.63\n",
       "1       1.71\n",
       "2       1.78\n",
       "3       1.74\n",
       "4       1.83\n",
       "        ... \n",
       "1889    1.57\n",
       "1890    1.57\n",
       "1891    1.67\n",
       "1892    1.77\n",
       "1893    1.68\n",
       "Name: 신장, Length: 1890, dtype: float64"
      ]
     },
     "execution_count": 57,
     "metadata": {},
     "output_type": "execute_result"
    }
   ],
   "source": [
    "df_ROS_simple['신장']"
   ]
  },
  {
   "cell_type": "code",
   "execution_count": 58,
   "id": "f97a5f0e-05cf-4e8b-ad0b-fff9e816a9fc",
   "metadata": {
    "tags": []
   },
   "outputs": [],
   "source": [
    "df_ROS_simple['BMI'] = df_ROS_simple['체중'] / (df_ROS_simple['신장'] * df_ROS_simple['신장'])"
   ]
  },
  {
   "cell_type": "code",
   "execution_count": 59,
   "id": "3d5418b5-01e6-4814-98a2-f62544823210",
   "metadata": {
    "tags": []
   },
   "outputs": [
    {
     "name": "stdout",
     "output_type": "stream",
     "text": [
      "<class 'pandas.core.frame.DataFrame'>\n",
      "Int64Index: 1890 entries, 0 to 1893\n",
      "Data columns (total 13 columns):\n",
      " #   Column       Non-Null Count  Dtype  \n",
      "---  ------       --------------  -----  \n",
      " 0   신장           1890 non-null   float64\n",
      " 1   체중           1890 non-null   float64\n",
      " 2   고혈압여부        1890 non-null   int64  \n",
      " 3   당뇨여부         1890 non-null   int64  \n",
      " 4   성별           1890 non-null   object \n",
      " 5   연령           1890 non-null   int64  \n",
      " 6   척추전방위증       1890 non-null   int64  \n",
      " 7   디스크위치        1890 non-null   int64  \n",
      " 8   PI           1890 non-null   float64\n",
      " 9   PT           1890 non-null   float64\n",
      " 10  Vaccum disc  1890 non-null   int64  \n",
      " 11  입원기간         1890 non-null   int64  \n",
      " 12  BMI          1890 non-null   float64\n",
      "dtypes: float64(5), int64(7), object(1)\n",
      "memory usage: 206.7+ KB\n"
     ]
    }
   ],
   "source": [
    "df_ROS_simple.info()"
   ]
  },
  {
   "cell_type": "code",
   "execution_count": 60,
   "id": "de8a9821-48c9-4be2-ab97-fb14259be62f",
   "metadata": {
    "tags": []
   },
   "outputs": [
    {
     "data": {
      "text/plain": [
       "0       2\n",
       "1       1\n",
       "2       1\n",
       "3       1\n",
       "4       2\n",
       "       ..\n",
       "1889    2\n",
       "1890    4\n",
       "1891    3\n",
       "1892    4\n",
       "1893    2\n",
       "Name: 입원기간, Length: 1890, dtype: int64"
      ]
     },
     "execution_count": 60,
     "metadata": {},
     "output_type": "execute_result"
    }
   ],
   "source": [
    "df_ROS_simple['입원기간']"
   ]
  },
  {
   "cell_type": "code",
   "execution_count": 61,
   "id": "e31b6c0c-f609-4146-a434-1aaeff4998e5",
   "metadata": {
    "tags": []
   },
   "outputs": [
    {
     "data": {
      "text/html": [
       "<div>\n",
       "<style scoped>\n",
       "    .dataframe tbody tr th:only-of-type {\n",
       "        vertical-align: middle;\n",
       "    }\n",
       "\n",
       "    .dataframe tbody tr th {\n",
       "        vertical-align: top;\n",
       "    }\n",
       "\n",
       "    .dataframe thead th {\n",
       "        text-align: right;\n",
       "    }\n",
       "</style>\n",
       "<table border=\"1\" class=\"dataframe\">\n",
       "  <thead>\n",
       "    <tr style=\"text-align: right;\">\n",
       "      <th></th>\n",
       "      <th>신장</th>\n",
       "      <th>체중</th>\n",
       "      <th>고혈압여부</th>\n",
       "      <th>당뇨여부</th>\n",
       "      <th>성별</th>\n",
       "      <th>연령</th>\n",
       "      <th>척추전방위증</th>\n",
       "      <th>디스크위치</th>\n",
       "      <th>PI</th>\n",
       "      <th>PT</th>\n",
       "      <th>Vaccum disc</th>\n",
       "      <th>입원기간</th>\n",
       "      <th>BMI</th>\n",
       "    </tr>\n",
       "  </thead>\n",
       "  <tbody>\n",
       "    <tr>\n",
       "      <th>0</th>\n",
       "      <td>1.63</td>\n",
       "      <td>60.3</td>\n",
       "      <td>0</td>\n",
       "      <td>0</td>\n",
       "      <td>2</td>\n",
       "      <td>66</td>\n",
       "      <td>0</td>\n",
       "      <td>4</td>\n",
       "      <td>51.6</td>\n",
       "      <td>36.6</td>\n",
       "      <td>0</td>\n",
       "      <td>2</td>\n",
       "      <td>22.695623</td>\n",
       "    </tr>\n",
       "    <tr>\n",
       "      <th>1</th>\n",
       "      <td>1.71</td>\n",
       "      <td>71.7</td>\n",
       "      <td>0</td>\n",
       "      <td>0</td>\n",
       "      <td>1</td>\n",
       "      <td>47</td>\n",
       "      <td>0</td>\n",
       "      <td>4</td>\n",
       "      <td>40.8</td>\n",
       "      <td>7.2</td>\n",
       "      <td>0</td>\n",
       "      <td>1</td>\n",
       "      <td>24.520365</td>\n",
       "    </tr>\n",
       "    <tr>\n",
       "      <th>2</th>\n",
       "      <td>1.78</td>\n",
       "      <td>77.1</td>\n",
       "      <td>0</td>\n",
       "      <td>0</td>\n",
       "      <td>1</td>\n",
       "      <td>39</td>\n",
       "      <td>0</td>\n",
       "      <td>4</td>\n",
       "      <td>67.5</td>\n",
       "      <td>27.3</td>\n",
       "      <td>0</td>\n",
       "      <td>1</td>\n",
       "      <td>24.334049</td>\n",
       "    </tr>\n",
       "    <tr>\n",
       "      <th>3</th>\n",
       "      <td>1.74</td>\n",
       "      <td>74.2</td>\n",
       "      <td>1</td>\n",
       "      <td>0</td>\n",
       "      <td>1</td>\n",
       "      <td>40</td>\n",
       "      <td>0</td>\n",
       "      <td>4</td>\n",
       "      <td>49.2</td>\n",
       "      <td>18.7</td>\n",
       "      <td>0</td>\n",
       "      <td>1</td>\n",
       "      <td>24.507861</td>\n",
       "    </tr>\n",
       "    <tr>\n",
       "      <th>4</th>\n",
       "      <td>1.83</td>\n",
       "      <td>80.7</td>\n",
       "      <td>1</td>\n",
       "      <td>0</td>\n",
       "      <td>1</td>\n",
       "      <td>42</td>\n",
       "      <td>0</td>\n",
       "      <td>4</td>\n",
       "      <td>58.8</td>\n",
       "      <td>14.7</td>\n",
       "      <td>0</td>\n",
       "      <td>2</td>\n",
       "      <td>24.097465</td>\n",
       "    </tr>\n",
       "    <tr>\n",
       "      <th>5</th>\n",
       "      <td>1.64</td>\n",
       "      <td>60.8</td>\n",
       "      <td>0</td>\n",
       "      <td>0</td>\n",
       "      <td>2</td>\n",
       "      <td>60</td>\n",
       "      <td>0</td>\n",
       "      <td>4</td>\n",
       "      <td>41.8</td>\n",
       "      <td>23.6</td>\n",
       "      <td>0</td>\n",
       "      <td>1</td>\n",
       "      <td>22.605592</td>\n",
       "    </tr>\n",
       "    <tr>\n",
       "      <th>6</th>\n",
       "      <td>1.75</td>\n",
       "      <td>74.8</td>\n",
       "      <td>0</td>\n",
       "      <td>1</td>\n",
       "      <td>1</td>\n",
       "      <td>47</td>\n",
       "      <td>0</td>\n",
       "      <td>4</td>\n",
       "      <td>41.9</td>\n",
       "      <td>17.4</td>\n",
       "      <td>1</td>\n",
       "      <td>1</td>\n",
       "      <td>24.424490</td>\n",
       "    </tr>\n",
       "    <tr>\n",
       "      <th>7</th>\n",
       "      <td>1.83</td>\n",
       "      <td>81.2</td>\n",
       "      <td>0</td>\n",
       "      <td>0</td>\n",
       "      <td>1</td>\n",
       "      <td>55</td>\n",
       "      <td>0</td>\n",
       "      <td>4</td>\n",
       "      <td>50.6</td>\n",
       "      <td>18.5</td>\n",
       "      <td>0</td>\n",
       "      <td>1</td>\n",
       "      <td>24.246768</td>\n",
       "    </tr>\n",
       "    <tr>\n",
       "      <th>8</th>\n",
       "      <td>1.68</td>\n",
       "      <td>69.2</td>\n",
       "      <td>0</td>\n",
       "      <td>0</td>\n",
       "      <td>1</td>\n",
       "      <td>52</td>\n",
       "      <td>0</td>\n",
       "      <td>4</td>\n",
       "      <td>48.8</td>\n",
       "      <td>13.6</td>\n",
       "      <td>1</td>\n",
       "      <td>1</td>\n",
       "      <td>24.518141</td>\n",
       "    </tr>\n",
       "    <tr>\n",
       "      <th>9</th>\n",
       "      <td>1.60</td>\n",
       "      <td>63.0</td>\n",
       "      <td>0</td>\n",
       "      <td>0</td>\n",
       "      <td>1</td>\n",
       "      <td>79</td>\n",
       "      <td>0</td>\n",
       "      <td>4</td>\n",
       "      <td>38.9</td>\n",
       "      <td>14.7</td>\n",
       "      <td>0</td>\n",
       "      <td>2</td>\n",
       "      <td>24.609375</td>\n",
       "    </tr>\n",
       "  </tbody>\n",
       "</table>\n",
       "</div>"
      ],
      "text/plain": [
       "     신장    체중  고혈압여부  당뇨여부 성별  연령  척추전방위증  디스크위치    PI    PT  Vaccum disc  \\\n",
       "0  1.63  60.3      0     0  2  66       0      4  51.6  36.6            0   \n",
       "1  1.71  71.7      0     0  1  47       0      4  40.8   7.2            0   \n",
       "2  1.78  77.1      0     0  1  39       0      4  67.5  27.3            0   \n",
       "3  1.74  74.2      1     0  1  40       0      4  49.2  18.7            0   \n",
       "4  1.83  80.7      1     0  1  42       0      4  58.8  14.7            0   \n",
       "5  1.64  60.8      0     0  2  60       0      4  41.8  23.6            0   \n",
       "6  1.75  74.8      0     1  1  47       0      4  41.9  17.4            1   \n",
       "7  1.83  81.2      0     0  1  55       0      4  50.6  18.5            0   \n",
       "8  1.68  69.2      0     0  1  52       0      4  48.8  13.6            1   \n",
       "9  1.60  63.0      0     0  1  79       0      4  38.9  14.7            0   \n",
       "\n",
       "   입원기간        BMI  \n",
       "0     2  22.695623  \n",
       "1     1  24.520365  \n",
       "2     1  24.334049  \n",
       "3     1  24.507861  \n",
       "4     2  24.097465  \n",
       "5     1  22.605592  \n",
       "6     1  24.424490  \n",
       "7     1  24.246768  \n",
       "8     1  24.518141  \n",
       "9     2  24.609375  "
      ]
     },
     "execution_count": 61,
     "metadata": {},
     "output_type": "execute_result"
    }
   ],
   "source": [
    "df_ROS_simple[:10]"
   ]
  },
  {
   "cell_type": "code",
   "execution_count": 63,
   "id": "4645c2a6-4f59-4511-af78-758be4e877fa",
   "metadata": {
    "tags": []
   },
   "outputs": [
    {
     "data": {
      "text/html": [
       "<div>\n",
       "<style scoped>\n",
       "    .dataframe tbody tr th:only-of-type {\n",
       "        vertical-align: middle;\n",
       "    }\n",
       "\n",
       "    .dataframe tbody tr th {\n",
       "        vertical-align: top;\n",
       "    }\n",
       "\n",
       "    .dataframe thead th {\n",
       "        text-align: right;\n",
       "    }\n",
       "</style>\n",
       "<table border=\"1\" class=\"dataframe\">\n",
       "  <thead>\n",
       "    <tr style=\"text-align: right;\">\n",
       "      <th></th>\n",
       "      <th>신장</th>\n",
       "      <th>체중</th>\n",
       "      <th>고혈압여부</th>\n",
       "      <th>당뇨여부</th>\n",
       "      <th>연령</th>\n",
       "      <th>척추전방위증</th>\n",
       "      <th>디스크위치</th>\n",
       "      <th>PI</th>\n",
       "      <th>PT</th>\n",
       "      <th>Vaccum disc</th>\n",
       "      <th>입원기간</th>\n",
       "      <th>BMI</th>\n",
       "    </tr>\n",
       "  </thead>\n",
       "  <tbody>\n",
       "    <tr>\n",
       "      <th>count</th>\n",
       "      <td>1890.000000</td>\n",
       "      <td>1890.000000</td>\n",
       "      <td>1890.000000</td>\n",
       "      <td>1890.000000</td>\n",
       "      <td>1890.000000</td>\n",
       "      <td>1890.000000</td>\n",
       "      <td>1890.000000</td>\n",
       "      <td>1890.000000</td>\n",
       "      <td>1890.000000</td>\n",
       "      <td>1890.000000</td>\n",
       "      <td>1890.000000</td>\n",
       "      <td>1890.000000</td>\n",
       "    </tr>\n",
       "    <tr>\n",
       "      <th>mean</th>\n",
       "      <td>1.680063</td>\n",
       "      <td>68.087937</td>\n",
       "      <td>0.131217</td>\n",
       "      <td>0.062963</td>\n",
       "      <td>41.481481</td>\n",
       "      <td>0.032275</td>\n",
       "      <td>4.430688</td>\n",
       "      <td>46.593651</td>\n",
       "      <td>16.329841</td>\n",
       "      <td>0.056614</td>\n",
       "      <td>1.737566</td>\n",
       "      <td>24.033627</td>\n",
       "    </tr>\n",
       "    <tr>\n",
       "      <th>std</th>\n",
       "      <td>0.092077</td>\n",
       "      <td>11.229924</td>\n",
       "      <td>0.337727</td>\n",
       "      <td>0.242961</td>\n",
       "      <td>13.447186</td>\n",
       "      <td>0.176777</td>\n",
       "      <td>3.599410</td>\n",
       "      <td>22.736211</td>\n",
       "      <td>8.421322</td>\n",
       "      <td>0.231164</td>\n",
       "      <td>2.346374</td>\n",
       "      <td>2.829239</td>\n",
       "    </tr>\n",
       "    <tr>\n",
       "      <th>min</th>\n",
       "      <td>1.400000</td>\n",
       "      <td>35.000000</td>\n",
       "      <td>0.000000</td>\n",
       "      <td>0.000000</td>\n",
       "      <td>15.000000</td>\n",
       "      <td>0.000000</td>\n",
       "      <td>1.000000</td>\n",
       "      <td>11.900000</td>\n",
       "      <td>-10.600000</td>\n",
       "      <td>0.000000</td>\n",
       "      <td>0.000000</td>\n",
       "      <td>14.479500</td>\n",
       "    </tr>\n",
       "    <tr>\n",
       "      <th>25%</th>\n",
       "      <td>1.610000</td>\n",
       "      <td>59.700000</td>\n",
       "      <td>0.000000</td>\n",
       "      <td>0.000000</td>\n",
       "      <td>32.000000</td>\n",
       "      <td>0.000000</td>\n",
       "      <td>4.000000</td>\n",
       "      <td>38.700000</td>\n",
       "      <td>10.500000</td>\n",
       "      <td>0.000000</td>\n",
       "      <td>1.000000</td>\n",
       "      <td>22.414666</td>\n",
       "    </tr>\n",
       "    <tr>\n",
       "      <th>50%</th>\n",
       "      <td>1.690000</td>\n",
       "      <td>67.950000</td>\n",
       "      <td>0.000000</td>\n",
       "      <td>0.000000</td>\n",
       "      <td>41.000000</td>\n",
       "      <td>0.000000</td>\n",
       "      <td>4.000000</td>\n",
       "      <td>45.100000</td>\n",
       "      <td>15.700000</td>\n",
       "      <td>0.000000</td>\n",
       "      <td>1.000000</td>\n",
       "      <td>24.163444</td>\n",
       "    </tr>\n",
       "    <tr>\n",
       "      <th>75%</th>\n",
       "      <td>1.750000</td>\n",
       "      <td>75.000000</td>\n",
       "      <td>0.000000</td>\n",
       "      <td>0.000000</td>\n",
       "      <td>49.000000</td>\n",
       "      <td>0.000000</td>\n",
       "      <td>4.000000</td>\n",
       "      <td>52.000000</td>\n",
       "      <td>21.400000</td>\n",
       "      <td>0.000000</td>\n",
       "      <td>2.000000</td>\n",
       "      <td>24.968010</td>\n",
       "    </tr>\n",
       "    <tr>\n",
       "      <th>max</th>\n",
       "      <td>2.040000</td>\n",
       "      <td>136.100000</td>\n",
       "      <td>1.000000</td>\n",
       "      <td>1.000000</td>\n",
       "      <td>86.000000</td>\n",
       "      <td>1.000000</td>\n",
       "      <td>45.000000</td>\n",
       "      <td>559.000000</td>\n",
       "      <td>48.700000</td>\n",
       "      <td>1.000000</td>\n",
       "      <td>51.000000</td>\n",
       "      <td>48.221372</td>\n",
       "    </tr>\n",
       "  </tbody>\n",
       "</table>\n",
       "</div>"
      ],
      "text/plain": [
       "                신장           체중        고혈압여부         당뇨여부           연령  \\\n",
       "count  1890.000000  1890.000000  1890.000000  1890.000000  1890.000000   \n",
       "mean      1.680063    68.087937     0.131217     0.062963    41.481481   \n",
       "std       0.092077    11.229924     0.337727     0.242961    13.447186   \n",
       "min       1.400000    35.000000     0.000000     0.000000    15.000000   \n",
       "25%       1.610000    59.700000     0.000000     0.000000    32.000000   \n",
       "50%       1.690000    67.950000     0.000000     0.000000    41.000000   \n",
       "75%       1.750000    75.000000     0.000000     0.000000    49.000000   \n",
       "max       2.040000   136.100000     1.000000     1.000000    86.000000   \n",
       "\n",
       "            척추전방위증        디스크위치           PI           PT  Vaccum disc  \\\n",
       "count  1890.000000  1890.000000  1890.000000  1890.000000  1890.000000   \n",
       "mean      0.032275     4.430688    46.593651    16.329841     0.056614   \n",
       "std       0.176777     3.599410    22.736211     8.421322     0.231164   \n",
       "min       0.000000     1.000000    11.900000   -10.600000     0.000000   \n",
       "25%       0.000000     4.000000    38.700000    10.500000     0.000000   \n",
       "50%       0.000000     4.000000    45.100000    15.700000     0.000000   \n",
       "75%       0.000000     4.000000    52.000000    21.400000     0.000000   \n",
       "max       1.000000    45.000000   559.000000    48.700000     1.000000   \n",
       "\n",
       "              입원기간          BMI  \n",
       "count  1890.000000  1890.000000  \n",
       "mean      1.737566    24.033627  \n",
       "std       2.346374     2.829239  \n",
       "min       0.000000    14.479500  \n",
       "25%       1.000000    22.414666  \n",
       "50%       1.000000    24.163444  \n",
       "75%       2.000000    24.968010  \n",
       "max      51.000000    48.221372  "
      ]
     },
     "execution_count": 63,
     "metadata": {},
     "output_type": "execute_result"
    }
   ],
   "source": [
    "df_ROS_simple.describe()"
   ]
  },
  {
   "cell_type": "code",
   "execution_count": 64,
   "id": "d9571f77-ac6e-4b20-88d1-a0da52cd1b0f",
   "metadata": {
    "tags": []
   },
   "outputs": [
    {
     "data": {
      "text/plain": [
       "Index(['신장', '체중', '고혈압여부', '당뇨여부', '연령', '척추전방위증', '디스크위치', 'PI', 'PT',\n",
       "       'Vaccum disc', '입원기간', 'BMI'],\n",
       "      dtype='object')"
      ]
     },
     "execution_count": 64,
     "metadata": {},
     "output_type": "execute_result"
    }
   ],
   "source": [
    "df_ROS_simple.describe().columns"
   ]
  },
  {
   "cell_type": "code",
   "execution_count": 74,
   "id": "a0de05d9-e8e9-429e-84d5-b66b4f6420f1",
   "metadata": {
    "tags": []
   },
   "outputs": [],
   "source": [
    "df_ROS_def = df_ROS_simple.drop(columns=['입원기간'])"
   ]
  },
  {
   "cell_type": "code",
   "execution_count": 75,
   "id": "656d0a5e-48f3-4ac2-8109-bb3c7534adb0",
   "metadata": {
    "tags": []
   },
   "outputs": [
    {
     "data": {
      "text/html": [
       "<div>\n",
       "<style scoped>\n",
       "    .dataframe tbody tr th:only-of-type {\n",
       "        vertical-align: middle;\n",
       "    }\n",
       "\n",
       "    .dataframe tbody tr th {\n",
       "        vertical-align: top;\n",
       "    }\n",
       "\n",
       "    .dataframe thead th {\n",
       "        text-align: right;\n",
       "    }\n",
       "</style>\n",
       "<table border=\"1\" class=\"dataframe\">\n",
       "  <thead>\n",
       "    <tr style=\"text-align: right;\">\n",
       "      <th></th>\n",
       "      <th>신장</th>\n",
       "      <th>체중</th>\n",
       "      <th>고혈압여부</th>\n",
       "      <th>당뇨여부</th>\n",
       "      <th>성별</th>\n",
       "      <th>연령</th>\n",
       "      <th>척추전방위증</th>\n",
       "      <th>디스크위치</th>\n",
       "      <th>PI</th>\n",
       "      <th>PT</th>\n",
       "      <th>Vaccum disc</th>\n",
       "      <th>BMI</th>\n",
       "    </tr>\n",
       "  </thead>\n",
       "  <tbody>\n",
       "    <tr>\n",
       "      <th>0</th>\n",
       "      <td>1.63</td>\n",
       "      <td>60.3</td>\n",
       "      <td>0</td>\n",
       "      <td>0</td>\n",
       "      <td>2</td>\n",
       "      <td>66</td>\n",
       "      <td>0</td>\n",
       "      <td>4</td>\n",
       "      <td>51.6</td>\n",
       "      <td>36.6</td>\n",
       "      <td>0</td>\n",
       "      <td>22.695623</td>\n",
       "    </tr>\n",
       "    <tr>\n",
       "      <th>1</th>\n",
       "      <td>1.71</td>\n",
       "      <td>71.7</td>\n",
       "      <td>0</td>\n",
       "      <td>0</td>\n",
       "      <td>1</td>\n",
       "      <td>47</td>\n",
       "      <td>0</td>\n",
       "      <td>4</td>\n",
       "      <td>40.8</td>\n",
       "      <td>7.2</td>\n",
       "      <td>0</td>\n",
       "      <td>24.520365</td>\n",
       "    </tr>\n",
       "    <tr>\n",
       "      <th>2</th>\n",
       "      <td>1.78</td>\n",
       "      <td>77.1</td>\n",
       "      <td>0</td>\n",
       "      <td>0</td>\n",
       "      <td>1</td>\n",
       "      <td>39</td>\n",
       "      <td>0</td>\n",
       "      <td>4</td>\n",
       "      <td>67.5</td>\n",
       "      <td>27.3</td>\n",
       "      <td>0</td>\n",
       "      <td>24.334049</td>\n",
       "    </tr>\n",
       "    <tr>\n",
       "      <th>3</th>\n",
       "      <td>1.74</td>\n",
       "      <td>74.2</td>\n",
       "      <td>1</td>\n",
       "      <td>0</td>\n",
       "      <td>1</td>\n",
       "      <td>40</td>\n",
       "      <td>0</td>\n",
       "      <td>4</td>\n",
       "      <td>49.2</td>\n",
       "      <td>18.7</td>\n",
       "      <td>0</td>\n",
       "      <td>24.507861</td>\n",
       "    </tr>\n",
       "    <tr>\n",
       "      <th>4</th>\n",
       "      <td>1.83</td>\n",
       "      <td>80.7</td>\n",
       "      <td>1</td>\n",
       "      <td>0</td>\n",
       "      <td>1</td>\n",
       "      <td>42</td>\n",
       "      <td>0</td>\n",
       "      <td>4</td>\n",
       "      <td>58.8</td>\n",
       "      <td>14.7</td>\n",
       "      <td>0</td>\n",
       "      <td>24.097465</td>\n",
       "    </tr>\n",
       "    <tr>\n",
       "      <th>...</th>\n",
       "      <td>...</td>\n",
       "      <td>...</td>\n",
       "      <td>...</td>\n",
       "      <td>...</td>\n",
       "      <td>...</td>\n",
       "      <td>...</td>\n",
       "      <td>...</td>\n",
       "      <td>...</td>\n",
       "      <td>...</td>\n",
       "      <td>...</td>\n",
       "      <td>...</td>\n",
       "      <td>...</td>\n",
       "    </tr>\n",
       "    <tr>\n",
       "      <th>1889</th>\n",
       "      <td>1.57</td>\n",
       "      <td>64.0</td>\n",
       "      <td>0</td>\n",
       "      <td>0</td>\n",
       "      <td>2</td>\n",
       "      <td>59</td>\n",
       "      <td>0</td>\n",
       "      <td>5</td>\n",
       "      <td>59.5</td>\n",
       "      <td>23.0</td>\n",
       "      <td>0</td>\n",
       "      <td>25.964542</td>\n",
       "    </tr>\n",
       "    <tr>\n",
       "      <th>1890</th>\n",
       "      <td>1.57</td>\n",
       "      <td>59.0</td>\n",
       "      <td>0</td>\n",
       "      <td>0</td>\n",
       "      <td>2</td>\n",
       "      <td>42</td>\n",
       "      <td>0</td>\n",
       "      <td>4</td>\n",
       "      <td>47.7</td>\n",
       "      <td>20.2</td>\n",
       "      <td>0</td>\n",
       "      <td>23.936062</td>\n",
       "    </tr>\n",
       "    <tr>\n",
       "      <th>1891</th>\n",
       "      <td>1.67</td>\n",
       "      <td>70.0</td>\n",
       "      <td>0</td>\n",
       "      <td>0</td>\n",
       "      <td>1</td>\n",
       "      <td>61</td>\n",
       "      <td>0</td>\n",
       "      <td>4</td>\n",
       "      <td>44.6</td>\n",
       "      <td>15.0</td>\n",
       "      <td>1</td>\n",
       "      <td>25.099502</td>\n",
       "    </tr>\n",
       "    <tr>\n",
       "      <th>1892</th>\n",
       "      <td>1.77</td>\n",
       "      <td>77.0</td>\n",
       "      <td>0</td>\n",
       "      <td>0</td>\n",
       "      <td>1</td>\n",
       "      <td>29</td>\n",
       "      <td>0</td>\n",
       "      <td>5</td>\n",
       "      <td>32.2</td>\n",
       "      <td>11.1</td>\n",
       "      <td>0</td>\n",
       "      <td>24.577867</td>\n",
       "    </tr>\n",
       "    <tr>\n",
       "      <th>1893</th>\n",
       "      <td>1.68</td>\n",
       "      <td>49.0</td>\n",
       "      <td>0</td>\n",
       "      <td>0</td>\n",
       "      <td>2</td>\n",
       "      <td>30</td>\n",
       "      <td>0</td>\n",
       "      <td>5</td>\n",
       "      <td>38.9</td>\n",
       "      <td>6.8</td>\n",
       "      <td>0</td>\n",
       "      <td>17.361111</td>\n",
       "    </tr>\n",
       "  </tbody>\n",
       "</table>\n",
       "<p>1890 rows × 12 columns</p>\n",
       "</div>"
      ],
      "text/plain": [
       "        신장    체중  고혈압여부  당뇨여부 성별  연령  척추전방위증  디스크위치    PI    PT  Vaccum disc  \\\n",
       "0     1.63  60.3      0     0  2  66       0      4  51.6  36.6            0   \n",
       "1     1.71  71.7      0     0  1  47       0      4  40.8   7.2            0   \n",
       "2     1.78  77.1      0     0  1  39       0      4  67.5  27.3            0   \n",
       "3     1.74  74.2      1     0  1  40       0      4  49.2  18.7            0   \n",
       "4     1.83  80.7      1     0  1  42       0      4  58.8  14.7            0   \n",
       "...    ...   ...    ...   ... ..  ..     ...    ...   ...   ...          ...   \n",
       "1889  1.57  64.0      0     0  2  59       0      5  59.5  23.0            0   \n",
       "1890  1.57  59.0      0     0  2  42       0      4  47.7  20.2            0   \n",
       "1891  1.67  70.0      0     0  1  61       0      4  44.6  15.0            1   \n",
       "1892  1.77  77.0      0     0  1  29       0      5  32.2  11.1            0   \n",
       "1893  1.68  49.0      0     0  2  30       0      5  38.9   6.8            0   \n",
       "\n",
       "            BMI  \n",
       "0     22.695623  \n",
       "1     24.520365  \n",
       "2     24.334049  \n",
       "3     24.507861  \n",
       "4     24.097465  \n",
       "...         ...  \n",
       "1889  25.964542  \n",
       "1890  23.936062  \n",
       "1891  25.099502  \n",
       "1892  24.577867  \n",
       "1893  17.361111  \n",
       "\n",
       "[1890 rows x 12 columns]"
      ]
     },
     "execution_count": 75,
     "metadata": {},
     "output_type": "execute_result"
    }
   ],
   "source": [
    "df_ROS_def"
   ]
  },
  {
   "cell_type": "code",
   "execution_count": 80,
   "id": "0de9d682-24aa-4d0b-8d19-58f5c94d08da",
   "metadata": {
    "tags": []
   },
   "outputs": [],
   "source": [
    "df_ROS_list = df_ROS_def.describe().columns.to_list()"
   ]
  },
  {
   "cell_type": "code",
   "execution_count": 82,
   "id": "a5ae449f-2259-43d9-9fcb-a4e4ce2a0b13",
   "metadata": {
    "tags": []
   },
   "outputs": [
    {
     "data": {
      "image/png": "[encoded data removed]",
      "text/plain": [
       "<Figure size 640x480 with 1 Axes>"
      ]
     },
     "metadata": {},
     "output_type": "display_data"
    },
    {
     "data": {
      "image/png": "[encoded data removed]",
      "text/plain": [
       "<Figure size 640x480 with 1 Axes>"
      ]
     },
     "metadata": {},
     "output_type": "display_data"
    },
    {
     "data": {
      "image/png": "[encoded data removed]",
      "text/plain": [
       "<Figure size 640x480 with 1 Axes>"
      ]
     },
     "metadata": {},
     "output_type": "display_data"
    },
    {
     "data": {
      "image/png": "[encoded data removed]",
      "text/plain": [
       "<Figure size 640x480 with 1 Axes>"
      ]
     },
     "metadata": {},
     "output_type": "display_data"
    },
    {
     "data": {
      "image/png": "[encoded data removed]",
      "text/plain": [
       "<Figure size 640x480 with 1 Axes>"
      ]
     },
     "metadata": {},
     "output_type": "display_data"
    },
    {
     "data": {
      "image/png": "[encoded data removed]",
      "text/plain": [
       "<Figure size 640x480 with 1 Axes>"
      ]
     },
     "metadata": {},
     "output_type": "display_data"
    },
    {
     "data": {
      "image/png": "[encoded data removed]",
      "text/plain": [
       "<Figure size 640x480 with 1 Axes>"
      ]
     },
     "metadata": {},
     "output_type": "display_data"
    },
    {
     "data": {
      "image/png": "[encoded data removed]",
      "text/plain": [
       "<Figure size 640x480 with 1 Axes>"
      ]
     },
     "metadata": {},
     "output_type": "display_data"
    },
    {
     "data": {
      "image/png": "[encoded data removed]",
      "text/plain": [
       "<Figure size 640x480 with 1 Axes>"
      ]
     },
     "metadata": {},
     "output_type": "display_data"
    },
    {
     "data": {
      "image/png": "[encoded data removed]",
      "text/plain": [
       "<Figure size 640x480 with 1 Axes>"
      ]
     },
     "metadata": {},
     "output_type": "display_data"
    },
    {
     "data": {
      "image/png": "[encoded data removed]",
      "text/plain": [
       "<Figure size 640x480 with 1 Axes>"
      ]
     },
     "metadata": {},
     "output_type": "display_data"
    }
   ],
   "source": [
    "for item in df_ROS_list:\n",
    "    sns.barplot(data=df_ROS_simple, x=item, y='입원기간')\n",
    "    plt.show()"
   ]
  }
 ],
 "metadata": {
  "kernelspec": {
   "display_name": "Python 3 (ipykernel)",
   "language": "python",
   "name": "python3"
  },
  "language_info": {
   "codemirror_mode": {
    "name": "ipython",
    "version": 3
   },
   "file_extension": ".py",
   "mimetype": "text/x-python",
   "name": "python",
   "nbconvert_exporter": "python",
   "pygments_lexer": "ipython3",
   "version": "3.11.3"
  }
 },
 "nbformat": 4,
 "nbformat_minor": 5
}
